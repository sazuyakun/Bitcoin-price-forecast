{
 "cells": [
  {
   "cell_type": "markdown",
   "id": "f184e902",
   "metadata": {},
   "source": [
    "# Analyzing the data"
   ]
  },
  {
   "cell_type": "code",
   "execution_count": 16,
   "id": "6bfb694b",
   "metadata": {},
   "outputs": [],
   "source": [
    "import pandas as pd\n",
    "\n",
    "df = pd.read_csv(\"data/Final_Btc_Data.csv\")"
   ]
  },
  {
   "cell_type": "code",
   "execution_count": 17,
   "id": "4f2c8e5c",
   "metadata": {},
   "outputs": [
    {
     "data": {
      "text/html": [
       "<div>\n",
       "<style scoped>\n",
       "    .dataframe tbody tr th:only-of-type {\n",
       "        vertical-align: middle;\n",
       "    }\n",
       "\n",
       "    .dataframe tbody tr th {\n",
       "        vertical-align: top;\n",
       "    }\n",
       "\n",
       "    .dataframe thead th {\n",
       "        text-align: right;\n",
       "    }\n",
       "</style>\n",
       "<table border=\"1\" class=\"dataframe\">\n",
       "  <thead>\n",
       "    <tr style=\"text-align: right;\">\n",
       "      <th></th>\n",
       "      <th>Date</th>\n",
       "      <th>Price</th>\n",
       "      <th>Open</th>\n",
       "      <th>High</th>\n",
       "      <th>Low</th>\n",
       "      <th>Vol.</th>\n",
       "      <th>Change %</th>\n",
       "      <th>EPU</th>\n",
       "      <th>GPRD</th>\n",
       "      <th>Gold</th>\n",
       "    </tr>\n",
       "  </thead>\n",
       "  <tbody>\n",
       "    <tr>\n",
       "      <th>0</th>\n",
       "      <td>2024-04-01</td>\n",
       "      <td>69664.4</td>\n",
       "      <td>71329.3</td>\n",
       "      <td>71329.3</td>\n",
       "      <td>68175.9</td>\n",
       "      <td>94050.0</td>\n",
       "      <td>-0.0234</td>\n",
       "      <td>173.811823</td>\n",
       "      <td>123.224617</td>\n",
       "      <td>2236.500000</td>\n",
       "    </tr>\n",
       "    <tr>\n",
       "      <th>1</th>\n",
       "      <td>2024-03-31</td>\n",
       "      <td>71332.0</td>\n",
       "      <td>69608.5</td>\n",
       "      <td>71367.5</td>\n",
       "      <td>69576.6</td>\n",
       "      <td>42450.0</td>\n",
       "      <td>0.0247</td>\n",
       "      <td>182.207713</td>\n",
       "      <td>119.953705</td>\n",
       "      <td>2217.399902</td>\n",
       "    </tr>\n",
       "    <tr>\n",
       "      <th>2</th>\n",
       "      <td>2024-03-30</td>\n",
       "      <td>69611.5</td>\n",
       "      <td>69872.3</td>\n",
       "      <td>70321.2</td>\n",
       "      <td>69564.9</td>\n",
       "      <td>29870.0</td>\n",
       "      <td>-0.0037</td>\n",
       "      <td>182.207713</td>\n",
       "      <td>161.588669</td>\n",
       "      <td>2217.399902</td>\n",
       "    </tr>\n",
       "    <tr>\n",
       "      <th>3</th>\n",
       "      <td>2024-03-29</td>\n",
       "      <td>69871.7</td>\n",
       "      <td>70766.7</td>\n",
       "      <td>70907.0</td>\n",
       "      <td>69090.9</td>\n",
       "      <td>58990.0</td>\n",
       "      <td>-0.0126</td>\n",
       "      <td>182.207713</td>\n",
       "      <td>126.193062</td>\n",
       "      <td>2217.399902</td>\n",
       "    </tr>\n",
       "    <tr>\n",
       "      <th>4</th>\n",
       "      <td>2024-03-28</td>\n",
       "      <td>70762.1</td>\n",
       "      <td>69449.4</td>\n",
       "      <td>71542.5</td>\n",
       "      <td>68956.9</td>\n",
       "      <td>72490.0</td>\n",
       "      <td>0.0190</td>\n",
       "      <td>182.207713</td>\n",
       "      <td>99.626099</td>\n",
       "      <td>2217.399902</td>\n",
       "    </tr>\n",
       "  </tbody>\n",
       "</table>\n",
       "</div>"
      ],
      "text/plain": [
       "         Date    Price     Open     High      Low     Vol.  Change %  \\\n",
       "0  2024-04-01  69664.4  71329.3  71329.3  68175.9  94050.0   -0.0234   \n",
       "1  2024-03-31  71332.0  69608.5  71367.5  69576.6  42450.0    0.0247   \n",
       "2  2024-03-30  69611.5  69872.3  70321.2  69564.9  29870.0   -0.0037   \n",
       "3  2024-03-29  69871.7  70766.7  70907.0  69090.9  58990.0   -0.0126   \n",
       "4  2024-03-28  70762.1  69449.4  71542.5  68956.9  72490.0    0.0190   \n",
       "\n",
       "          EPU        GPRD         Gold  \n",
       "0  173.811823  123.224617  2236.500000  \n",
       "1  182.207713  119.953705  2217.399902  \n",
       "2  182.207713  161.588669  2217.399902  \n",
       "3  182.207713  126.193062  2217.399902  \n",
       "4  182.207713   99.626099  2217.399902  "
      ]
     },
     "execution_count": 17,
     "metadata": {},
     "output_type": "execute_result"
    }
   ],
   "source": [
    "df.head()"
   ]
  }
 ],
 "metadata": {
  "kernelspec": {
   "display_name": "Python 3",
   "language": "python",
   "name": "python3"
  },
  "language_info": {
   "codemirror_mode": {
    "name": "ipython",
    "version": 3
   },
   "file_extension": ".py",
   "mimetype": "text/x-python",
   "name": "python",
   "nbconvert_exporter": "python",
   "pygments_lexer": "ipython3",
   "version": "3.11.13"
  }
 },
 "nbformat": 4,
 "nbformat_minor": 5
}

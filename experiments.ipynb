{
 "cells": [
  {
   "cell_type": "markdown",
   "id": "f184e902",
   "metadata": {},
   "source": [
    "# Analyzing the data"
   ]
  },
  {
   "cell_type": "code",
   "execution_count": 1,
   "id": "6bfb694b",
   "metadata": {},
   "outputs": [],
   "source": [
    "import pandas as pd\n",
    "\n",
    "df = pd.read_csv(\"data/Final_Btc_Data.csv\")"
   ]
  },
  {
   "cell_type": "code",
   "execution_count": 2,
   "id": "4f2c8e5c",
   "metadata": {},
   "outputs": [
    {
     "data": {
      "text/html": [
       "<div>\n",
       "<style scoped>\n",
       "    .dataframe tbody tr th:only-of-type {\n",
       "        vertical-align: middle;\n",
       "    }\n",
       "\n",
       "    .dataframe tbody tr th {\n",
       "        vertical-align: top;\n",
       "    }\n",
       "\n",
       "    .dataframe thead th {\n",
       "        text-align: right;\n",
       "    }\n",
       "</style>\n",
       "<table border=\"1\" class=\"dataframe\">\n",
       "  <thead>\n",
       "    <tr style=\"text-align: right;\">\n",
       "      <th></th>\n",
       "      <th>Date</th>\n",
       "      <th>Price</th>\n",
       "      <th>Open</th>\n",
       "      <th>High</th>\n",
       "      <th>Low</th>\n",
       "      <th>Vol.</th>\n",
       "      <th>Change %</th>\n",
       "      <th>EPU</th>\n",
       "      <th>GPRD</th>\n",
       "      <th>Gold</th>\n",
       "    </tr>\n",
       "  </thead>\n",
       "  <tbody>\n",
       "    <tr>\n",
       "      <th>0</th>\n",
       "      <td>2024-04-01</td>\n",
       "      <td>69,664.4</td>\n",
       "      <td>71,329.3</td>\n",
       "      <td>71,329.3</td>\n",
       "      <td>68,175.9</td>\n",
       "      <td>94.05K</td>\n",
       "      <td>-2.34%</td>\n",
       "      <td>173.811823</td>\n",
       "      <td>123.224617</td>\n",
       "      <td>2236.500000</td>\n",
       "    </tr>\n",
       "    <tr>\n",
       "      <th>1</th>\n",
       "      <td>2024-03-31</td>\n",
       "      <td>71,332.0</td>\n",
       "      <td>69,608.5</td>\n",
       "      <td>71,367.5</td>\n",
       "      <td>69,576.6</td>\n",
       "      <td>42.45K</td>\n",
       "      <td>2.47%</td>\n",
       "      <td>182.207713</td>\n",
       "      <td>119.953705</td>\n",
       "      <td>2217.399902</td>\n",
       "    </tr>\n",
       "    <tr>\n",
       "      <th>2</th>\n",
       "      <td>2024-03-30</td>\n",
       "      <td>69,611.5</td>\n",
       "      <td>69,872.3</td>\n",
       "      <td>70,321.2</td>\n",
       "      <td>69,564.9</td>\n",
       "      <td>29.87K</td>\n",
       "      <td>-0.37%</td>\n",
       "      <td>182.207713</td>\n",
       "      <td>161.588669</td>\n",
       "      <td>2217.399902</td>\n",
       "    </tr>\n",
       "    <tr>\n",
       "      <th>3</th>\n",
       "      <td>2024-03-29</td>\n",
       "      <td>69,871.7</td>\n",
       "      <td>70,766.7</td>\n",
       "      <td>70,907.0</td>\n",
       "      <td>69,090.9</td>\n",
       "      <td>58.99K</td>\n",
       "      <td>-1.26%</td>\n",
       "      <td>182.207713</td>\n",
       "      <td>126.193062</td>\n",
       "      <td>2217.399902</td>\n",
       "    </tr>\n",
       "    <tr>\n",
       "      <th>4</th>\n",
       "      <td>2024-03-28</td>\n",
       "      <td>70,762.1</td>\n",
       "      <td>69,449.4</td>\n",
       "      <td>71,542.5</td>\n",
       "      <td>68,956.9</td>\n",
       "      <td>72.49K</td>\n",
       "      <td>1.90%</td>\n",
       "      <td>182.207713</td>\n",
       "      <td>99.626099</td>\n",
       "      <td>2217.399902</td>\n",
       "    </tr>\n",
       "  </tbody>\n",
       "</table>\n",
       "</div>"
      ],
      "text/plain": [
       "         Date     Price      Open      High       Low    Vol. Change %  \\\n",
       "0  2024-04-01  69,664.4  71,329.3  71,329.3  68,175.9  94.05K   -2.34%   \n",
       "1  2024-03-31  71,332.0  69,608.5  71,367.5  69,576.6  42.45K    2.47%   \n",
       "2  2024-03-30  69,611.5  69,872.3  70,321.2  69,564.9  29.87K   -0.37%   \n",
       "3  2024-03-29  69,871.7  70,766.7  70,907.0  69,090.9  58.99K   -1.26%   \n",
       "4  2024-03-28  70,762.1  69,449.4  71,542.5  68,956.9  72.49K    1.90%   \n",
       "\n",
       "          EPU        GPRD         Gold  \n",
       "0  173.811823  123.224617  2236.500000  \n",
       "1  182.207713  119.953705  2217.399902  \n",
       "2  182.207713  161.588669  2217.399902  \n",
       "3  182.207713  126.193062  2217.399902  \n",
       "4  182.207713   99.626099  2217.399902  "
      ]
     },
     "execution_count": 2,
     "metadata": {},
     "output_type": "execute_result"
    }
   ],
   "source": [
    "df.head()"
   ]
  },
  {
   "cell_type": "code",
   "execution_count": 3,
   "id": "04f306c0",
   "metadata": {},
   "outputs": [
    {
     "data": {
      "text/plain": [
       "3654"
      ]
     },
     "execution_count": 3,
     "metadata": {},
     "output_type": "execute_result"
    }
   ],
   "source": [
    "# No. of rows\n",
    "df.shape[0]"
   ]
  },
  {
   "cell_type": "code",
   "execution_count": null,
   "id": "c46eeb30",
   "metadata": {},
   "outputs": [],
   "source": []
  }
 ],
 "metadata": {
  "kernelspec": {
   "display_name": "Python 3",
   "language": "python",
   "name": "python3"
  },
  "language_info": {
   "codemirror_mode": {
    "name": "ipython",
    "version": 3
   },
   "file_extension": ".py",
   "mimetype": "text/x-python",
   "name": "python",
   "nbconvert_exporter": "python",
   "pygments_lexer": "ipython3",
   "version": "3.11.13"
  }
 },
 "nbformat": 4,
 "nbformat_minor": 5
}

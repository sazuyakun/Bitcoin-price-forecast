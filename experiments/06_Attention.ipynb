{
 "cells": [
  {
   "cell_type": "code",
   "execution_count": 1,
   "id": "c3535ef1",
   "metadata": {},
   "outputs": [],
   "source": [
    "import sys\n",
    "sys.path.append(\"..\")"
   ]
  },
  {
   "cell_type": "code",
   "execution_count": 2,
   "id": "285f0ee6",
   "metadata": {},
   "outputs": [],
   "source": [
    "from tqdm import tqdm\n",
    "import pandas as pd\n",
    "import numpy as np\n",
    "\n",
    "import torch\n",
    "from torch.utils.data import TensorDataset, DataLoader\n",
    "import torch.nn as nn\n",
    "import torch.nn.functional as F\n",
    "\n",
    "from utils.helper import *"
   ]
  },
  {
   "cell_type": "code",
   "execution_count": 3,
   "id": "1b677a4c",
   "metadata": {},
   "outputs": [],
   "source": [
    "df = pd.read_csv(\"../data/Final_Btc_Data_with_Indicators.csv\", parse_dates=['Date'])\n",
    "\n",
    "K = 5\n",
    "df = scaled_data_vmd(df, _K=K)\n",
    "\n",
    "target_col = \"Price\"\n",
    "features = [col for col in df.columns if col != target_col and col != \"Date\"]\n",
    "\n",
    "seq_len = 5\n",
    "horizon = 1\n",
    "X, y = create_sequences(df[features].values, df[target_col].values, seq_len, horizon)"
   ]
  },
  {
   "cell_type": "code",
   "execution_count": 4,
   "id": "cc03954e",
   "metadata": {},
   "outputs": [],
   "source": [
    "batch_size = 256\n",
    "\n",
    "train_loader, val_loader, test_loader = data_loaders(df, X, y, batch_size=batch_size)"
   ]
  },
  {
   "cell_type": "markdown",
   "id": "352b70e9",
   "metadata": {},
   "source": [
    "## CNN-BiLSTM"
   ]
  },
  {
   "cell_type": "code",
   "execution_count": 5,
   "id": "009490c1",
   "metadata": {},
   "outputs": [],
   "source": [
    "class CNN_BiLSTM_Attention(nn.Module):\n",
    "    def __init__(self, input_dim, conv_filters=64, conv_kernel=3, lstm_hidden=64, num_bilstm_layers=2, attn_heads=8, attn_dim=128, dropout=0.25):\n",
    "        super().__init__()\n",
    "\n",
    "        # CNN layers\n",
    "        self.conv1 = nn.Conv1d(input_dim, conv_filters, kernel_size=conv_kernel, padding=conv_kernel//2)\n",
    "        self.conv2 = nn.Conv1d(conv_filters, conv_filters, kernel_size=conv_kernel, padding=conv_kernel//2)\n",
    "        self.relu = nn.ReLU()\n",
    "        self.dropout = nn.Dropout(dropout)\n",
    "\n",
    "        # BiLSTM layers\n",
    "        self.bilstm = nn.LSTM(\n",
    "            input_size=conv_filters,\n",
    "            hidden_size=lstm_hidden,\n",
    "            num_layers=num_bilstm_layers,\n",
    "            batch_first=True,\n",
    "            bidirectional=True,\n",
    "            dropout=dropout if num_bilstm_layers > 1 else 0\n",
    "        )\n",
    "\n",
    "        # Projection to attention dimension\n",
    "        self.proj = nn.Linear(2*lstm_hidden, attn_dim)\n",
    "\n",
    "        # Multi-head attention\n",
    "        self.attn = nn.MultiheadAttention(\n",
    "            embed_dim=attn_dim,\n",
    "            num_heads=attn_heads,\n",
    "            batch_first=True,\n",
    "            dropout=dropout\n",
    "        )\n",
    "\n",
    "        # Output layers\n",
    "        self.out_fc = nn.Sequential(\n",
    "            nn.Linear(attn_dim, 64),\n",
    "            nn.ReLU(),\n",
    "            nn.Dropout(dropout),\n",
    "            nn.Linear(64, 32),\n",
    "            nn.ReLU(),\n",
    "            nn.Linear(32, 1)\n",
    "        )\n",
    "\n",
    "    def forward(self, x):\n",
    "        # x: (batch_size, seq_len, input_dim)\n",
    "        x = x.permute(0, 2, 1)              # (batch_size, input_dim, seq_len)\n",
    "\n",
    "        # CNN layers\n",
    "        x = self.relu(self.conv1(x))\n",
    "        x = self.relu(self.conv2(x))\n",
    "        x = x.permute(0, 2, 1)              # (batch_size, seq_len, conv_filters)\n",
    "        x = self.dropout(x)\n",
    "\n",
    "        # BiLSTM\n",
    "        lstm_out, _ = self.bilstm(x)        # (batch_size, seq_len, 2*lstm_hidden)\n",
    "\n",
    "        # Project to attention dimension\n",
    "        projected = self.proj(lstm_out)     # (batch_size, seq_len, attn_dim)\n",
    "\n",
    "        # Self-attention\n",
    "        attn_out, attn_weights = self.attn(projected, projected, projected)\n",
    "\n",
    "        # Global average pooling over sequence dimension\n",
    "        pooled = attn_out.mean(dim=1)       # (batch_size, attn_dim)\n",
    "\n",
    "        # Output\n",
    "        output = self.out_fc(pooled)        # (batch_size, 1)\n",
    "        return output.squeeze(-1)"
   ]
  },
  {
   "cell_type": "code",
   "execution_count": 6,
   "id": "14ee12c5",
   "metadata": {},
   "outputs": [
    {
     "name": "stdout",
     "output_type": "stream",
     "text": [
      "Using device: mps\n"
     ]
    }
   ],
   "source": [
    "if torch.backends.mps.is_available():\n",
    "    device = torch.device(\"mps\")\n",
    "elif torch.cuda.is_available():\n",
    "    device = torch.device(\"cuda\")\n",
    "else:\n",
    "    device = torch.device(\"cpu\")\n",
    "\n",
    "print(f\"Using device: {device}\")"
   ]
  },
  {
   "cell_type": "code",
   "execution_count": 7,
   "id": "433246e6",
   "metadata": {},
   "outputs": [],
   "source": [
    "model = CNN_BiLSTM_Attention(input_dim=len(features))"
   ]
  },
  {
   "cell_type": "code",
   "execution_count": 8,
   "id": "1a714ba4",
   "metadata": {},
   "outputs": [],
   "source": [
    "decay_rate = 0.8\n",
    "num_epochs = 500\n",
    "learning_rate = 0.001\n",
    "l2_penalty = 0.001"
   ]
  },
  {
   "cell_type": "code",
   "execution_count": 9,
   "id": "b433b24b",
   "metadata": {},
   "outputs": [],
   "source": [
    "model = model.to(device)\n",
    "\n",
    "criterion = nn.MSELoss()\n",
    "optimizer = torch.optim.Adam(\n",
    "    model.parameters(),\n",
    "    lr=learning_rate,\n",
    "    # weight_decay=l2_penalty\n",
    ")\n",
    "\n",
    "# scheduler = torch.optim.lr_scheduler.ExponentialLR(\n",
    "#     optimizer,\n",
    "#     gamma=decay_rate\n",
    "# )\n",
    "scheduler = torch.optim.lr_scheduler.StepLR(\n",
    "    optimizer,\n",
    "    step_size=5,\n",
    "    gamma=decay_rate\n",
    ")"
   ]
  },
  {
   "cell_type": "code",
   "execution_count": 10,
   "id": "9eaaa2f1",
   "metadata": {},
   "outputs": [
    {
     "name": "stdout",
     "output_type": "stream",
     "text": [
      "Training on device: mps\n",
      "Model parameters: 287361\n",
      "========================================\n",
      "Epoch 1/500\n",
      "----------------------------------------\n"
     ]
    },
    {
     "name": "stderr",
     "output_type": "stream",
     "text": [
      "100%|██████████| 10/10 [00:08<00:00,  1.21it/s]\n",
      "100%|██████████| 2/2 [00:00<00:00,  3.93it/s]\n"
     ]
    },
    {
     "name": "stdout",
     "output_type": "stream",
     "text": [
      "Epoch [1/500] - Train Loss: 1.117563, Val Loss: 20.362697\n",
      "========================================\n",
      "Epoch 2/500\n",
      "----------------------------------------\n"
     ]
    },
    {
     "name": "stderr",
     "output_type": "stream",
     "text": [
      "100%|██████████| 10/10 [00:00<00:00, 78.79it/s]\n",
      "100%|██████████| 2/2 [00:00<00:00, 224.02it/s]\n"
     ]
    },
    {
     "name": "stdout",
     "output_type": "stream",
     "text": [
      "Epoch [2/500] - Train Loss: 1.074665, Val Loss: 20.167609\n",
      "========================================\n",
      "Epoch 3/500\n",
      "----------------------------------------\n"
     ]
    },
    {
     "name": "stderr",
     "output_type": "stream",
     "text": [
      "100%|██████████| 10/10 [00:00<00:00, 84.00it/s]\n",
      "100%|██████████| 2/2 [00:00<00:00, 216.92it/s]\n"
     ]
    },
    {
     "name": "stdout",
     "output_type": "stream",
     "text": [
      "Epoch [3/500] - Train Loss: 1.046103, Val Loss: 19.573591\n",
      "========================================\n",
      "Epoch 4/500\n",
      "----------------------------------------\n"
     ]
    },
    {
     "name": "stderr",
     "output_type": "stream",
     "text": [
      "100%|██████████| 10/10 [00:00<00:00, 80.26it/s]\n",
      "100%|██████████| 2/2 [00:00<00:00, 227.07it/s]\n"
     ]
    },
    {
     "name": "stdout",
     "output_type": "stream",
     "text": [
      "Epoch [4/500] - Train Loss: 1.017855, Val Loss: 19.287563\n",
      "========================================\n",
      "Epoch 5/500\n",
      "----------------------------------------\n"
     ]
    },
    {
     "name": "stderr",
     "output_type": "stream",
     "text": [
      "100%|██████████| 10/10 [00:00<00:00, 38.65it/s]\n",
      "100%|██████████| 2/2 [00:00<00:00, 153.07it/s]\n"
     ]
    },
    {
     "name": "stdout",
     "output_type": "stream",
     "text": [
      "Epoch [5/500] - Train Loss: 0.771521, Val Loss: 15.020547\n",
      "========================================\n",
      "Epoch 6/500\n",
      "----------------------------------------\n"
     ]
    },
    {
     "name": "stderr",
     "output_type": "stream",
     "text": [
      "100%|██████████| 10/10 [00:00<00:00, 73.31it/s]\n",
      "100%|██████████| 2/2 [00:00<00:00, 231.35it/s]\n"
     ]
    },
    {
     "name": "stdout",
     "output_type": "stream",
     "text": [
      "Epoch [6/500] - Train Loss: 0.431840, Val Loss: 9.766981\n",
      "========================================\n",
      "Epoch 7/500\n",
      "----------------------------------------\n"
     ]
    },
    {
     "name": "stderr",
     "output_type": "stream",
     "text": [
      "100%|██████████| 10/10 [00:00<00:00, 83.61it/s]\n",
      "100%|██████████| 2/2 [00:00<00:00, 218.46it/s]\n"
     ]
    },
    {
     "name": "stdout",
     "output_type": "stream",
     "text": [
      "Epoch [7/500] - Train Loss: 0.281824, Val Loss: 10.054803\n",
      "========================================\n",
      "Epoch 8/500\n",
      "----------------------------------------\n"
     ]
    },
    {
     "name": "stderr",
     "output_type": "stream",
     "text": [
      "100%|██████████| 10/10 [00:00<00:00, 85.02it/s]\n",
      "100%|██████████| 2/2 [00:00<00:00, 163.46it/s]\n"
     ]
    },
    {
     "name": "stdout",
     "output_type": "stream",
     "text": [
      "Epoch [8/500] - Train Loss: 0.681560, Val Loss: 9.056674\n",
      "========================================\n",
      "Epoch 9/500\n",
      "----------------------------------------\n"
     ]
    },
    {
     "name": "stderr",
     "output_type": "stream",
     "text": [
      "100%|██████████| 10/10 [00:00<00:00, 80.39it/s]\n",
      "100%|██████████| 2/2 [00:00<00:00, 236.10it/s]\n"
     ]
    },
    {
     "name": "stdout",
     "output_type": "stream",
     "text": [
      "Epoch [9/500] - Train Loss: 0.815308, Val Loss: 19.155024\n",
      "========================================\n",
      "Epoch 10/500\n",
      "----------------------------------------\n"
     ]
    },
    {
     "name": "stderr",
     "output_type": "stream",
     "text": [
      "100%|██████████| 10/10 [00:00<00:00, 86.45it/s]\n",
      "100%|██████████| 2/2 [00:00<00:00, 203.96it/s]\n"
     ]
    },
    {
     "name": "stdout",
     "output_type": "stream",
     "text": [
      "Epoch [10/500] - Train Loss: 0.776935, Val Loss: 18.233236\n",
      "========================================\n",
      "Epoch 11/500\n",
      "----------------------------------------\n"
     ]
    },
    {
     "name": "stderr",
     "output_type": "stream",
     "text": [
      "100%|██████████| 10/10 [00:00<00:00, 83.15it/s]\n",
      "100%|██████████| 2/2 [00:00<00:00, 123.73it/s]\n"
     ]
    },
    {
     "name": "stdout",
     "output_type": "stream",
     "text": [
      "Epoch [11/500] - Train Loss: 0.638523, Val Loss: 16.090588\n",
      "========================================\n",
      "Epoch 12/500\n",
      "----------------------------------------\n"
     ]
    },
    {
     "name": "stderr",
     "output_type": "stream",
     "text": [
      "100%|██████████| 10/10 [00:00<00:00, 36.83it/s]\n",
      "100%|██████████| 2/2 [00:00<00:00, 226.60it/s]\n"
     ]
    },
    {
     "name": "stdout",
     "output_type": "stream",
     "text": [
      "Epoch [12/500] - Train Loss: 0.419984, Val Loss: 11.732484\n",
      "========================================\n",
      "Epoch 13/500\n",
      "----------------------------------------\n"
     ]
    },
    {
     "name": "stderr",
     "output_type": "stream",
     "text": [
      "100%|██████████| 10/10 [00:00<00:00, 83.53it/s]\n",
      "100%|██████████| 2/2 [00:00<00:00, 207.50it/s]\n"
     ]
    },
    {
     "name": "stdout",
     "output_type": "stream",
     "text": [
      "Epoch [13/500] - Train Loss: 0.256374, Val Loss: 7.383898\n",
      "========================================\n",
      "Epoch 14/500\n",
      "----------------------------------------\n"
     ]
    },
    {
     "name": "stderr",
     "output_type": "stream",
     "text": [
      "100%|██████████| 10/10 [00:00<00:00, 83.13it/s]\n",
      "100%|██████████| 2/2 [00:00<00:00, 207.27it/s]\n"
     ]
    },
    {
     "name": "stdout",
     "output_type": "stream",
     "text": [
      "Epoch [14/500] - Train Loss: 0.515683, Val Loss: 9.465791\n",
      "========================================\n",
      "Epoch 15/500\n",
      "----------------------------------------\n"
     ]
    },
    {
     "name": "stderr",
     "output_type": "stream",
     "text": [
      "100%|██████████| 10/10 [00:00<00:00, 86.50it/s]\n",
      "100%|██████████| 2/2 [00:00<00:00, 211.15it/s]\n"
     ]
    },
    {
     "name": "stdout",
     "output_type": "stream",
     "text": [
      "Epoch [15/500] - Train Loss: 0.392432, Val Loss: 10.803308\n",
      "========================================\n",
      "Epoch 16/500\n",
      "----------------------------------------\n"
     ]
    },
    {
     "name": "stderr",
     "output_type": "stream",
     "text": [
      "100%|██████████| 10/10 [00:00<00:00, 87.03it/s]\n",
      "100%|██████████| 2/2 [00:00<00:00, 234.41it/s]\n"
     ]
    },
    {
     "name": "stdout",
     "output_type": "stream",
     "text": [
      "Epoch [16/500] - Train Loss: 1.112350, Val Loss: 20.949680\n",
      "========================================\n",
      "Epoch 17/500\n",
      "----------------------------------------\n"
     ]
    },
    {
     "name": "stderr",
     "output_type": "stream",
     "text": [
      "100%|██████████| 10/10 [00:00<00:00, 85.78it/s]\n",
      "100%|██████████| 2/2 [00:00<00:00, 214.22it/s]\n"
     ]
    },
    {
     "name": "stdout",
     "output_type": "stream",
     "text": [
      "Epoch [17/500] - Train Loss: 0.915349, Val Loss: 19.487415\n",
      "========================================\n",
      "Epoch 18/500\n",
      "----------------------------------------\n"
     ]
    },
    {
     "name": "stderr",
     "output_type": "stream",
     "text": [
      "100%|██████████| 10/10 [00:00<00:00, 86.09it/s]\n",
      "100%|██████████| 2/2 [00:00<00:00, 219.39it/s]\n"
     ]
    },
    {
     "name": "stdout",
     "output_type": "stream",
     "text": [
      "Epoch [18/500] - Train Loss: 0.673010, Val Loss: 15.839586\n",
      "========================================\n",
      "Epoch 19/500\n",
      "----------------------------------------\n"
     ]
    },
    {
     "name": "stderr",
     "output_type": "stream",
     "text": [
      "100%|██████████| 10/10 [00:00<00:00, 82.19it/s]\n",
      "100%|██████████| 2/2 [00:00<00:00, 185.46it/s]\n"
     ]
    },
    {
     "name": "stdout",
     "output_type": "stream",
     "text": [
      "Epoch [19/500] - Train Loss: 0.439868, Val Loss: 12.043601\n",
      "========================================\n",
      "Epoch 20/500\n",
      "----------------------------------------\n"
     ]
    },
    {
     "name": "stderr",
     "output_type": "stream",
     "text": [
      "100%|██████████| 10/10 [00:00<00:00, 84.80it/s]\n",
      "100%|██████████| 2/2 [00:00<00:00, 215.35it/s]\n"
     ]
    },
    {
     "name": "stdout",
     "output_type": "stream",
     "text": [
      "Epoch [20/500] - Train Loss: 0.588514, Val Loss: 15.238502\n",
      "========================================\n",
      "Epoch 21/500\n",
      "----------------------------------------\n"
     ]
    },
    {
     "name": "stderr",
     "output_type": "stream",
     "text": [
      "100%|██████████| 10/10 [00:00<00:00, 82.85it/s]\n",
      "100%|██████████| 2/2 [00:00<00:00, 165.59it/s]\n"
     ]
    },
    {
     "name": "stdout",
     "output_type": "stream",
     "text": [
      "Epoch [21/500] - Train Loss: 0.704988, Val Loss: 15.670162\n",
      "========================================\n",
      "Epoch 22/500\n",
      "----------------------------------------\n"
     ]
    },
    {
     "name": "stderr",
     "output_type": "stream",
     "text": [
      "100%|██████████| 10/10 [00:00<00:00, 79.38it/s]\n",
      "100%|██████████| 2/2 [00:00<00:00, 222.75it/s]\n"
     ]
    },
    {
     "name": "stdout",
     "output_type": "stream",
     "text": [
      "Epoch [22/500] - Train Loss: 0.669102, Val Loss: 14.450163\n",
      "========================================\n",
      "Epoch 23/500\n",
      "----------------------------------------\n"
     ]
    },
    {
     "name": "stderr",
     "output_type": "stream",
     "text": [
      "100%|██████████| 10/10 [00:00<00:00, 72.21it/s]\n",
      "100%|██████████| 2/2 [00:00<00:00, 209.30it/s]\n"
     ]
    },
    {
     "name": "stdout",
     "output_type": "stream",
     "text": [
      "Epoch [23/500] - Train Loss: 0.658401, Val Loss: 15.093428\n",
      "========================================\n",
      "Epoch 24/500\n",
      "----------------------------------------\n"
     ]
    },
    {
     "name": "stderr",
     "output_type": "stream",
     "text": [
      "100%|██████████| 10/10 [00:00<00:00, 80.65it/s]\n",
      "100%|██████████| 2/2 [00:00<00:00, 188.38it/s]\n"
     ]
    },
    {
     "name": "stdout",
     "output_type": "stream",
     "text": [
      "Epoch [24/500] - Train Loss: 0.667994, Val Loss: 15.361237\n",
      "========================================\n",
      "Epoch 25/500\n",
      "----------------------------------------\n"
     ]
    },
    {
     "name": "stderr",
     "output_type": "stream",
     "text": [
      "100%|██████████| 10/10 [00:00<00:00, 47.98it/s]\n",
      "100%|██████████| 2/2 [00:00<00:00, 217.11it/s]\n"
     ]
    },
    {
     "name": "stdout",
     "output_type": "stream",
     "text": [
      "Epoch [25/500] - Train Loss: 0.749990, Val Loss: 15.719604\n",
      "========================================\n",
      "Epoch 26/500\n",
      "----------------------------------------\n"
     ]
    },
    {
     "name": "stderr",
     "output_type": "stream",
     "text": [
      "100%|██████████| 10/10 [00:00<00:00, 81.68it/s]\n",
      "100%|██████████| 2/2 [00:00<00:00, 206.68it/s]\n"
     ]
    },
    {
     "name": "stdout",
     "output_type": "stream",
     "text": [
      "Epoch [26/500] - Train Loss: 0.763171, Val Loss: 12.096676\n",
      "========================================\n",
      "Epoch 27/500\n",
      "----------------------------------------\n"
     ]
    },
    {
     "name": "stderr",
     "output_type": "stream",
     "text": [
      "100%|██████████| 10/10 [00:00<00:00, 82.14it/s]\n",
      "100%|██████████| 2/2 [00:00<00:00, 230.68it/s]\n"
     ]
    },
    {
     "name": "stdout",
     "output_type": "stream",
     "text": [
      "Epoch [27/500] - Train Loss: 0.755401, Val Loss: 16.573510\n",
      "========================================\n",
      "Epoch 28/500\n",
      "----------------------------------------\n"
     ]
    },
    {
     "name": "stderr",
     "output_type": "stream",
     "text": [
      "100%|██████████| 10/10 [00:00<00:00, 81.38it/s]\n",
      "100%|██████████| 2/2 [00:00<00:00, 196.29it/s]\n"
     ]
    },
    {
     "name": "stdout",
     "output_type": "stream",
     "text": [
      "Epoch [28/500] - Train Loss: 0.663912, Val Loss: 14.235140\n",
      "========================================\n",
      "Epoch 29/500\n",
      "----------------------------------------\n"
     ]
    },
    {
     "name": "stderr",
     "output_type": "stream",
     "text": [
      "100%|██████████| 10/10 [00:00<00:00, 85.70it/s]\n",
      "100%|██████████| 2/2 [00:00<00:00, 207.66it/s]\n"
     ]
    },
    {
     "name": "stdout",
     "output_type": "stream",
     "text": [
      "Epoch [29/500] - Train Loss: 0.621072, Val Loss: 11.787260\n",
      "========================================\n",
      "Epoch 30/500\n",
      "----------------------------------------\n"
     ]
    },
    {
     "name": "stderr",
     "output_type": "stream",
     "text": [
      "100%|██████████| 10/10 [00:00<00:00, 84.91it/s]\n",
      "100%|██████████| 2/2 [00:00<00:00, 194.04it/s]\n"
     ]
    },
    {
     "name": "stdout",
     "output_type": "stream",
     "text": [
      "Epoch [30/500] - Train Loss: 0.692751, Val Loss: 12.952141\n",
      "========================================\n",
      "Epoch 31/500\n",
      "----------------------------------------\n"
     ]
    },
    {
     "name": "stderr",
     "output_type": "stream",
     "text": [
      "100%|██████████| 10/10 [00:00<00:00, 79.15it/s]\n",
      "100%|██████████| 2/2 [00:00<00:00, 212.46it/s]\n"
     ]
    },
    {
     "name": "stdout",
     "output_type": "stream",
     "text": [
      "Epoch [31/500] - Train Loss: 0.738730, Val Loss: 14.454411\n",
      "========================================\n",
      "Epoch 32/500\n",
      "----------------------------------------\n"
     ]
    },
    {
     "name": "stderr",
     "output_type": "stream",
     "text": [
      "100%|██████████| 10/10 [00:00<00:00, 80.63it/s]\n",
      "100%|██████████| 2/2 [00:00<00:00, 204.10it/s]\n"
     ]
    },
    {
     "name": "stdout",
     "output_type": "stream",
     "text": [
      "Epoch [32/500] - Train Loss: 0.638077, Val Loss: 13.865949\n",
      "========================================\n",
      "Epoch 33/500\n",
      "----------------------------------------\n"
     ]
    },
    {
     "name": "stderr",
     "output_type": "stream",
     "text": [
      "100%|██████████| 10/10 [00:00<00:00, 80.45it/s]\n",
      "100%|██████████| 2/2 [00:00<00:00, 212.42it/s]\n"
     ]
    },
    {
     "name": "stdout",
     "output_type": "stream",
     "text": [
      "Epoch [33/500] - Train Loss: 0.711193, Val Loss: 14.919642\n",
      "========================================\n",
      "Epoch 34/500\n",
      "----------------------------------------\n"
     ]
    },
    {
     "name": "stderr",
     "output_type": "stream",
     "text": [
      "100%|██████████| 10/10 [00:00<00:00, 49.13it/s]\n",
      "100%|██████████| 2/2 [00:00<00:00, 201.69it/s]\n"
     ]
    },
    {
     "name": "stdout",
     "output_type": "stream",
     "text": [
      "Epoch [34/500] - Train Loss: 0.674700, Val Loss: 14.110635\n",
      "========================================\n",
      "Epoch 35/500\n",
      "----------------------------------------\n"
     ]
    },
    {
     "name": "stderr",
     "output_type": "stream",
     "text": [
      "100%|██████████| 10/10 [00:00<00:00, 79.37it/s]\n",
      "100%|██████████| 2/2 [00:00<00:00, 220.43it/s]\n"
     ]
    },
    {
     "name": "stdout",
     "output_type": "stream",
     "text": [
      "Epoch [35/500] - Train Loss: 0.679042, Val Loss: 15.158752\n",
      "========================================\n",
      "Epoch 36/500\n",
      "----------------------------------------\n"
     ]
    },
    {
     "name": "stderr",
     "output_type": "stream",
     "text": [
      "100%|██████████| 10/10 [00:00<00:00, 81.78it/s]\n",
      "100%|██████████| 2/2 [00:00<00:00, 213.49it/s]\n"
     ]
    },
    {
     "name": "stdout",
     "output_type": "stream",
     "text": [
      "Epoch [36/500] - Train Loss: 0.682114, Val Loss: 14.927497\n",
      "========================================\n",
      "Epoch 37/500\n",
      "----------------------------------------\n"
     ]
    },
    {
     "name": "stderr",
     "output_type": "stream",
     "text": [
      "100%|██████████| 10/10 [00:00<00:00, 76.21it/s]\n",
      "100%|██████████| 2/2 [00:00<00:00, 189.95it/s]\n"
     ]
    },
    {
     "name": "stdout",
     "output_type": "stream",
     "text": [
      "Epoch [37/500] - Train Loss: 0.686596, Val Loss: 15.452375\n",
      "========================================\n",
      "Epoch 38/500\n",
      "----------------------------------------\n"
     ]
    },
    {
     "name": "stderr",
     "output_type": "stream",
     "text": [
      "100%|██████████| 10/10 [00:00<00:00, 77.54it/s]\n",
      "100%|██████████| 2/2 [00:00<00:00, 22.91it/s]\n"
     ]
    },
    {
     "name": "stdout",
     "output_type": "stream",
     "text": [
      "Epoch [38/500] - Train Loss: 0.675921, Val Loss: 15.587967\n",
      "========================================\n",
      "Epoch 39/500\n",
      "----------------------------------------\n"
     ]
    },
    {
     "name": "stderr",
     "output_type": "stream",
     "text": [
      "100%|██████████| 10/10 [00:00<00:00, 48.64it/s]\n",
      "100%|██████████| 2/2 [00:00<00:00, 208.81it/s]\n"
     ]
    },
    {
     "name": "stdout",
     "output_type": "stream",
     "text": [
      "Epoch [39/500] - Train Loss: 0.745435, Val Loss: 16.004647\n",
      "========================================\n",
      "Epoch 40/500\n",
      "----------------------------------------\n"
     ]
    },
    {
     "name": "stderr",
     "output_type": "stream",
     "text": [
      "100%|██████████| 10/10 [00:00<00:00, 71.06it/s]\n",
      "100%|██████████| 2/2 [00:00<00:00, 207.11it/s]\n"
     ]
    },
    {
     "name": "stdout",
     "output_type": "stream",
     "text": [
      "Epoch [40/500] - Train Loss: 0.696372, Val Loss: 15.847534\n",
      "========================================\n",
      "Epoch 41/500\n",
      "----------------------------------------\n"
     ]
    },
    {
     "name": "stderr",
     "output_type": "stream",
     "text": [
      "100%|██████████| 10/10 [00:00<00:00, 35.92it/s]\n",
      "100%|██████████| 2/2 [00:00<00:00, 182.93it/s]\n"
     ]
    },
    {
     "name": "stdout",
     "output_type": "stream",
     "text": [
      "Epoch [41/500] - Train Loss: 0.692147, Val Loss: 15.386632\n",
      "========================================\n",
      "Epoch 42/500\n",
      "----------------------------------------\n"
     ]
    },
    {
     "name": "stderr",
     "output_type": "stream",
     "text": [
      "100%|██████████| 10/10 [00:00<00:00, 70.19it/s]\n",
      "100%|██████████| 2/2 [00:00<00:00, 212.47it/s]\n"
     ]
    },
    {
     "name": "stdout",
     "output_type": "stream",
     "text": [
      "Epoch [42/500] - Train Loss: 0.714071, Val Loss: 14.099500\n",
      "========================================\n",
      "Epoch 43/500\n",
      "----------------------------------------\n"
     ]
    },
    {
     "name": "stderr",
     "output_type": "stream",
     "text": [
      "100%|██████████| 10/10 [00:00<00:00, 74.94it/s]\n",
      "100%|██████████| 2/2 [00:00<00:00, 180.54it/s]"
     ]
    },
    {
     "name": "stdout",
     "output_type": "stream",
     "text": [
      "Epoch [43/500] - Train Loss: 0.675587, Val Loss: 14.301513\n",
      "Early stopping triggered after epoch 43\n",
      "\n",
      "Best validation loss: 7.383898\n"
     ]
    },
    {
     "name": "stderr",
     "output_type": "stream",
     "text": [
      "\n"
     ]
    }
   ],
   "source": [
    "best_val_loss = float('inf')\n",
    "patience = 30\n",
    "patience_counter = 0\n",
    "\n",
    "train_losses = []\n",
    "val_losses = []\n",
    "\n",
    "print(f\"Training on device: {device}\")\n",
    "print(f\"Model parameters: {sum(p.numel() for p in model.parameters())}\")\n",
    "\n",
    "for epoch in range(num_epochs):\n",
    "\n",
    "    print(f\"{'='*40}\")\n",
    "    print(f\"Epoch {epoch+1}/{num_epochs}\")\n",
    "    print(f\"{'-'*40}\")\n",
    "\n",
    "    model.train()\n",
    "    train_loss = 0.0\n",
    "\n",
    "    for batch_x, batch_y in tqdm(train_loader):\n",
    "        batch_x, batch_y = batch_x.to(device), batch_y.to(device)\n",
    "\n",
    "        # Zero gradients\n",
    "        optimizer.zero_grad()\n",
    "\n",
    "        # Forward pass\n",
    "        outputs = model(batch_x)\n",
    "        loss = criterion(outputs, batch_y)\n",
    "\n",
    "        # Backward pass\n",
    "        loss.backward()\n",
    "        optimizer.step()\n",
    "\n",
    "        train_loss += loss.item()\n",
    "\n",
    "\n",
    "    model.eval()\n",
    "    val_loss = 0.0\n",
    "\n",
    "    with torch.no_grad():\n",
    "        for batch_x, batch_y in tqdm(val_loader):\n",
    "            batch_x, batch_y = batch_x.to(device), batch_y.to(device)\n",
    "\n",
    "            outputs = model(batch_x)\n",
    "            loss = criterion(outputs, batch_y)\n",
    "            val_loss += loss.item()\n",
    "\n",
    "    avg_train_loss = train_loss / len(train_loader)\n",
    "    avg_val_loss = val_loss / len(val_loader)\n",
    "\n",
    "    train_losses.append(avg_train_loss)\n",
    "    val_losses.append(avg_val_loss)\n",
    "\n",
    "    # scheduler.step()\n",
    "\n",
    "    # Early stopping\n",
    "    if avg_val_loss < best_val_loss:\n",
    "        best_val_loss = avg_val_loss\n",
    "        patience_counter = 0\n",
    "        # torch.save(model.state_dict(), '../models/cnn_bilstm15.pth')\n",
    "    else:\n",
    "        patience_counter += 1\n",
    "\n",
    "    # if epoch % 10 == 0 or epoch == num_epochs - 1:\n",
    "    print(f'Epoch [{epoch+1}/{num_epochs}] - Train Loss: {avg_train_loss:.6f}, Val Loss: {avg_val_loss:.6f}')\n",
    "\n",
    "    # Early stopping check\n",
    "    if patience_counter >= patience:\n",
    "        print(f'Early stopping triggered after epoch {epoch+1}')\n",
    "        break\n",
    "\n",
    "print(f'\\nBest validation loss: {best_val_loss:.6f}')"
   ]
  },
  {
   "cell_type": "code",
   "execution_count": 19,
   "id": "4155aced",
   "metadata": {},
   "outputs": [
    {
     "data": {
      "image/png": "[encoded data removed]",
      "text/plain": [
       "<Figure size 1000x500 with 1 Axes>"
      ]
     },
     "metadata": {},
     "output_type": "display_data"
    }
   ],
   "source": [
    "import matplotlib.pyplot as plt\n",
    "\n",
    "# Plot training and validation losses\n",
    "plt.figure(figsize=(10, 5))\n",
    "plt.plot(train_losses, label='Train Loss', color='blue')\n",
    "plt.plot(val_losses, label='Validation Loss', color='orange')\n",
    "plt.xlabel('Epochs')\n",
    "plt.ylabel('Loss')\n",
    "plt.title('Training and Validation Losses')\n",
    "plt.legend()\n",
    "plt.grid()\n",
    "plt.show()"
   ]
  },
  {
   "cell_type": "code",
   "execution_count": 20,
   "id": "91de50f7",
   "metadata": {},
   "outputs": [
    {
     "name": "stdout",
     "output_type": "stream",
     "text": [
      "Test Loss: 6.334011\n"
     ]
    }
   ],
   "source": [
    "# Test phase\n",
    "model.eval()\n",
    "test_loss = 0.0\n",
    "test_predictions = []\n",
    "test_targets = []\n",
    "\n",
    "with torch.no_grad():\n",
    "    for batch_x, batch_y in test_loader:\n",
    "        batch_x, batch_y = batch_x.to(device), batch_y.to(device)\n",
    "\n",
    "        outputs = model(batch_x)\n",
    "        loss = criterion(outputs, batch_y)\n",
    "        test_loss += loss.item()\n",
    "\n",
    "        test_predictions.extend(outputs.cpu().numpy())\n",
    "        test_targets.extend(batch_y.cpu().numpy())\n",
    "\n",
    "avg_test_loss = test_loss / len(test_loader)\n",
    "print(f'Test Loss: {avg_test_loss:.6f}')\n",
    "\n",
    "# Convert to numpy arrays for analysis\n",
    "test_predictions = np.array(test_predictions)\n",
    "test_targets = np.array(test_targets)"
   ]
  },
  {
   "cell_type": "code",
   "execution_count": 21,
   "id": "9bdc3eba",
   "metadata": {},
   "outputs": [
    {
     "data": {
      "image/png": "[encoded data removed]",
      "text/plain": [
       "<Figure size 1000x500 with 1 Axes>"
      ]
     },
     "metadata": {},
     "output_type": "display_data"
    }
   ],
   "source": [
    "# plot predictions vs targets\n",
    "plt.figure(figsize=(10, 5))\n",
    "plt.plot(test_targets, label='Actual', color='red')\n",
    "plt.plot(test_predictions, label='Predicted', color='blue', linestyle='--')\n",
    "plt.xlabel('Samples')\n",
    "plt.ylabel('Price')\n",
    "plt.title('LSTM Predictions vs Actual Prices')\n",
    "plt.legend()\n",
    "plt.grid()\n",
    "plt.show()"
   ]
  },
  {
   "cell_type": "code",
   "execution_count": null,
   "id": "23b8974c",
   "metadata": {},
   "outputs": [],
   "source": []
  },
  {
   "cell_type": "code",
   "execution_count": null,
   "id": "0a3f033e",
   "metadata": {},
   "outputs": [],
   "source": []
  },
  {
   "cell_type": "code",
   "execution_count": null,
   "id": "2eb51d6d",
   "metadata": {},
   "outputs": [],
   "source": []
  },
  {
   "cell_type": "code",
   "execution_count": null,
   "id": "7ed17f06",
   "metadata": {},
   "outputs": [],
   "source": []
  },
  {
   "cell_type": "code",
   "execution_count": 14,
   "id": "5726abb9",
   "metadata": {},
   "outputs": [],
   "source": [
    "class CNN_BiLSTM_Attention(nn.Module):\n",
    "    def __init__(self, input_dim, conv_filters=96, conv_kernel=3, lstm_hidden=12, num_bilstm_layers=2, attn_heads=4, attn_dim=64, dropout=0.25):\n",
    "        super().__init__()\n",
    "        self.conv1 = nn.Conv1d(input_dim, conv_filters, kernel_size=conv_kernel, padding=conv_kernel//2)\n",
    "        self.conv2 = nn.Conv1d(conv_filters, conv_filters, kernel_size=conv_kernel, padding=conv_kernel//2)\n",
    "        self.relu = nn.ReLU()\n",
    "        self.dropout = nn.Dropout(dropout)\n",
    "        self.bilstm = nn.LSTM(input_size=conv_filters, hidden_size=lstm_hidden, num_layers=num_bilstm_layers, batch_first=True, bidirectional=True)\n",
    "        # Use PyTorch MultiheadAttention: needs embedding dim. We'll map BiLSTM outputs to attn_dim\n",
    "        self.proj = nn.Linear(2*lstm_hidden, attn_dim)\n",
    "        self.attn = nn.MultiheadAttention(embed_dim=attn_dim, num_heads=attn_heads, batch_first=True)\n",
    "        self.out_fc = nn.Sequential(\n",
    "            nn.Linear(attn_dim, 64),\n",
    "            nn.ReLU(),\n",
    "            nn.Linear(64, 1)\n",
    "        )\n",
    "\n",
    "    def forward(self, x):\n",
    "        # x: B,T,F\n",
    "        x = x.permute(0,2,1)              # B,F,T\n",
    "        x = self.conv1(x)\n",
    "        x = self.relu(x)\n",
    "        x = self.conv2(x)\n",
    "        x = self.relu(x)\n",
    "        x = x.permute(0,2,1)              # B,T,conv_filters\n",
    "        x = self.dropout(x)\n",
    "        out, _ = self.bilstm(x)           # B,T,2*lstm_hidden\n",
    "        proj = self.proj(out)             # B,T,attn_dim\n",
    "        # MultiheadAttention expects (B, T, E) if batch_first=True\n",
    "        attn_out, _ = self.attn(proj, proj, proj)  # self-attention\n",
    "        # Pool (use last time step or mean)\n",
    "        pooled = attn_out.mean(dim=1)     # B, attn_dim\n",
    "        out = self.out_fc(pooled)         # B,1\n",
    "        return out.squeeze(-1)\n"
   ]
  },
  {
   "cell_type": "code",
   "execution_count": 15,
   "id": "c685e88e",
   "metadata": {},
   "outputs": [],
   "source": [
    "model2 = CNN_BiLSTM_Attention(input_dim=len(features))"
   ]
  },
  {
   "cell_type": "code",
   "execution_count": 16,
   "id": "3eda2baa",
   "metadata": {},
   "outputs": [],
   "source": [
    "model2 = model2.to(device)\n",
    "\n",
    "criterion = nn.MSELoss()\n",
    "optimizer = torch.optim.Adam(\n",
    "    model.parameters(),\n",
    "    lr=learning_rate,\n",
    "    # weight_decay=l2_penalty\n",
    ")\n",
    "\n",
    "# scheduler = torch.optim.lr_scheduler.ExponentialLR(\n",
    "#     optimizer,\n",
    "#     gamma=decay_rate\n",
    "# )\n",
    "scheduler = torch.optim.lr_scheduler.StepLR(\n",
    "    optimizer,\n",
    "    step_size=5,\n",
    "    gamma=decay_rate\n",
    ")"
   ]
  },
  {
   "cell_type": "code",
   "execution_count": 17,
   "id": "3d507e10",
   "metadata": {},
   "outputs": [
    {
     "name": "stdout",
     "output_type": "stream",
     "text": [
      "Training on device: mps\n",
      "Model parameters: 88705\n",
      "========================================\n",
      "Epoch 1/500\n",
      "----------------------------------------\n"
     ]
    },
    {
     "name": "stderr",
     "output_type": "stream",
     "text": [
      "100%|██████████| 10/10 [00:03<00:00,  3.30it/s]\n",
      "100%|██████████| 2/2 [00:00<00:00,  7.41it/s]\n"
     ]
    },
    {
     "name": "stdout",
     "output_type": "stream",
     "text": [
      "Epoch [1/500] - Train Loss: 1.076489, Val Loss: 19.996813\n",
      "========================================\n",
      "Epoch 2/500\n",
      "----------------------------------------\n"
     ]
    },
    {
     "name": "stderr",
     "output_type": "stream",
     "text": [
      "100%|██████████| 10/10 [00:00<00:00, 84.75it/s]\n",
      "100%|██████████| 2/2 [00:00<00:00, 223.32it/s]\n"
     ]
    },
    {
     "name": "stdout",
     "output_type": "stream",
     "text": [
      "Epoch [2/500] - Train Loss: 1.076489, Val Loss: 19.996813\n",
      "========================================\n",
      "Epoch 3/500\n",
      "----------------------------------------\n"
     ]
    },
    {
     "name": "stderr",
     "output_type": "stream",
     "text": [
      "100%|██████████| 10/10 [00:00<00:00, 107.18it/s]\n",
      "100%|██████████| 2/2 [00:00<00:00, 249.19it/s]\n"
     ]
    },
    {
     "name": "stdout",
     "output_type": "stream",
     "text": [
      "Epoch [3/500] - Train Loss: 1.076489, Val Loss: 19.996813\n",
      "========================================\n",
      "Epoch 4/500\n",
      "----------------------------------------\n"
     ]
    },
    {
     "name": "stderr",
     "output_type": "stream",
     "text": [
      "100%|██████████| 10/10 [00:00<00:00, 93.42it/s]\n",
      "100%|██████████| 2/2 [00:00<00:00, 215.59it/s]\n"
     ]
    },
    {
     "name": "stdout",
     "output_type": "stream",
     "text": [
      "Epoch [4/500] - Train Loss: 1.076489, Val Loss: 19.996813\n",
      "========================================\n",
      "Epoch 5/500\n",
      "----------------------------------------\n"
     ]
    },
    {
     "name": "stderr",
     "output_type": "stream",
     "text": [
      "100%|██████████| 10/10 [00:00<00:00, 109.03it/s]\n",
      "100%|██████████| 2/2 [00:00<00:00, 260.26it/s]\n"
     ]
    },
    {
     "name": "stdout",
     "output_type": "stream",
     "text": [
      "Epoch [5/500] - Train Loss: 1.076489, Val Loss: 19.996813\n",
      "========================================\n",
      "Epoch 6/500\n",
      "----------------------------------------\n"
     ]
    },
    {
     "name": "stderr",
     "output_type": "stream",
     "text": [
      "100%|██████████| 10/10 [00:00<00:00, 117.18it/s]\n",
      "100%|██████████| 2/2 [00:00<00:00, 262.29it/s]\n"
     ]
    },
    {
     "name": "stdout",
     "output_type": "stream",
     "text": [
      "Epoch [6/500] - Train Loss: 1.076489, Val Loss: 19.996813\n",
      "========================================\n",
      "Epoch 7/500\n",
      "----------------------------------------\n"
     ]
    },
    {
     "name": "stderr",
     "output_type": "stream",
     "text": [
      "100%|██████████| 10/10 [00:00<00:00, 114.87it/s]\n",
      "100%|██████████| 2/2 [00:00<00:00, 262.12it/s]\n"
     ]
    },
    {
     "name": "stdout",
     "output_type": "stream",
     "text": [
      "Epoch [7/500] - Train Loss: 1.076489, Val Loss: 19.996813\n",
      "========================================\n",
      "Epoch 8/500\n",
      "----------------------------------------\n"
     ]
    },
    {
     "name": "stderr",
     "output_type": "stream",
     "text": [
      "100%|██████████| 10/10 [00:00<00:00, 109.74it/s]\n",
      "100%|██████████| 2/2 [00:00<00:00, 250.69it/s]\n"
     ]
    },
    {
     "name": "stdout",
     "output_type": "stream",
     "text": [
      "Epoch [8/500] - Train Loss: 1.076489, Val Loss: 19.996813\n",
      "========================================\n",
      "Epoch 9/500\n",
      "----------------------------------------\n"
     ]
    },
    {
     "name": "stderr",
     "output_type": "stream",
     "text": [
      "100%|██████████| 10/10 [00:00<00:00, 43.16it/s]\n",
      "100%|██████████| 2/2 [00:00<00:00, 230.25it/s]\n"
     ]
    },
    {
     "name": "stdout",
     "output_type": "stream",
     "text": [
      "Epoch [9/500] - Train Loss: 1.076489, Val Loss: 19.996813\n",
      "========================================\n",
      "Epoch 10/500\n",
      "----------------------------------------\n"
     ]
    },
    {
     "name": "stderr",
     "output_type": "stream",
     "text": [
      "100%|██████████| 10/10 [00:00<00:00, 104.57it/s]\n",
      "100%|██████████| 2/2 [00:00<00:00, 219.53it/s]\n"
     ]
    },
    {
     "name": "stdout",
     "output_type": "stream",
     "text": [
      "Epoch [10/500] - Train Loss: 1.076489, Val Loss: 19.996813\n",
      "========================================\n",
      "Epoch 11/500\n",
      "----------------------------------------\n"
     ]
    },
    {
     "name": "stderr",
     "output_type": "stream",
     "text": [
      "100%|██████████| 10/10 [00:00<00:00, 109.70it/s]\n",
      "100%|██████████| 2/2 [00:00<00:00, 234.05it/s]\n"
     ]
    },
    {
     "name": "stdout",
     "output_type": "stream",
     "text": [
      "Epoch [11/500] - Train Loss: 1.076489, Val Loss: 19.996813\n",
      "========================================\n",
      "Epoch 12/500\n",
      "----------------------------------------\n"
     ]
    },
    {
     "name": "stderr",
     "output_type": "stream",
     "text": [
      "100%|██████████| 10/10 [00:00<00:00, 104.93it/s]\n",
      "100%|██████████| 2/2 [00:00<00:00, 250.23it/s]\n"
     ]
    },
    {
     "name": "stdout",
     "output_type": "stream",
     "text": [
      "Epoch [12/500] - Train Loss: 1.076489, Val Loss: 19.996813\n",
      "========================================\n",
      "Epoch 13/500\n",
      "----------------------------------------\n"
     ]
    },
    {
     "name": "stderr",
     "output_type": "stream",
     "text": [
      "100%|██████████| 10/10 [00:00<00:00, 115.35it/s]\n",
      "100%|██████████| 2/2 [00:00<00:00, 252.94it/s]\n"
     ]
    },
    {
     "name": "stdout",
     "output_type": "stream",
     "text": [
      "Epoch [13/500] - Train Loss: 1.076489, Val Loss: 19.996813\n",
      "========================================\n",
      "Epoch 14/500\n",
      "----------------------------------------\n"
     ]
    },
    {
     "name": "stderr",
     "output_type": "stream",
     "text": [
      "100%|██████████| 10/10 [00:00<00:00, 103.52it/s]\n",
      "100%|██████████| 2/2 [00:00<00:00, 228.68it/s]\n"
     ]
    },
    {
     "name": "stdout",
     "output_type": "stream",
     "text": [
      "Epoch [14/500] - Train Loss: 1.076489, Val Loss: 19.996813\n",
      "========================================\n",
      "Epoch 15/500\n",
      "----------------------------------------\n"
     ]
    },
    {
     "name": "stderr",
     "output_type": "stream",
     "text": [
      "100%|██████████| 10/10 [00:00<00:00, 114.67it/s]\n",
      "100%|██████████| 2/2 [00:00<00:00, 241.89it/s]\n"
     ]
    },
    {
     "name": "stdout",
     "output_type": "stream",
     "text": [
      "Epoch [15/500] - Train Loss: 1.076489, Val Loss: 19.996813\n",
      "========================================\n",
      "Epoch 16/500\n",
      "----------------------------------------\n"
     ]
    },
    {
     "name": "stderr",
     "output_type": "stream",
     "text": [
      "100%|██████████| 10/10 [00:00<00:00, 109.74it/s]\n",
      "100%|██████████| 2/2 [00:00<00:00, 234.69it/s]\n"
     ]
    },
    {
     "name": "stdout",
     "output_type": "stream",
     "text": [
      "Epoch [16/500] - Train Loss: 1.076489, Val Loss: 19.996813\n",
      "========================================\n",
      "Epoch 17/500\n",
      "----------------------------------------\n"
     ]
    },
    {
     "name": "stderr",
     "output_type": "stream",
     "text": [
      "100%|██████████| 10/10 [00:00<00:00, 108.63it/s]\n",
      "100%|██████████| 2/2 [00:00<00:00, 242.81it/s]\n"
     ]
    },
    {
     "name": "stdout",
     "output_type": "stream",
     "text": [
      "Epoch [17/500] - Train Loss: 1.076489, Val Loss: 19.996813\n",
      "========================================\n",
      "Epoch 18/500\n",
      "----------------------------------------\n"
     ]
    },
    {
     "name": "stderr",
     "output_type": "stream",
     "text": [
      "100%|██████████| 10/10 [00:00<00:00, 114.58it/s]\n",
      "100%|██████████| 2/2 [00:00<00:00, 249.62it/s]\n"
     ]
    },
    {
     "name": "stdout",
     "output_type": "stream",
     "text": [
      "Epoch [18/500] - Train Loss: 1.076489, Val Loss: 19.996813\n",
      "========================================\n",
      "Epoch 19/500\n",
      "----------------------------------------\n"
     ]
    },
    {
     "name": "stderr",
     "output_type": "stream",
     "text": [
      "100%|██████████| 10/10 [00:00<00:00, 115.17it/s]\n",
      "100%|██████████| 2/2 [00:00<00:00, 249.76it/s]\n"
     ]
    },
    {
     "name": "stdout",
     "output_type": "stream",
     "text": [
      "Epoch [19/500] - Train Loss: 1.076489, Val Loss: 19.996813\n",
      "========================================\n",
      "Epoch 20/500\n",
      "----------------------------------------\n"
     ]
    },
    {
     "name": "stderr",
     "output_type": "stream",
     "text": [
      "100%|██████████| 10/10 [00:00<00:00, 112.00it/s]\n",
      "100%|██████████| 2/2 [00:00<00:00, 251.47it/s]\n"
     ]
    },
    {
     "name": "stdout",
     "output_type": "stream",
     "text": [
      "Epoch [20/500] - Train Loss: 1.076489, Val Loss: 19.996813\n",
      "========================================\n",
      "Epoch 21/500\n",
      "----------------------------------------\n"
     ]
    },
    {
     "name": "stderr",
     "output_type": "stream",
     "text": [
      "100%|██████████| 10/10 [00:00<00:00, 108.33it/s]\n",
      "100%|██████████| 2/2 [00:00<00:00, 238.64it/s]\n"
     ]
    },
    {
     "name": "stdout",
     "output_type": "stream",
     "text": [
      "Epoch [21/500] - Train Loss: 1.076489, Val Loss: 19.996813\n",
      "========================================\n",
      "Epoch 22/500\n",
      "----------------------------------------\n"
     ]
    },
    {
     "name": "stderr",
     "output_type": "stream",
     "text": [
      "100%|██████████| 10/10 [00:00<00:00, 113.64it/s]\n",
      "100%|██████████| 2/2 [00:00<00:00, 233.84it/s]\n"
     ]
    },
    {
     "name": "stdout",
     "output_type": "stream",
     "text": [
      "Epoch [22/500] - Train Loss: 1.076489, Val Loss: 19.996813\n",
      "========================================\n",
      "Epoch 23/500\n",
      "----------------------------------------\n"
     ]
    },
    {
     "name": "stderr",
     "output_type": "stream",
     "text": [
      "100%|██████████| 10/10 [00:00<00:00, 108.64it/s]\n",
      "100%|██████████| 2/2 [00:00<00:00, 224.85it/s]\n"
     ]
    },
    {
     "name": "stdout",
     "output_type": "stream",
     "text": [
      "Epoch [23/500] - Train Loss: 1.076489, Val Loss: 19.996813\n",
      "========================================\n",
      "Epoch 24/500\n",
      "----------------------------------------\n"
     ]
    },
    {
     "name": "stderr",
     "output_type": "stream",
     "text": [
      "100%|██████████| 10/10 [00:00<00:00, 36.83it/s]\n",
      "100%|██████████| 2/2 [00:00<00:00, 88.14it/s]\n"
     ]
    },
    {
     "name": "stdout",
     "output_type": "stream",
     "text": [
      "Epoch [24/500] - Train Loss: 1.076489, Val Loss: 19.996813\n",
      "========================================\n",
      "Epoch 25/500\n",
      "----------------------------------------\n"
     ]
    },
    {
     "name": "stderr",
     "output_type": "stream",
     "text": [
      "100%|██████████| 10/10 [00:00<00:00, 82.98it/s]\n",
      "100%|██████████| 2/2 [00:00<00:00, 217.29it/s]\n"
     ]
    },
    {
     "name": "stdout",
     "output_type": "stream",
     "text": [
      "Epoch [25/500] - Train Loss: 1.076489, Val Loss: 19.996813\n",
      "========================================\n",
      "Epoch 26/500\n",
      "----------------------------------------\n"
     ]
    },
    {
     "name": "stderr",
     "output_type": "stream",
     "text": [
      "100%|██████████| 10/10 [00:00<00:00, 114.14it/s]\n",
      "100%|██████████| 2/2 [00:00<00:00, 239.40it/s]\n"
     ]
    },
    {
     "name": "stdout",
     "output_type": "stream",
     "text": [
      "Epoch [26/500] - Train Loss: 1.076489, Val Loss: 19.996813\n",
      "========================================\n",
      "Epoch 27/500\n",
      "----------------------------------------\n"
     ]
    },
    {
     "name": "stderr",
     "output_type": "stream",
     "text": [
      "100%|██████████| 10/10 [00:00<00:00, 102.43it/s]\n",
      "100%|██████████| 2/2 [00:00<00:00, 147.97it/s]\n"
     ]
    },
    {
     "name": "stdout",
     "output_type": "stream",
     "text": [
      "Epoch [27/500] - Train Loss: 1.076489, Val Loss: 19.996813\n",
      "========================================\n",
      "Epoch 28/500\n",
      "----------------------------------------\n"
     ]
    },
    {
     "name": "stderr",
     "output_type": "stream",
     "text": [
      "100%|██████████| 10/10 [00:00<00:00, 71.43it/s]\n",
      "100%|██████████| 2/2 [00:00<00:00, 202.25it/s]\n"
     ]
    },
    {
     "name": "stdout",
     "output_type": "stream",
     "text": [
      "Epoch [28/500] - Train Loss: 1.076489, Val Loss: 19.996813\n",
      "========================================\n",
      "Epoch 29/500\n",
      "----------------------------------------\n"
     ]
    },
    {
     "name": "stderr",
     "output_type": "stream",
     "text": [
      "100%|██████████| 10/10 [00:00<00:00, 104.33it/s]\n",
      "100%|██████████| 2/2 [00:00<00:00, 253.75it/s]\n"
     ]
    },
    {
     "name": "stdout",
     "output_type": "stream",
     "text": [
      "Epoch [29/500] - Train Loss: 1.076489, Val Loss: 19.996813\n",
      "========================================\n",
      "Epoch 30/500\n",
      "----------------------------------------\n"
     ]
    },
    {
     "name": "stderr",
     "output_type": "stream",
     "text": [
      "100%|██████████| 10/10 [00:00<00:00, 35.32it/s]\n",
      "100%|██████████| 2/2 [00:00<00:00, 102.69it/s]\n"
     ]
    },
    {
     "name": "stdout",
     "output_type": "stream",
     "text": [
      "Epoch [30/500] - Train Loss: 1.076489, Val Loss: 19.996813\n",
      "========================================\n",
      "Epoch 31/500\n",
      "----------------------------------------\n"
     ]
    },
    {
     "name": "stderr",
     "output_type": "stream",
     "text": [
      "100%|██████████| 10/10 [00:00<00:00, 84.51it/s]\n",
      "100%|██████████| 2/2 [00:00<00:00, 253.55it/s]"
     ]
    },
    {
     "name": "stdout",
     "output_type": "stream",
     "text": [
      "Epoch [31/500] - Train Loss: 1.076489, Val Loss: 19.996813\n",
      "Early stopping triggered after epoch 31\n",
      "\n",
      "Best validation loss: 19.996813\n"
     ]
    },
    {
     "name": "stderr",
     "output_type": "stream",
     "text": [
      "\n"
     ]
    }
   ],
   "source": [
    "best_val_loss = float('inf')\n",
    "patience = 30\n",
    "patience_counter = 0\n",
    "\n",
    "train_losses = []\n",
    "val_losses = []\n",
    "\n",
    "print(f\"Training on device: {device}\")\n",
    "print(f\"Model parameters: {sum(p.numel() for p in model2.parameters())}\")\n",
    "\n",
    "for epoch in range(num_epochs):\n",
    "\n",
    "    print(f\"{'='*40}\")\n",
    "    print(f\"Epoch {epoch+1}/{num_epochs}\")\n",
    "    print(f\"{'-'*40}\")\n",
    "\n",
    "    model2.train()\n",
    "    train_loss = 0.0\n",
    "\n",
    "    for batch_x, batch_y in tqdm(train_loader):\n",
    "        batch_x, batch_y = batch_x.to(device), batch_y.to(device)\n",
    "\n",
    "        # Zero gradients\n",
    "        optimizer.zero_grad()\n",
    "\n",
    "        # Forward pass\n",
    "        outputs = model2(batch_x)\n",
    "        loss = criterion(outputs, batch_y)\n",
    "\n",
    "        # Backward pass\n",
    "        loss.backward()\n",
    "        optimizer.step()\n",
    "\n",
    "        train_loss += loss.item()\n",
    "\n",
    "\n",
    "    model2.eval()\n",
    "    val_loss = 0.0\n",
    "\n",
    "    with torch.no_grad():\n",
    "        for batch_x, batch_y in tqdm(val_loader):\n",
    "            batch_x, batch_y = batch_x.to(device), batch_y.to(device)\n",
    "\n",
    "            outputs = model2(batch_x)\n",
    "            loss = criterion(outputs, batch_y)\n",
    "            val_loss += loss.item()\n",
    "\n",
    "    avg_train_loss = train_loss / len(train_loader)\n",
    "    avg_val_loss = val_loss / len(val_loader)\n",
    "\n",
    "    train_losses.append(avg_train_loss)\n",
    "    val_losses.append(avg_val_loss)\n",
    "\n",
    "    # scheduler.step()\n",
    "\n",
    "    # Early stopping\n",
    "    if avg_val_loss < best_val_loss:\n",
    "        best_val_loss = avg_val_loss\n",
    "        patience_counter = 0\n",
    "        # torch.save(model.state_dict(), '../models/cnn_bilstm15.pth')\n",
    "    else:\n",
    "        patience_counter += 1\n",
    "\n",
    "    # if epoch % 10 == 0 or epoch == num_epochs - 1:\n",
    "    print(f'Epoch [{epoch+1}/{num_epochs}] - Train Loss: {avg_train_loss:.6f}, Val Loss: {avg_val_loss:.6f}')\n",
    "\n",
    "    # Early stopping check\n",
    "    if patience_counter >= patience:\n",
    "        print(f'Early stopping triggered after epoch {epoch+1}')\n",
    "        break\n",
    "\n",
    "print(f'\\nBest validation loss: {best_val_loss:.6f}')"
   ]
  },
  {
   "cell_type": "code",
   "execution_count": null,
   "id": "9c8cbabf",
   "metadata": {},
   "outputs": [],
   "source": []
  }
 ],
 "metadata": {
  "kernelspec": {
   "display_name": "Python 3",
   "language": "python",
   "name": "python3"
  },
  "language_info": {
   "codemirror_mode": {
    "name": "ipython",
    "version": 3
   },
   "file_extension": ".py",
   "mimetype": "text/x-python",
   "name": "python",
   "nbconvert_exporter": "python",
   "pygments_lexer": "ipython3",
   "version": "3.11.13"
  }
 },
 "nbformat": 4,
 "nbformat_minor": 5
}

{
 "cells": [
  {
   "cell_type": "markdown",
   "id": "74139d97",
   "metadata": {},
   "source": [
    "### Hyperparameters:\n",
    "| Hyperparameter       | Value   |\n",
    "|----------------------|---------|\n",
    "| num-filters          | 32      |\n",
    "| num-bilstm-layer     | 2       |\n",
    "| output-lstm-dim      | 64      |\n",
    "| decay-rate           | 0.8     |\n",
    "| learning-rate        | 0.01    |\n",
    "| miniBatchSize        | 256     |\n",
    "| filter-size          | 10 × 1  |\n",
    "| input-lstm-dim       | 100     |\n",
    "| L2Regularization     | 0.001   |\n",
    "| optimizer            | Adam    |\n",
    "| dropout              | 0.25    |\n",
    "| maxEpochs            | 500     |"
   ]
  },
  {
   "cell_type": "code",
   "execution_count": 57,
   "id": "c3535ef1",
   "metadata": {},
   "outputs": [],
   "source": [
    "import sys\n",
    "sys.path.append(\"..\")"
   ]
  },
  {
   "cell_type": "code",
   "execution_count": 58,
   "id": "285f0ee6",
   "metadata": {},
   "outputs": [],
   "source": [
    "from tqdm import tqdm\n",
    "import pandas as pd\n",
    "import numpy as np\n",
    "\n",
    "import torch\n",
    "from torch.utils.data import TensorDataset, DataLoader\n",
    "import torch.nn as nn\n",
    "import torch.nn.functional as F\n",
    "\n",
    "from utils.helper import *"
   ]
  },
  {
   "cell_type": "code",
   "execution_count": 45,
   "id": "1b677a4c",
   "metadata": {},
   "outputs": [],
   "source": [
    "df = pd.read_csv(\"../data/Final_Btc_Data_with_Indicators.csv\", parse_dates=['Date'])\n",
    "\n",
    "K = 5\n",
    "df = scaled_data_vmd(df, _K=K)\n",
    "\n",
    "# df = scaled_data(df)\n",
    "\n",
    "target_col = \"Price\"\n",
    "features = [col for col in df.columns if col != target_col and col != \"Date\"]\n",
    "\n",
    "seq_len = 5\n",
    "horizon = 1\n",
    "X, y = create_sequences(df[features].values, df[target_col].values, seq_len, horizon)"
   ]
  },
  {
   "cell_type": "code",
   "execution_count": 46,
   "id": "cc03954e",
   "metadata": {},
   "outputs": [],
   "source": [
    "batch_size = 256\n",
    "\n",
    "train_loader, val_loader, test_loader = data_loaders(df, X, y, batch_size=batch_size)"
   ]
  },
  {
   "cell_type": "code",
   "execution_count": 47,
   "id": "944b2d4e",
   "metadata": {},
   "outputs": [
    {
     "name": "stdout",
     "output_type": "stream",
     "text": [
      "Input shape: torch.Size([256, 5, 84])\n",
      "Target shape: torch.Size([256])\n"
     ]
    }
   ],
   "source": [
    "input, target = next(iter(train_loader))\n",
    "\n",
    "print(f\"Input shape: {input.shape}\")\n",
    "print(f\"Target shape: {target.shape}\")"
   ]
  },
  {
   "cell_type": "markdown",
   "id": "352b70e9",
   "metadata": {},
   "source": [
    "## CNN-BiLSTM"
   ]
  },
  {
   "cell_type": "code",
   "execution_count": 48,
   "id": "009490c1",
   "metadata": {},
   "outputs": [],
   "source": [
    "class CNNBiLSTM(nn.Module):\n",
    "    def __init__(self, input_dim, num_filters=32, num_bilstm_layers=2, lstm_hidden=64, filter_size=(10, 1), input_lstm_dim=100, dropout_rate=0.25):\n",
    "        super().__init__()\n",
    "        self.conv1 = nn.Conv1d(\n",
    "            in_channels=input_dim,\n",
    "            out_channels=num_filters,\n",
    "            kernel_size=filter_size[0],\n",
    "            stride=1,\n",
    "            padding=filter_size[0] // 2\n",
    "        )\n",
    "\n",
    "        self.proj = nn.Linear(num_filters, input_lstm_dim)\n",
    "\n",
    "        self.relu = nn.ReLU()\n",
    "\n",
    "        self.bilstm1 = nn.LSTM(\n",
    "            input_size=input_lstm_dim,\n",
    "            hidden_size=lstm_hidden,\n",
    "            batch_first=True,\n",
    "            bidirectional=True\n",
    "        )\n",
    "\n",
    "        self.drop1 = nn.Dropout(dropout_rate)\n",
    "\n",
    "        self.bilstm2 = nn.LSTM(\n",
    "            input_size = 2 * lstm_hidden,\n",
    "            hidden_size=lstm_hidden,\n",
    "            batch_first=True,\n",
    "            bidirectional=True\n",
    "        )\n",
    "\n",
    "        self.fc = nn.Linear(lstm_hidden * 2, 1)\n",
    "\n",
    "\n",
    "    def forward(self, x):\n",
    "        x = x.permute(0, 2, 1)\n",
    "        x = self.relu(self.conv1(x))\n",
    "\n",
    "        x = x.permute(0, 2, 1)\n",
    "        x = self.relu(self.proj(x))\n",
    "\n",
    "        # BiLSTM layers\n",
    "        out, _ = self.bilstm1(x)\n",
    "        out = self.drop1(out)\n",
    "        out, _ = self.bilstm2(out)\n",
    "\n",
    "        # take last time step\n",
    "        out = out[:, -1, :]\n",
    "        out = self.fc(out)\n",
    "        return out.squeeze(-1)"
   ]
  },
  {
   "cell_type": "code",
   "execution_count": 49,
   "id": "14ee12c5",
   "metadata": {},
   "outputs": [
    {
     "name": "stdout",
     "output_type": "stream",
     "text": [
      "Using device: mps\n"
     ]
    }
   ],
   "source": [
    "if torch.backends.mps.is_available():\n",
    "    device = torch.device(\"mps\")\n",
    "elif torch.cuda.is_available():\n",
    "    device = torch.device(\"cuda\")\n",
    "else:\n",
    "    device = torch.device(\"cpu\")\n",
    "\n",
    "print(f\"Using device: {device}\")"
   ]
  },
  {
   "cell_type": "code",
   "execution_count": 50,
   "id": "433246e6",
   "metadata": {},
   "outputs": [],
   "source": [
    "model = CNNBiLSTM(input_dim=len(features))"
   ]
  },
  {
   "cell_type": "code",
   "execution_count": 51,
   "id": "1a714ba4",
   "metadata": {},
   "outputs": [],
   "source": [
    "decay_rate = 0.8\n",
    "num_epochs = 300\n",
    "learning_rate = 0.001\n",
    "l2_penalty = 0.001"
   ]
  },
  {
   "cell_type": "code",
   "execution_count": 52,
   "id": "b433b24b",
   "metadata": {},
   "outputs": [],
   "source": [
    "model = model.to(device)\n",
    "\n",
    "criterion = nn.MSELoss()\n",
    "optimizer = torch.optim.Adam(\n",
    "    model.parameters(),\n",
    "    lr=learning_rate,\n",
    "    # weight_decay=l2_penalty\n",
    ")\n",
    "\n",
    "# scheduler = torch.optim.lr_scheduler.ExponentialLR(\n",
    "#     optimizer,\n",
    "#     gamma=decay_rate\n",
    "# )\n",
    "scheduler = torch.optim.lr_scheduler.StepLR(\n",
    "    optimizer,\n",
    "    step_size=5,\n",
    "    gamma=decay_rate\n",
    ")"
   ]
  },
  {
   "cell_type": "code",
   "execution_count": null,
   "id": "9eaaa2f1",
   "metadata": {},
   "outputs": [
    {
     "name": "stdout",
     "output_type": "stream",
     "text": [
      "Training on device: mps\n",
      "Model parameters: 214661\n",
      "========================================\n",
      "Epoch 1/300\n",
      "----------------------------------------\n"
     ]
    },
    {
     "name": "stderr",
     "output_type": "stream",
     "text": [
      "100%|██████████| 10/10 [00:00<00:00, 36.78it/s]\n",
      "100%|██████████| 2/2 [00:00<00:00, 21.39it/s]\n"
     ]
    },
    {
     "name": "stdout",
     "output_type": "stream",
     "text": [
      "Epoch [1/300] - Train Loss: 1.143308, Val Loss: 20.203559\n",
      "========================================\n",
      "Epoch 2/300\n",
      "----------------------------------------\n"
     ]
    },
    {
     "name": "stderr",
     "output_type": "stream",
     "text": [
      "100%|██████████| 10/10 [00:00<00:00, 93.46it/s]\n",
      "100%|██████████| 2/2 [00:00<00:00, 235.71it/s]\n"
     ]
    },
    {
     "name": "stdout",
     "output_type": "stream",
     "text": [
      "Epoch [2/300] - Train Loss: 0.874408, Val Loss: 17.412788\n",
      "========================================\n",
      "Epoch 3/300\n",
      "----------------------------------------\n"
     ]
    },
    {
     "name": "stderr",
     "output_type": "stream",
     "text": [
      "100%|██████████| 10/10 [00:00<00:00, 109.33it/s]\n",
      "100%|██████████| 2/2 [00:00<00:00, 224.04it/s]\n"
     ]
    },
    {
     "name": "stdout",
     "output_type": "stream",
     "text": [
      "Epoch [3/300] - Train Loss: 0.603816, Val Loss: 13.368660\n",
      "========================================\n",
      "Epoch 4/300\n",
      "----------------------------------------\n"
     ]
    },
    {
     "name": "stderr",
     "output_type": "stream",
     "text": [
      "100%|██████████| 10/10 [00:00<00:00, 112.35it/s]\n",
      "100%|██████████| 2/2 [00:00<00:00, 233.54it/s]\n"
     ]
    },
    {
     "name": "stdout",
     "output_type": "stream",
     "text": [
      "Epoch [4/300] - Train Loss: 0.402478, Val Loss: 8.646765\n",
      "========================================\n",
      "Epoch 5/300\n",
      "----------------------------------------\n"
     ]
    },
    {
     "name": "stderr",
     "output_type": "stream",
     "text": [
      "100%|██████████| 10/10 [00:00<00:00, 105.60it/s]\n",
      "100%|██████████| 2/2 [00:00<00:00, 166.83it/s]\n"
     ]
    },
    {
     "name": "stdout",
     "output_type": "stream",
     "text": [
      "Epoch [5/300] - Train Loss: 0.287722, Val Loss: 5.238508\n",
      "========================================\n",
      "Epoch 6/300\n",
      "----------------------------------------\n"
     ]
    },
    {
     "name": "stderr",
     "output_type": "stream",
     "text": [
      "100%|██████████| 10/10 [00:00<00:00, 108.76it/s]\n",
      "100%|██████████| 2/2 [00:00<00:00, 243.45it/s]\n"
     ]
    },
    {
     "name": "stdout",
     "output_type": "stream",
     "text": [
      "Epoch [6/300] - Train Loss: 0.148544, Val Loss: 3.530843\n",
      "========================================\n",
      "Epoch 7/300\n",
      "----------------------------------------\n"
     ]
    },
    {
     "name": "stderr",
     "output_type": "stream",
     "text": [
      "100%|██████████| 10/10 [00:00<00:00, 56.93it/s]\n",
      "100%|██████████| 2/2 [00:00<00:00, 170.50it/s]\n"
     ]
    },
    {
     "name": "stdout",
     "output_type": "stream",
     "text": [
      "Epoch [7/300] - Train Loss: 0.070051, Val Loss: 1.126953\n",
      "========================================\n",
      "Epoch 8/300\n",
      "----------------------------------------\n"
     ]
    },
    {
     "name": "stderr",
     "output_type": "stream",
     "text": [
      "100%|██████████| 10/10 [00:00<00:00, 102.81it/s]\n",
      "100%|██████████| 2/2 [00:00<00:00, 251.70it/s]\n"
     ]
    },
    {
     "name": "stdout",
     "output_type": "stream",
     "text": [
      "Epoch [8/300] - Train Loss: 0.037687, Val Loss: 0.606063\n",
      "========================================\n",
      "Epoch 9/300\n",
      "----------------------------------------\n"
     ]
    },
    {
     "name": "stderr",
     "output_type": "stream",
     "text": [
      "100%|██████████| 10/10 [00:00<00:00, 96.41it/s]\n",
      "100%|██████████| 2/2 [00:00<00:00, 206.12it/s]\n"
     ]
    },
    {
     "name": "stdout",
     "output_type": "stream",
     "text": [
      "Epoch [9/300] - Train Loss: 0.018659, Val Loss: 0.327614\n",
      "========================================\n",
      "Epoch 10/300\n",
      "----------------------------------------\n"
     ]
    },
    {
     "name": "stderr",
     "output_type": "stream",
     "text": [
      "100%|██████████| 10/10 [00:00<00:00, 98.29it/s]\n",
      "100%|██████████| 2/2 [00:00<00:00, 231.00it/s]\n"
     ]
    },
    {
     "name": "stdout",
     "output_type": "stream",
     "text": [
      "Epoch [10/300] - Train Loss: 0.026763, Val Loss: 0.229494\n",
      "========================================\n",
      "Epoch 11/300\n",
      "----------------------------------------\n"
     ]
    },
    {
     "name": "stderr",
     "output_type": "stream",
     "text": [
      "100%|██████████| 10/10 [00:00<00:00, 94.77it/s]\n",
      "100%|██████████| 2/2 [00:00<00:00, 264.65it/s]\n"
     ]
    },
    {
     "name": "stdout",
     "output_type": "stream",
     "text": [
      "Epoch [11/300] - Train Loss: 0.184618, Val Loss: 2.489655\n",
      "========================================\n",
      "Epoch 12/300\n",
      "----------------------------------------\n"
     ]
    },
    {
     "name": "stderr",
     "output_type": "stream",
     "text": [
      "100%|██████████| 10/10 [00:00<00:00, 97.59it/s]\n",
      "100%|██████████| 2/2 [00:00<00:00, 244.25it/s]\n"
     ]
    },
    {
     "name": "stdout",
     "output_type": "stream",
     "text": [
      "Epoch [12/300] - Train Loss: 0.070621, Val Loss: 0.309228\n",
      "========================================\n",
      "Epoch 13/300\n",
      "----------------------------------------\n"
     ]
    },
    {
     "name": "stderr",
     "output_type": "stream",
     "text": [
      "100%|██████████| 10/10 [00:00<00:00, 100.55it/s]\n",
      "100%|██████████| 2/2 [00:00<00:00, 262.78it/s]\n"
     ]
    },
    {
     "name": "stdout",
     "output_type": "stream",
     "text": [
      "Epoch [13/300] - Train Loss: 0.041791, Val Loss: 0.804916\n",
      "========================================\n",
      "Epoch 14/300\n",
      "----------------------------------------\n"
     ]
    },
    {
     "name": "stderr",
     "output_type": "stream",
     "text": [
      "100%|██████████| 10/10 [00:00<00:00, 107.01it/s]\n",
      "100%|██████████| 2/2 [00:00<00:00, 230.25it/s]\n"
     ]
    },
    {
     "name": "stdout",
     "output_type": "stream",
     "text": [
      "Epoch [14/300] - Train Loss: 0.017952, Val Loss: 0.237945\n",
      "========================================\n",
      "Epoch 15/300\n",
      "----------------------------------------\n"
     ]
    },
    {
     "name": "stderr",
     "output_type": "stream",
     "text": [
      "100%|██████████| 10/10 [00:00<00:00, 99.44it/s]\n",
      "100%|██████████| 2/2 [00:00<00:00, 237.99it/s]\n"
     ]
    },
    {
     "name": "stdout",
     "output_type": "stream",
     "text": [
      "Epoch [15/300] - Train Loss: 0.010051, Val Loss: 0.239697\n",
      "========================================\n",
      "Epoch 16/300\n",
      "----------------------------------------\n"
     ]
    },
    {
     "name": "stderr",
     "output_type": "stream",
     "text": [
      "100%|██████████| 10/10 [00:00<00:00, 93.00it/s]\n",
      "100%|██████████| 2/2 [00:00<00:00, 208.40it/s]\n"
     ]
    },
    {
     "name": "stdout",
     "output_type": "stream",
     "text": [
      "Epoch [16/300] - Train Loss: 0.008342, Val Loss: 0.228411\n",
      "========================================\n",
      "Epoch 17/300\n",
      "----------------------------------------\n"
     ]
    },
    {
     "name": "stderr",
     "output_type": "stream",
     "text": [
      "100%|██████████| 10/10 [00:00<00:00, 94.36it/s]\n",
      "100%|██████████| 2/2 [00:00<00:00, 231.79it/s]\n"
     ]
    },
    {
     "name": "stdout",
     "output_type": "stream",
     "text": [
      "Epoch [17/300] - Train Loss: 0.006077, Val Loss: 0.207639\n",
      "========================================\n",
      "Epoch 18/300\n",
      "----------------------------------------\n"
     ]
    },
    {
     "name": "stderr",
     "output_type": "stream",
     "text": [
      "100%|██████████| 10/10 [00:00<00:00, 97.58it/s]\n",
      "100%|██████████| 2/2 [00:00<00:00, 248.16it/s]\n"
     ]
    },
    {
     "name": "stdout",
     "output_type": "stream",
     "text": [
      "Epoch [18/300] - Train Loss: 0.005528, Val Loss: 0.218945\n",
      "========================================\n",
      "Epoch 19/300\n",
      "----------------------------------------\n"
     ]
    },
    {
     "name": "stderr",
     "output_type": "stream",
     "text": [
      "100%|██████████| 10/10 [00:00<00:00, 92.79it/s]\n",
      "100%|██████████| 2/2 [00:00<00:00, 212.25it/s]\n"
     ]
    },
    {
     "name": "stdout",
     "output_type": "stream",
     "text": [
      "Epoch [19/300] - Train Loss: 0.005564, Val Loss: 0.206074\n",
      "========================================\n",
      "Epoch 20/300\n",
      "----------------------------------------\n"
     ]
    },
    {
     "name": "stderr",
     "output_type": "stream",
     "text": [
      "100%|██████████| 10/10 [00:00<00:00, 108.57it/s]\n",
      "100%|██████████| 2/2 [00:00<00:00, 270.52it/s]\n"
     ]
    },
    {
     "name": "stdout",
     "output_type": "stream",
     "text": [
      "Epoch [20/300] - Train Loss: 0.006816, Val Loss: 0.222009\n",
      "========================================\n",
      "Epoch 21/300\n",
      "----------------------------------------\n"
     ]
    },
    {
     "name": "stderr",
     "output_type": "stream",
     "text": [
      "100%|██████████| 10/10 [00:00<00:00, 116.06it/s]\n",
      "100%|██████████| 2/2 [00:00<00:00, 281.29it/s]\n"
     ]
    },
    {
     "name": "stdout",
     "output_type": "stream",
     "text": [
      "Epoch [21/300] - Train Loss: 0.008557, Val Loss: 0.198501\n",
      "========================================\n",
      "Epoch 22/300\n",
      "----------------------------------------\n"
     ]
    },
    {
     "name": "stderr",
     "output_type": "stream",
     "text": [
      "100%|██████████| 10/10 [00:00<00:00, 106.09it/s]\n",
      "100%|██████████| 2/2 [00:00<00:00, 268.17it/s]\n"
     ]
    },
    {
     "name": "stdout",
     "output_type": "stream",
     "text": [
      "Epoch [22/300] - Train Loss: 0.013936, Val Loss: 0.313580\n",
      "========================================\n",
      "Epoch 23/300\n",
      "----------------------------------------\n"
     ]
    },
    {
     "name": "stderr",
     "output_type": "stream",
     "text": [
      "100%|██████████| 10/10 [00:00<00:00, 106.95it/s]\n",
      "100%|██████████| 2/2 [00:00<00:00, 248.92it/s]\n"
     ]
    },
    {
     "name": "stdout",
     "output_type": "stream",
     "text": [
      "Epoch [23/300] - Train Loss: 0.017015, Val Loss: 0.223471\n",
      "========================================\n",
      "Epoch 24/300\n",
      "----------------------------------------\n"
     ]
    },
    {
     "name": "stderr",
     "output_type": "stream",
     "text": [
      "100%|██████████| 10/10 [00:00<00:00, 106.76it/s]\n",
      "100%|██████████| 2/2 [00:00<00:00, 248.39it/s]\n"
     ]
    },
    {
     "name": "stdout",
     "output_type": "stream",
     "text": [
      "Epoch [24/300] - Train Loss: 0.024989, Val Loss: 0.479926\n",
      "========================================\n",
      "Epoch 25/300\n",
      "----------------------------------------\n"
     ]
    },
    {
     "name": "stderr",
     "output_type": "stream",
     "text": [
      "100%|██████████| 10/10 [00:00<00:00, 109.72it/s]\n",
      "100%|██████████| 2/2 [00:00<00:00, 265.25it/s]\n"
     ]
    },
    {
     "name": "stdout",
     "output_type": "stream",
     "text": [
      "Epoch [25/300] - Train Loss: 0.017196, Val Loss: 0.242344\n",
      "========================================\n",
      "Epoch 26/300\n",
      "----------------------------------------\n"
     ]
    },
    {
     "name": "stderr",
     "output_type": "stream",
     "text": [
      "100%|██████████| 10/10 [00:00<00:00, 109.98it/s]\n",
      "100%|██████████| 2/2 [00:00<00:00, 250.63it/s]\n"
     ]
    },
    {
     "name": "stdout",
     "output_type": "stream",
     "text": [
      "Epoch [26/300] - Train Loss: 0.012674, Val Loss: 0.358096\n",
      "========================================\n",
      "Epoch 27/300\n",
      "----------------------------------------\n"
     ]
    },
    {
     "name": "stderr",
     "output_type": "stream",
     "text": [
      "100%|██████████| 10/10 [00:00<00:00, 109.13it/s]\n",
      "100%|██████████| 2/2 [00:00<00:00, 260.61it/s]\n"
     ]
    },
    {
     "name": "stdout",
     "output_type": "stream",
     "text": [
      "Epoch [27/300] - Train Loss: 0.007128, Val Loss: 0.188887\n",
      "========================================\n",
      "Epoch 28/300\n",
      "----------------------------------------\n"
     ]
    },
    {
     "name": "stderr",
     "output_type": "stream",
     "text": [
      "100%|██████████| 10/10 [00:00<00:00, 111.04it/s]\n",
      "100%|██████████| 2/2 [00:00<00:00, 262.12it/s]\n"
     ]
    },
    {
     "name": "stdout",
     "output_type": "stream",
     "text": [
      "Epoch [28/300] - Train Loss: 0.004975, Val Loss: 0.244629\n",
      "========================================\n",
      "Epoch 29/300\n",
      "----------------------------------------\n"
     ]
    },
    {
     "name": "stderr",
     "output_type": "stream",
     "text": [
      "100%|██████████| 10/10 [00:00<00:00, 108.46it/s]\n",
      "100%|██████████| 2/2 [00:00<00:00, 256.91it/s]\n"
     ]
    },
    {
     "name": "stdout",
     "output_type": "stream",
     "text": [
      "Epoch [29/300] - Train Loss: 0.003702, Val Loss: 0.195177\n",
      "========================================\n",
      "Epoch 30/300\n",
      "----------------------------------------\n"
     ]
    },
    {
     "name": "stderr",
     "output_type": "stream",
     "text": [
      "100%|██████████| 10/10 [00:00<00:00, 108.44it/s]\n",
      "100%|██████████| 2/2 [00:00<00:00, 275.41it/s]\n"
     ]
    },
    {
     "name": "stdout",
     "output_type": "stream",
     "text": [
      "Epoch [30/300] - Train Loss: 0.003574, Val Loss: 0.204638\n",
      "========================================\n",
      "Epoch 31/300\n",
      "----------------------------------------\n"
     ]
    },
    {
     "name": "stderr",
     "output_type": "stream",
     "text": [
      "100%|██████████| 10/10 [00:00<00:00, 109.76it/s]\n",
      "100%|██████████| 2/2 [00:00<00:00, 268.45it/s]\n"
     ]
    },
    {
     "name": "stdout",
     "output_type": "stream",
     "text": [
      "Epoch [31/300] - Train Loss: 0.002906, Val Loss: 0.199678\n",
      "========================================\n",
      "Epoch 32/300\n",
      "----------------------------------------\n"
     ]
    },
    {
     "name": "stderr",
     "output_type": "stream",
     "text": [
      "100%|██████████| 10/10 [00:00<00:00, 111.48it/s]\n",
      "100%|██████████| 2/2 [00:00<00:00, 259.50it/s]\n"
     ]
    },
    {
     "name": "stdout",
     "output_type": "stream",
     "text": [
      "Epoch [32/300] - Train Loss: 0.003232, Val Loss: 0.200441\n",
      "========================================\n",
      "Epoch 33/300\n",
      "----------------------------------------\n"
     ]
    },
    {
     "name": "stderr",
     "output_type": "stream",
     "text": [
      "100%|██████████| 10/10 [00:00<00:00, 108.73it/s]\n",
      "100%|██████████| 2/2 [00:00<00:00, 265.93it/s]\n"
     ]
    },
    {
     "name": "stdout",
     "output_type": "stream",
     "text": [
      "Epoch [33/300] - Train Loss: 0.002923, Val Loss: 0.191911\n",
      "========================================\n",
      "Epoch 34/300\n",
      "----------------------------------------\n"
     ]
    },
    {
     "name": "stderr",
     "output_type": "stream",
     "text": [
      "100%|██████████| 10/10 [00:00<00:00, 106.28it/s]\n",
      "100%|██████████| 2/2 [00:00<00:00, 270.92it/s]\n"
     ]
    },
    {
     "name": "stdout",
     "output_type": "stream",
     "text": [
      "Epoch [34/300] - Train Loss: 0.002761, Val Loss: 0.195094\n",
      "========================================\n",
      "Epoch 35/300\n",
      "----------------------------------------\n"
     ]
    },
    {
     "name": "stderr",
     "output_type": "stream",
     "text": [
      "100%|██████████| 10/10 [00:00<00:00, 34.91it/s]\n",
      "100%|██████████| 2/2 [00:00<00:00, 259.30it/s]\n"
     ]
    },
    {
     "name": "stdout",
     "output_type": "stream",
     "text": [
      "Epoch [35/300] - Train Loss: 0.003120, Val Loss: 0.205373\n",
      "========================================\n",
      "Epoch 36/300\n",
      "----------------------------------------\n"
     ]
    },
    {
     "name": "stderr",
     "output_type": "stream",
     "text": [
      "100%|██████████| 10/10 [00:00<00:00, 101.42it/s]\n",
      "100%|██████████| 2/2 [00:00<00:00, 250.77it/s]\n"
     ]
    },
    {
     "name": "stdout",
     "output_type": "stream",
     "text": [
      "Epoch [36/300] - Train Loss: 0.004307, Val Loss: 0.173073\n",
      "========================================\n",
      "Epoch 37/300\n",
      "----------------------------------------\n"
     ]
    },
    {
     "name": "stderr",
     "output_type": "stream",
     "text": [
      "100%|██████████| 10/10 [00:00<00:00, 101.75it/s]\n",
      "100%|██████████| 2/2 [00:00<00:00, 273.08it/s]\n"
     ]
    },
    {
     "name": "stdout",
     "output_type": "stream",
     "text": [
      "Epoch [37/300] - Train Loss: 0.009147, Val Loss: 0.293863\n",
      "========================================\n",
      "Epoch 38/300\n",
      "----------------------------------------\n"
     ]
    },
    {
     "name": "stderr",
     "output_type": "stream",
     "text": [
      "100%|██████████| 10/10 [00:00<00:00, 101.31it/s]\n",
      "100%|██████████| 2/2 [00:00<00:00, 260.21it/s]\n"
     ]
    },
    {
     "name": "stdout",
     "output_type": "stream",
     "text": [
      "Epoch [38/300] - Train Loss: 0.016859, Val Loss: 0.214263\n",
      "========================================\n",
      "Epoch 39/300\n",
      "----------------------------------------\n"
     ]
    },
    {
     "name": "stderr",
     "output_type": "stream",
     "text": [
      "100%|██████████| 10/10 [00:00<00:00, 97.47it/s]\n",
      "100%|██████████| 2/2 [00:00<00:00, 257.76it/s]\n"
     ]
    },
    {
     "name": "stdout",
     "output_type": "stream",
     "text": [
      "Epoch [39/300] - Train Loss: 0.038135, Val Loss: 0.648128\n",
      "========================================\n",
      "Epoch 40/300\n",
      "----------------------------------------\n"
     ]
    },
    {
     "name": "stderr",
     "output_type": "stream",
     "text": [
      "100%|██████████| 10/10 [00:00<00:00, 103.12it/s]\n",
      "100%|██████████| 2/2 [00:00<00:00, 266.38it/s]\n"
     ]
    },
    {
     "name": "stdout",
     "output_type": "stream",
     "text": [
      "Epoch [40/300] - Train Loss: 0.031711, Val Loss: 0.315243\n",
      "========================================\n",
      "Epoch 41/300\n",
      "----------------------------------------\n"
     ]
    },
    {
     "name": "stderr",
     "output_type": "stream",
     "text": [
      "100%|██████████| 10/10 [00:00<00:00, 98.11it/s]\n",
      "100%|██████████| 2/2 [00:00<00:00, 276.47it/s]\n"
     ]
    },
    {
     "name": "stdout",
     "output_type": "stream",
     "text": [
      "Epoch [41/300] - Train Loss: 0.028283, Val Loss: 0.635237\n",
      "========================================\n",
      "Epoch 42/300\n",
      "----------------------------------------\n"
     ]
    },
    {
     "name": "stderr",
     "output_type": "stream",
     "text": [
      "100%|██████████| 10/10 [00:00<00:00, 97.58it/s]\n",
      "100%|██████████| 2/2 [00:00<00:00, 233.32it/s]\n"
     ]
    },
    {
     "name": "stdout",
     "output_type": "stream",
     "text": [
      "Epoch [42/300] - Train Loss: 0.009724, Val Loss: 0.205249\n",
      "========================================\n",
      "Epoch 43/300\n",
      "----------------------------------------\n"
     ]
    },
    {
     "name": "stderr",
     "output_type": "stream",
     "text": [
      "100%|██████████| 10/10 [00:00<00:00, 40.16it/s]\n",
      "100%|██████████| 2/2 [00:00<00:00, 245.27it/s]\n"
     ]
    },
    {
     "name": "stdout",
     "output_type": "stream",
     "text": [
      "Epoch [43/300] - Train Loss: 0.004044, Val Loss: 0.246463\n",
      "========================================\n",
      "Epoch 44/300\n",
      "----------------------------------------\n"
     ]
    },
    {
     "name": "stderr",
     "output_type": "stream",
     "text": [
      "100%|██████████| 10/10 [00:00<00:00, 93.64it/s]\n",
      "100%|██████████| 2/2 [00:00<00:00, 243.64it/s]\n"
     ]
    },
    {
     "name": "stdout",
     "output_type": "stream",
     "text": [
      "Epoch [44/300] - Train Loss: 0.003536, Val Loss: 0.230664\n",
      "========================================\n",
      "Epoch 45/300\n",
      "----------------------------------------\n"
     ]
    },
    {
     "name": "stderr",
     "output_type": "stream",
     "text": [
      "100%|██████████| 10/10 [00:00<00:00, 102.84it/s]\n",
      "100%|██████████| 2/2 [00:00<00:00, 219.68it/s]\n"
     ]
    },
    {
     "name": "stdout",
     "output_type": "stream",
     "text": [
      "Epoch [45/300] - Train Loss: 0.002801, Val Loss: 0.211040\n",
      "========================================\n",
      "Epoch 46/300\n",
      "----------------------------------------\n"
     ]
    },
    {
     "name": "stderr",
     "output_type": "stream",
     "text": [
      "100%|██████████| 10/10 [00:00<00:00, 98.11it/s]\n",
      "100%|██████████| 2/2 [00:00<00:00, 114.94it/s]\n"
     ]
    },
    {
     "name": "stdout",
     "output_type": "stream",
     "text": [
      "Epoch [46/300] - Train Loss: 0.002338, Val Loss: 0.232274\n",
      "========================================\n",
      "Epoch 47/300\n",
      "----------------------------------------\n"
     ]
    },
    {
     "name": "stderr",
     "output_type": "stream",
     "text": [
      "100%|██████████| 10/10 [00:00<00:00, 51.64it/s]\n",
      "100%|██████████| 2/2 [00:00<00:00, 259.40it/s]\n"
     ]
    },
    {
     "name": "stdout",
     "output_type": "stream",
     "text": [
      "Epoch [47/300] - Train Loss: 0.002429, Val Loss: 0.215046\n",
      "========================================\n",
      "Epoch 48/300\n",
      "----------------------------------------\n"
     ]
    },
    {
     "name": "stderr",
     "output_type": "stream",
     "text": [
      "100%|██████████| 10/10 [00:00<00:00, 98.84it/s]\n",
      "100%|██████████| 2/2 [00:00<00:00, 243.19it/s]\n"
     ]
    },
    {
     "name": "stdout",
     "output_type": "stream",
     "text": [
      "Epoch [48/300] - Train Loss: 0.002066, Val Loss: 0.213933\n",
      "========================================\n",
      "Epoch 49/300\n",
      "----------------------------------------\n"
     ]
    },
    {
     "name": "stderr",
     "output_type": "stream",
     "text": [
      "100%|██████████| 10/10 [00:00<00:00, 102.41it/s]\n",
      "100%|██████████| 2/2 [00:00<00:00, 244.32it/s]\n"
     ]
    },
    {
     "name": "stdout",
     "output_type": "stream",
     "text": [
      "Epoch [49/300] - Train Loss: 0.002297, Val Loss: 0.213127\n",
      "========================================\n",
      "Epoch 50/300\n",
      "----------------------------------------\n"
     ]
    },
    {
     "name": "stderr",
     "output_type": "stream",
     "text": [
      "100%|██████████| 10/10 [00:00<00:00, 103.22it/s]\n",
      "100%|██████████| 2/2 [00:00<00:00, 239.41it/s]\n"
     ]
    },
    {
     "name": "stdout",
     "output_type": "stream",
     "text": [
      "Epoch [50/300] - Train Loss: 0.001945, Val Loss: 0.213125\n",
      "========================================\n",
      "Epoch 51/300\n",
      "----------------------------------------\n"
     ]
    },
    {
     "name": "stderr",
     "output_type": "stream",
     "text": [
      "100%|██████████| 10/10 [00:00<00:00, 99.29it/s]\n",
      "100%|██████████| 2/2 [00:00<00:00, 250.09it/s]\n"
     ]
    },
    {
     "name": "stdout",
     "output_type": "stream",
     "text": [
      "Epoch [51/300] - Train Loss: 0.002189, Val Loss: 0.210887\n",
      "========================================\n",
      "Epoch 52/300\n",
      "----------------------------------------\n"
     ]
    },
    {
     "name": "stderr",
     "output_type": "stream",
     "text": [
      "100%|██████████| 10/10 [00:00<00:00, 98.92it/s]\n",
      "100%|██████████| 2/2 [00:00<00:00, 222.37it/s]\n"
     ]
    },
    {
     "name": "stdout",
     "output_type": "stream",
     "text": [
      "Epoch [52/300] - Train Loss: 0.001849, Val Loss: 0.205185\n",
      "========================================\n",
      "Epoch 53/300\n",
      "----------------------------------------\n"
     ]
    },
    {
     "name": "stderr",
     "output_type": "stream",
     "text": [
      "100%|██████████| 10/10 [00:00<00:00, 101.77it/s]\n",
      "100%|██████████| 2/2 [00:00<00:00, 250.97it/s]\n"
     ]
    },
    {
     "name": "stdout",
     "output_type": "stream",
     "text": [
      "Epoch [53/300] - Train Loss: 0.001884, Val Loss: 0.211847\n",
      "========================================\n",
      "Epoch 54/300\n",
      "----------------------------------------\n"
     ]
    },
    {
     "name": "stderr",
     "output_type": "stream",
     "text": [
      "100%|██████████| 10/10 [00:00<00:00, 93.79it/s]\n",
      "100%|██████████| 2/2 [00:00<00:00, 248.39it/s]\n"
     ]
    },
    {
     "name": "stdout",
     "output_type": "stream",
     "text": [
      "Epoch [54/300] - Train Loss: 0.002061, Val Loss: 0.198816\n",
      "========================================\n",
      "Epoch 55/300\n",
      "----------------------------------------\n"
     ]
    },
    {
     "name": "stderr",
     "output_type": "stream",
     "text": [
      "100%|██████████| 10/10 [00:00<00:00, 100.11it/s]\n",
      "100%|██████████| 2/2 [00:00<00:00, 257.40it/s]\n"
     ]
    },
    {
     "name": "stdout",
     "output_type": "stream",
     "text": [
      "Epoch [55/300] - Train Loss: 0.002162, Val Loss: 0.222610\n",
      "========================================\n",
      "Epoch 56/300\n",
      "----------------------------------------\n"
     ]
    },
    {
     "name": "stderr",
     "output_type": "stream",
     "text": [
      "100%|██████████| 10/10 [00:00<00:00, 106.37it/s]\n",
      "100%|██████████| 2/2 [00:00<00:00, 246.64it/s]\n"
     ]
    },
    {
     "name": "stdout",
     "output_type": "stream",
     "text": [
      "Epoch [56/300] - Train Loss: 0.002678, Val Loss: 0.189929\n",
      "========================================\n",
      "Epoch 57/300\n",
      "----------------------------------------\n"
     ]
    },
    {
     "name": "stderr",
     "output_type": "stream",
     "text": [
      "100%|██████████| 10/10 [00:00<00:00, 100.52it/s]\n",
      "100%|██████████| 2/2 [00:00<00:00, 243.81it/s]\n"
     ]
    },
    {
     "name": "stdout",
     "output_type": "stream",
     "text": [
      "Epoch [57/300] - Train Loss: 0.003837, Val Loss: 0.243691\n",
      "========================================\n",
      "Epoch 58/300\n",
      "----------------------------------------\n"
     ]
    },
    {
     "name": "stderr",
     "output_type": "stream",
     "text": [
      "100%|██████████| 10/10 [00:00<00:00, 102.05it/s]\n",
      "100%|██████████| 2/2 [00:00<00:00, 251.29it/s]\n"
     ]
    },
    {
     "name": "stdout",
     "output_type": "stream",
     "text": [
      "Epoch [58/300] - Train Loss: 0.005943, Val Loss: 0.185682\n",
      "========================================\n",
      "Epoch 59/300\n",
      "----------------------------------------\n"
     ]
    },
    {
     "name": "stderr",
     "output_type": "stream",
     "text": [
      "100%|██████████| 10/10 [00:00<00:00, 61.32it/s]\n",
      "100%|██████████| 2/2 [00:00<00:00, 237.64it/s]\n"
     ]
    },
    {
     "name": "stdout",
     "output_type": "stream",
     "text": [
      "Epoch [59/300] - Train Loss: 0.011950, Val Loss: 0.365896\n",
      "========================================\n",
      "Epoch 60/300\n",
      "----------------------------------------\n"
     ]
    },
    {
     "name": "stderr",
     "output_type": "stream",
     "text": [
      "100%|██████████| 10/10 [00:00<00:00, 103.73it/s]\n",
      "100%|██████████| 2/2 [00:00<00:00, 266.13it/s]\n"
     ]
    },
    {
     "name": "stdout",
     "output_type": "stream",
     "text": [
      "Epoch [60/300] - Train Loss: 0.017341, Val Loss: 0.228244\n",
      "========================================\n",
      "Epoch 61/300\n",
      "----------------------------------------\n"
     ]
    },
    {
     "name": "stderr",
     "output_type": "stream",
     "text": [
      "100%|██████████| 10/10 [00:00<00:00, 93.39it/s]\n",
      "100%|██████████| 2/2 [00:00<00:00, 228.44it/s]\n"
     ]
    },
    {
     "name": "stdout",
     "output_type": "stream",
     "text": [
      "Epoch [61/300] - Train Loss: 0.031307, Val Loss: 0.612417\n",
      "========================================\n",
      "Epoch 62/300\n",
      "----------------------------------------\n"
     ]
    },
    {
     "name": "stderr",
     "output_type": "stream",
     "text": [
      "100%|██████████| 10/10 [00:00<00:00, 106.20it/s]\n",
      "100%|██████████| 2/2 [00:00<00:00, 280.27it/s]\n"
     ]
    },
    {
     "name": "stdout",
     "output_type": "stream",
     "text": [
      "Epoch [62/300] - Train Loss: 0.023494, Val Loss: 0.273248\n",
      "========================================\n",
      "Epoch 63/300\n",
      "----------------------------------------\n"
     ]
    },
    {
     "name": "stderr",
     "output_type": "stream",
     "text": [
      "100%|██████████| 10/10 [00:00<00:00, 106.71it/s]\n",
      "100%|██████████| 2/2 [00:00<00:00, 268.66it/s]\n"
     ]
    },
    {
     "name": "stdout",
     "output_type": "stream",
     "text": [
      "Epoch [63/300] - Train Loss: 0.023287, Val Loss: 0.553978\n",
      "========================================\n",
      "Epoch 64/300\n",
      "----------------------------------------\n"
     ]
    },
    {
     "name": "stderr",
     "output_type": "stream",
     "text": [
      "100%|██████████| 10/10 [00:00<00:00, 100.00it/s]\n",
      "100%|██████████| 2/2 [00:00<00:00, 233.92it/s]\n"
     ]
    },
    {
     "name": "stdout",
     "output_type": "stream",
     "text": [
      "Epoch [64/300] - Train Loss: 0.010084, Val Loss: 0.216783\n",
      "========================================\n",
      "Epoch 65/300\n",
      "----------------------------------------\n"
     ]
    },
    {
     "name": "stderr",
     "output_type": "stream",
     "text": [
      "100%|██████████| 10/10 [00:00<00:00, 97.83it/s]\n",
      "100%|██████████| 2/2 [00:00<00:00, 244.94it/s]\n"
     ]
    },
    {
     "name": "stdout",
     "output_type": "stream",
     "text": [
      "Epoch [65/300] - Train Loss: 0.005235, Val Loss: 0.309665\n",
      "========================================\n",
      "Epoch 66/300\n",
      "----------------------------------------\n"
     ]
    },
    {
     "name": "stderr",
     "output_type": "stream",
     "text": [
      "100%|██████████| 10/10 [00:00<00:00, 100.25it/s]\n",
      "100%|██████████| 2/2 [00:00<00:00, 251.80it/s]"
     ]
    },
    {
     "name": "stdout",
     "output_type": "stream",
     "text": [
      "Epoch [66/300] - Train Loss: 0.002948, Val Loss: 0.223885\n",
      "Early stopping triggered after epoch 66\n",
      "\n",
      "Best validation loss: 0.173073\n"
     ]
    },
    {
     "name": "stderr",
     "output_type": "stream",
     "text": [
      "\n"
     ]
    }
   ],
   "source": [
    "best_val_loss = float('inf')\n",
    "patience = 10\n",
    "patience_counter = 0\n",
    "\n",
    "train_losses = []\n",
    "val_losses = []\n",
    "\n",
    "print(f\"Training on device: {device}\")\n",
    "print(f\"Model parameters: {sum(p.numel() for p in model.parameters())}\")\n",
    "\n",
    "for epoch in range(num_epochs):\n",
    "\n",
    "    print(f\"{'='*40}\")\n",
    "    print(f\"Epoch {epoch+1}/{num_epochs}\")\n",
    "    print(f\"{'-'*40}\")\n",
    "\n",
    "    model.train()\n",
    "    train_loss = 0.0\n",
    "\n",
    "    for batch_x, batch_y in tqdm(train_loader):\n",
    "        batch_x, batch_y = batch_x.to(device), batch_y.to(device)\n",
    "\n",
    "        # Zero gradients\n",
    "        optimizer.zero_grad()\n",
    "\n",
    "        # Forward pass\n",
    "        outputs = model(batch_x)\n",
    "        loss = criterion(outputs, batch_y)\n",
    "\n",
    "        # Backward pass\n",
    "        loss.backward()\n",
    "        optimizer.step()\n",
    "\n",
    "        train_loss += loss.item()\n",
    "\n",
    "\n",
    "    model.eval()\n",
    "    val_loss = 0.0\n",
    "\n",
    "    with torch.no_grad():\n",
    "        for batch_x, batch_y in tqdm(val_loader):\n",
    "            batch_x, batch_y = batch_x.to(device), batch_y.to(device)\n",
    "\n",
    "            outputs = model(batch_x)\n",
    "            loss = criterion(outputs, batch_y)\n",
    "            val_loss += loss.item()\n",
    "\n",
    "    avg_train_loss = train_loss / len(train_loader)\n",
    "    avg_val_loss = val_loss / len(val_loader)\n",
    "\n",
    "    train_losses.append(avg_train_loss)\n",
    "    val_losses.append(avg_val_loss)\n",
    "\n",
    "    # scheduler.step()\n",
    "\n",
    "    # Early stopping\n",
    "    if avg_val_loss < best_val_loss:\n",
    "        best_val_loss = avg_val_loss\n",
    "        patience_counter = 0\n",
    "        # torch.save(model.state_dict(), '../models/cnn_bilstm15.pth')\n",
    "    else:\n",
    "        patience_counter += 1\n",
    "\n",
    "    # if epoch % 10 == 0 or epoch == num_epochs - 1:\n",
    "    print(f'Epoch [{epoch+1}/{num_epochs}] - Train Loss: {avg_train_loss:.6f}, Val Loss: {avg_val_loss:.6f}')\n",
    "\n",
    "    # Early stopping check\n",
    "    if patience_counter >= patience:\n",
    "        print(f'Early stopping triggered after epoch {epoch+1}')\n",
    "        break\n",
    "\n",
    "print(f'\\nBest validation loss: {best_val_loss:.6f}')"
   ]
  },
  {
   "cell_type": "code",
   "execution_count": 54,
   "id": "4155aced",
   "metadata": {},
   "outputs": [
    {
     "data": {
      "image/png": "[encoded data removed]",
      "text/plain": [
       "<Figure size 1000x500 with 1 Axes>"
      ]
     },
     "metadata": {},
     "output_type": "display_data"
    }
   ],
   "source": [
    "import matplotlib.pyplot as plt\n",
    "\n",
    "# Plot training and validation losses\n",
    "plt.figure(figsize=(10, 5))\n",
    "plt.plot(train_losses, label='Train Loss', color='blue')\n",
    "plt.plot(val_losses, label='Validation Loss', color='orange')\n",
    "plt.xlabel('Epochs')\n",
    "plt.ylabel('Loss')\n",
    "plt.title('Training and Validation Losses')\n",
    "plt.legend()\n",
    "plt.grid()\n",
    "plt.show()"
   ]
  },
  {
   "cell_type": "code",
   "execution_count": 55,
   "id": "91de50f7",
   "metadata": {},
   "outputs": [
    {
     "name": "stdout",
     "output_type": "stream",
     "text": [
      "Test Loss: 0.411594\n"
     ]
    }
   ],
   "source": [
    "# Test phase\n",
    "model.eval()\n",
    "test_loss = 0.0\n",
    "test_predictions = []\n",
    "test_targets = []\n",
    "\n",
    "with torch.no_grad():\n",
    "    for batch_x, batch_y in test_loader:\n",
    "        batch_x, batch_y = batch_x.to(device), batch_y.to(device)\n",
    "\n",
    "        outputs = model(batch_x)\n",
    "        loss = criterion(outputs, batch_y)\n",
    "        test_loss += loss.item()\n",
    "\n",
    "        test_predictions.extend(outputs.cpu().numpy())\n",
    "        test_targets.extend(batch_y.cpu().numpy())\n",
    "\n",
    "avg_test_loss = test_loss / len(test_loader)\n",
    "print(f'Test Loss: {avg_test_loss:.6f}')\n",
    "\n",
    "# Convert to numpy arrays for analysis\n",
    "test_predictions = np.array(test_predictions)\n",
    "test_targets = np.array(test_targets)"
   ]
  },
  {
   "cell_type": "code",
   "execution_count": 56,
   "id": "9bdc3eba",
   "metadata": {},
   "outputs": [
    {
     "data": {
      "image/png": "[encoded data removed]",
      "text/plain": [
       "<Figure size 1000x500 with 1 Axes>"
      ]
     },
     "metadata": {},
     "output_type": "display_data"
    }
   ],
   "source": [
    "# plot predictions vs targets\n",
    "plt.figure(figsize=(10, 5))\n",
    "plt.plot(test_targets, label='Actual', color='red')\n",
    "plt.plot(test_predictions, label='Predicted', color='blue', linestyle='--')\n",
    "plt.xlabel('Samples')\n",
    "plt.ylabel('Price')\n",
    "plt.title('LSTM Predictions vs Actual Prices')\n",
    "plt.legend()\n",
    "plt.grid()\n",
    "plt.show()"
   ]
  },
  {
   "cell_type": "code",
   "execution_count": null,
   "id": "23b8974c",
   "metadata": {},
   "outputs": [],
   "source": []
  },
  {
   "cell_type": "code",
   "execution_count": null,
   "id": "0a3f033e",
   "metadata": {},
   "outputs": [],
   "source": []
  },
  {
   "cell_type": "code",
   "execution_count": null,
   "id": "2eb51d6d",
   "metadata": {},
   "outputs": [],
   "source": []
  }
 ],
 "metadata": {
  "kernelspec": {
   "display_name": "Python 3",
   "language": "python",
   "name": "python3"
  },
  "language_info": {
   "codemirror_mode": {
    "name": "ipython",
    "version": 3
   },
   "file_extension": ".py",
   "mimetype": "text/x-python",
   "name": "python",
   "nbconvert_exporter": "python",
   "pygments_lexer": "ipython3",
   "version": "3.11.13"
  }
 },
 "nbformat": 4,
 "nbformat_minor": 5
}

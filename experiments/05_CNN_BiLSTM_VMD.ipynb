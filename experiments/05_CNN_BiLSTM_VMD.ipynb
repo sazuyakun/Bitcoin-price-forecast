{
 "cells": [
  {
   "cell_type": "markdown",
   "id": "74139d97",
   "metadata": {},
   "source": [
    "### Hyperparameters:\n",
    "| Hyperparameter       | Value   |\n",
    "|----------------------|---------|\n",
    "| num-filters          | 32      |\n",
    "| num-bilstm-layer     | 2       |\n",
    "| output-lstm-dim      | 64      |\n",
    "| decay-rate           | 0.8     |\n",
    "| learning-rate        | 0.01    |\n",
    "| miniBatchSize        | 256     |\n",
    "| filter-size          | 10 × 1  |\n",
    "| input-lstm-dim       | 100     |\n",
    "| L2Regularization     | 0.001   |\n",
    "| optimizer            | Adam    |\n",
    "| dropout              | 0.25    |\n",
    "| maxEpochs            | 500     |"
   ]
  },
  {
   "cell_type": "code",
   "execution_count": 1,
   "id": "c3535ef1",
   "metadata": {},
   "outputs": [],
   "source": [
    "import sys\n",
    "sys.path.append(\"..\")"
   ]
  },
  {
   "cell_type": "code",
   "execution_count": 104,
   "id": "285f0ee6",
   "metadata": {},
   "outputs": [],
   "source": [
    "from tqdm import tqdm\n",
    "import pandas as pd\n",
    "import numpy as np\n",
    "\n",
    "import torch\n",
    "from torch.utils.data import TensorDataset, DataLoader\n",
    "import torch.nn as nn\n",
    "import torch.nn.functional as F\n",
    "\n",
    "from utils.helper import *"
   ]
  },
  {
   "cell_type": "code",
   "execution_count": 148,
   "id": "1b677a4c",
   "metadata": {},
   "outputs": [],
   "source": [
    "df = pd.read_csv(\"../data/Final_Btc_Data_with_Indicators.csv\", parse_dates=['Date'])\n",
    "\n",
    "K = 7\n",
    "df = scaled_data_vmd(df, _K=K)\n",
    "\n",
    "target_col = \"Price\"\n",
    "features = [col for col in df.columns if col != target_col and col != \"Date\"]\n",
    "\n",
    "seq_len = 15\n",
    "horizon = 1\n",
    "X, y = create_sequences(df[features].values, df[target_col].values, seq_len, horizon)"
   ]
  },
  {
   "cell_type": "code",
   "execution_count": 149,
   "id": "cc03954e",
   "metadata": {},
   "outputs": [],
   "source": [
    "batch_size = 256\n",
    "\n",
    "train_loader, val_loader, test_loader = data_loaders(df, X, y, batch_size=batch_size)"
   ]
  },
  {
   "cell_type": "code",
   "execution_count": 150,
   "id": "944b2d4e",
   "metadata": {},
   "outputs": [
    {
     "name": "stdout",
     "output_type": "stream",
     "text": [
      "Input shape: torch.Size([256, 15, 112])\n",
      "Target shape: torch.Size([256])\n"
     ]
    }
   ],
   "source": [
    "input, target = next(iter(train_loader))\n",
    "\n",
    "print(f\"Input shape: {input.shape}\")\n",
    "print(f\"Target shape: {target.shape}\")"
   ]
  },
  {
   "cell_type": "markdown",
   "id": "352b70e9",
   "metadata": {},
   "source": [
    "## CNN-BiLSTM"
   ]
  },
  {
   "cell_type": "code",
   "execution_count": 151,
   "id": "009490c1",
   "metadata": {},
   "outputs": [],
   "source": [
    "class CNNBiLSTM(nn.Module):\n",
    "    def __init__(self, input_dim, num_filters=32, num_bilstm_layers=2, lstm_hidden=64, filter_size=(10, 1), input_lstm_dim=100, dropout_rate=0.25):\n",
    "        super().__init__()\n",
    "        self.conv1 = nn.Conv1d(\n",
    "            in_channels=input_dim,\n",
    "            out_channels=num_filters,\n",
    "            kernel_size=filter_size[0],\n",
    "            stride=1,\n",
    "            padding=filter_size[0] // 2\n",
    "        )\n",
    "\n",
    "        self.proj = nn.Linear(num_filters, input_lstm_dim)\n",
    "\n",
    "        self.relu = nn.ReLU()\n",
    "\n",
    "        self.bilstm1 = nn.LSTM(\n",
    "            input_size=input_lstm_dim,\n",
    "            hidden_size=lstm_hidden,\n",
    "            batch_first=True,\n",
    "            bidirectional=True\n",
    "        )\n",
    "\n",
    "        self.drop1 = nn.Dropout(dropout_rate)\n",
    "\n",
    "        self.bilstm2 = nn.LSTM(\n",
    "            input_size = 2 * lstm_hidden,\n",
    "            hidden_size=lstm_hidden,\n",
    "            batch_first=True,\n",
    "            bidirectional=True\n",
    "        )\n",
    "\n",
    "        self.fc = nn.Linear(lstm_hidden * 2, 1)\n",
    "\n",
    "\n",
    "    def forward(self, x):\n",
    "        x = x.permute(0, 2, 1)\n",
    "        x = self.relu(self.conv1(x))\n",
    "\n",
    "        x = x.permute(0, 2, 1)\n",
    "        x = self.relu(self.proj(x))\n",
    "\n",
    "        # BiLSTM layers\n",
    "        out, _ = self.bilstm1(x)\n",
    "        out = self.drop1(out)\n",
    "        out, _ = self.bilstm2(out)\n",
    "\n",
    "        # take last time step\n",
    "        out = out[:, -1, :]\n",
    "        out = self.fc(out)\n",
    "        return out.squeeze(-1)"
   ]
  },
  {
   "cell_type": "code",
   "execution_count": 152,
   "id": "14ee12c5",
   "metadata": {},
   "outputs": [
    {
     "name": "stdout",
     "output_type": "stream",
     "text": [
      "Using device: mps\n"
     ]
    }
   ],
   "source": [
    "if torch.backends.mps.is_available():\n",
    "    device = torch.device(\"mps\")\n",
    "elif torch.cuda.is_available():\n",
    "    device = torch.device(\"cuda\")\n",
    "else:\n",
    "    device = torch.device(\"cpu\")\n",
    "\n",
    "print(f\"Using device: {device}\")"
   ]
  },
  {
   "cell_type": "code",
   "execution_count": 153,
   "id": "433246e6",
   "metadata": {},
   "outputs": [],
   "source": [
    "model = CNNBiLSTM(input_dim=len(features))"
   ]
  },
  {
   "cell_type": "code",
   "execution_count": 154,
   "id": "1a714ba4",
   "metadata": {},
   "outputs": [],
   "source": [
    "decay_rate = 0.8\n",
    "num_epochs = 500\n",
    "learning_rate = 0.001\n",
    "l2_penalty = 0.001"
   ]
  },
  {
   "cell_type": "code",
   "execution_count": 155,
   "id": "b433b24b",
   "metadata": {},
   "outputs": [],
   "source": [
    "model = model.to(device)\n",
    "\n",
    "criterion = nn.MSELoss()\n",
    "optimizer = torch.optim.Adam(\n",
    "    model.parameters(),\n",
    "    lr=learning_rate,\n",
    "    # weight_decay=l2_penalty\n",
    ")\n",
    "\n",
    "# scheduler = torch.optim.lr_scheduler.ExponentialLR(\n",
    "#     optimizer,\n",
    "#     gamma=decay_rate\n",
    "# )\n",
    "scheduler = torch.optim.lr_scheduler.StepLR(\n",
    "    optimizer,\n",
    "    step_size=5,\n",
    "    gamma=decay_rate\n",
    ")"
   ]
  },
  {
   "cell_type": "code",
   "execution_count": 156,
   "id": "9eaaa2f1",
   "metadata": {},
   "outputs": [
    {
     "name": "stdout",
     "output_type": "stream",
     "text": [
      "Training on device: mps\n",
      "Model parameters: 223621\n",
      "========================================\n",
      "Epoch 1/500\n",
      "----------------------------------------\n"
     ]
    },
    {
     "name": "stderr",
     "output_type": "stream",
     "text": [
      "100%|██████████| 10/10 [00:00<00:00, 28.80it/s]\n",
      "100%|██████████| 2/2 [00:00<00:00, 127.36it/s]\n"
     ]
    },
    {
     "name": "stdout",
     "output_type": "stream",
     "text": [
      "Epoch [1/500] - Train Loss: 1.253129, Val Loss: 19.043070\n",
      "========================================\n",
      "Epoch 2/500\n",
      "----------------------------------------\n"
     ]
    },
    {
     "name": "stderr",
     "output_type": "stream",
     "text": [
      "100%|██████████| 10/10 [00:00<00:00, 54.81it/s]\n",
      "100%|██████████| 2/2 [00:00<00:00, 161.64it/s]\n"
     ]
    },
    {
     "name": "stdout",
     "output_type": "stream",
     "text": [
      "Epoch [2/500] - Train Loss: 0.887941, Val Loss: 14.737773\n",
      "========================================\n",
      "Epoch 3/500\n",
      "----------------------------------------\n"
     ]
    },
    {
     "name": "stderr",
     "output_type": "stream",
     "text": [
      "100%|██████████| 10/10 [00:00<00:00, 56.35it/s]\n",
      "100%|██████████| 2/2 [00:00<00:00, 107.29it/s]\n"
     ]
    },
    {
     "name": "stdout",
     "output_type": "stream",
     "text": [
      "Epoch [3/500] - Train Loss: 0.565851, Val Loss: 9.907017\n",
      "========================================\n",
      "Epoch 4/500\n",
      "----------------------------------------\n"
     ]
    },
    {
     "name": "stderr",
     "output_type": "stream",
     "text": [
      "100%|██████████| 10/10 [00:00<00:00, 55.01it/s]\n",
      "100%|██████████| 2/2 [00:00<00:00, 150.51it/s]\n"
     ]
    },
    {
     "name": "stdout",
     "output_type": "stream",
     "text": [
      "Epoch [4/500] - Train Loss: 0.424377, Val Loss: 6.311080\n",
      "========================================\n",
      "Epoch 5/500\n",
      "----------------------------------------\n"
     ]
    },
    {
     "name": "stderr",
     "output_type": "stream",
     "text": [
      "100%|██████████| 10/10 [00:00<00:00, 55.20it/s]\n",
      "100%|██████████| 2/2 [00:00<00:00, 151.61it/s]\n"
     ]
    },
    {
     "name": "stdout",
     "output_type": "stream",
     "text": [
      "Epoch [5/500] - Train Loss: 0.252958, Val Loss: 4.665098\n",
      "========================================\n",
      "Epoch 6/500\n",
      "----------------------------------------\n"
     ]
    },
    {
     "name": "stderr",
     "output_type": "stream",
     "text": [
      "100%|██████████| 10/10 [00:00<00:00, 55.34it/s]\n",
      "100%|██████████| 2/2 [00:00<00:00, 155.46it/s]\n"
     ]
    },
    {
     "name": "stdout",
     "output_type": "stream",
     "text": [
      "Epoch [6/500] - Train Loss: 0.129582, Val Loss: 2.061738\n",
      "========================================\n",
      "Epoch 7/500\n",
      "----------------------------------------\n"
     ]
    },
    {
     "name": "stderr",
     "output_type": "stream",
     "text": [
      "100%|██████████| 10/10 [00:00<00:00, 55.93it/s]\n",
      "100%|██████████| 2/2 [00:00<00:00, 161.40it/s]\n"
     ]
    },
    {
     "name": "stdout",
     "output_type": "stream",
     "text": [
      "Epoch [7/500] - Train Loss: 0.061774, Val Loss: 1.284624\n",
      "========================================\n",
      "Epoch 8/500\n",
      "----------------------------------------\n"
     ]
    },
    {
     "name": "stderr",
     "output_type": "stream",
     "text": [
      "100%|██████████| 10/10 [00:00<00:00, 56.04it/s]\n",
      "100%|██████████| 2/2 [00:00<00:00, 161.79it/s]\n"
     ]
    },
    {
     "name": "stdout",
     "output_type": "stream",
     "text": [
      "Epoch [8/500] - Train Loss: 0.029088, Val Loss: 0.813154\n",
      "========================================\n",
      "Epoch 9/500\n",
      "----------------------------------------\n"
     ]
    },
    {
     "name": "stderr",
     "output_type": "stream",
     "text": [
      "100%|██████████| 10/10 [00:00<00:00, 54.34it/s]\n",
      "100%|██████████| 2/2 [00:00<00:00, 142.18it/s]\n"
     ]
    },
    {
     "name": "stdout",
     "output_type": "stream",
     "text": [
      "Epoch [9/500] - Train Loss: 0.046584, Val Loss: 0.289509\n",
      "========================================\n",
      "Epoch 10/500\n",
      "----------------------------------------\n"
     ]
    },
    {
     "name": "stderr",
     "output_type": "stream",
     "text": [
      "100%|██████████| 10/10 [00:00<00:00, 36.98it/s]\n",
      "100%|██████████| 2/2 [00:00<00:00, 111.36it/s]\n"
     ]
    },
    {
     "name": "stdout",
     "output_type": "stream",
     "text": [
      "Epoch [10/500] - Train Loss: 0.223369, Val Loss: 3.716058\n",
      "========================================\n",
      "Epoch 11/500\n",
      "----------------------------------------\n"
     ]
    },
    {
     "name": "stderr",
     "output_type": "stream",
     "text": [
      "100%|██████████| 10/10 [00:00<00:00, 52.52it/s]\n",
      "100%|██████████| 2/2 [00:00<00:00, 138.00it/s]\n"
     ]
    },
    {
     "name": "stdout",
     "output_type": "stream",
     "text": [
      "Epoch [11/500] - Train Loss: 0.055610, Val Loss: 0.394440\n",
      "========================================\n",
      "Epoch 12/500\n",
      "----------------------------------------\n"
     ]
    },
    {
     "name": "stderr",
     "output_type": "stream",
     "text": [
      "100%|██████████| 10/10 [00:00<00:00, 52.13it/s]\n",
      "100%|██████████| 2/2 [00:00<00:00, 155.30it/s]\n"
     ]
    },
    {
     "name": "stdout",
     "output_type": "stream",
     "text": [
      "Epoch [12/500] - Train Loss: 0.089454, Val Loss: 1.343926\n",
      "========================================\n",
      "Epoch 13/500\n",
      "----------------------------------------\n"
     ]
    },
    {
     "name": "stderr",
     "output_type": "stream",
     "text": [
      "100%|██████████| 10/10 [00:00<00:00, 46.07it/s]\n",
      "100%|██████████| 2/2 [00:00<00:00, 141.17it/s]\n"
     ]
    },
    {
     "name": "stdout",
     "output_type": "stream",
     "text": [
      "Epoch [13/500] - Train Loss: 0.069742, Val Loss: 0.559325\n",
      "========================================\n",
      "Epoch 14/500\n",
      "----------------------------------------\n"
     ]
    },
    {
     "name": "stderr",
     "output_type": "stream",
     "text": [
      "100%|██████████| 10/10 [00:00<00:00, 49.64it/s]\n",
      "100%|██████████| 2/2 [00:00<00:00, 136.87it/s]\n"
     ]
    },
    {
     "name": "stdout",
     "output_type": "stream",
     "text": [
      "Epoch [14/500] - Train Loss: 0.040333, Val Loss: 0.686270\n",
      "========================================\n",
      "Epoch 15/500\n",
      "----------------------------------------\n"
     ]
    },
    {
     "name": "stderr",
     "output_type": "stream",
     "text": [
      "100%|██████████| 10/10 [00:00<00:00, 53.50it/s]\n",
      "100%|██████████| 2/2 [00:00<00:00, 127.54it/s]\n"
     ]
    },
    {
     "name": "stdout",
     "output_type": "stream",
     "text": [
      "Epoch [15/500] - Train Loss: 0.013470, Val Loss: 0.361499\n",
      "========================================\n",
      "Epoch 16/500\n",
      "----------------------------------------\n"
     ]
    },
    {
     "name": "stderr",
     "output_type": "stream",
     "text": [
      "100%|██████████| 10/10 [00:00<00:00, 33.49it/s]\n",
      "100%|██████████| 2/2 [00:00<00:00, 157.67it/s]\n"
     ]
    },
    {
     "name": "stdout",
     "output_type": "stream",
     "text": [
      "Epoch [16/500] - Train Loss: 0.011368, Val Loss: 0.330789\n",
      "========================================\n",
      "Epoch 17/500\n",
      "----------------------------------------\n"
     ]
    },
    {
     "name": "stderr",
     "output_type": "stream",
     "text": [
      "100%|██████████| 10/10 [00:00<00:00, 49.78it/s]\n",
      "100%|██████████| 2/2 [00:00<00:00, 138.95it/s]\n"
     ]
    },
    {
     "name": "stdout",
     "output_type": "stream",
     "text": [
      "Epoch [17/500] - Train Loss: 0.010242, Val Loss: 0.394923\n",
      "========================================\n",
      "Epoch 18/500\n",
      "----------------------------------------\n"
     ]
    },
    {
     "name": "stderr",
     "output_type": "stream",
     "text": [
      "100%|██████████| 10/10 [00:00<00:00, 52.08it/s]\n",
      "100%|██████████| 2/2 [00:00<00:00, 132.89it/s]\n"
     ]
    },
    {
     "name": "stdout",
     "output_type": "stream",
     "text": [
      "Epoch [18/500] - Train Loss: 0.006960, Val Loss: 0.278761\n",
      "========================================\n",
      "Epoch 19/500\n",
      "----------------------------------------\n"
     ]
    },
    {
     "name": "stderr",
     "output_type": "stream",
     "text": [
      "100%|██████████| 10/10 [00:00<00:00, 40.94it/s]\n",
      "100%|██████████| 2/2 [00:00<00:00, 149.18it/s]\n"
     ]
    },
    {
     "name": "stdout",
     "output_type": "stream",
     "text": [
      "Epoch [19/500] - Train Loss: 0.005303, Val Loss: 0.312382\n",
      "========================================\n",
      "Epoch 20/500\n",
      "----------------------------------------\n"
     ]
    },
    {
     "name": "stderr",
     "output_type": "stream",
     "text": [
      "100%|██████████| 10/10 [00:00<00:00, 51.47it/s]\n",
      "100%|██████████| 2/2 [00:00<00:00, 141.79it/s]\n"
     ]
    },
    {
     "name": "stdout",
     "output_type": "stream",
     "text": [
      "Epoch [20/500] - Train Loss: 0.003684, Val Loss: 0.284563\n",
      "========================================\n",
      "Epoch 21/500\n",
      "----------------------------------------\n"
     ]
    },
    {
     "name": "stderr",
     "output_type": "stream",
     "text": [
      "100%|██████████| 10/10 [00:00<00:00, 52.27it/s]\n",
      "100%|██████████| 2/2 [00:00<00:00, 139.82it/s]\n"
     ]
    },
    {
     "name": "stdout",
     "output_type": "stream",
     "text": [
      "Epoch [21/500] - Train Loss: 0.003780, Val Loss: 0.260445\n",
      "========================================\n",
      "Epoch 22/500\n",
      "----------------------------------------\n"
     ]
    },
    {
     "name": "stderr",
     "output_type": "stream",
     "text": [
      "100%|██████████| 10/10 [00:00<00:00, 53.06it/s]\n",
      "100%|██████████| 2/2 [00:00<00:00, 159.63it/s]\n"
     ]
    },
    {
     "name": "stdout",
     "output_type": "stream",
     "text": [
      "Epoch [22/500] - Train Loss: 0.003610, Val Loss: 0.291906\n",
      "========================================\n",
      "Epoch 23/500\n",
      "----------------------------------------\n"
     ]
    },
    {
     "name": "stderr",
     "output_type": "stream",
     "text": [
      "100%|██████████| 10/10 [00:00<00:00, 51.29it/s]\n",
      "100%|██████████| 2/2 [00:00<00:00, 142.85it/s]\n"
     ]
    },
    {
     "name": "stdout",
     "output_type": "stream",
     "text": [
      "Epoch [23/500] - Train Loss: 0.003538, Val Loss: 0.263640\n",
      "========================================\n",
      "Epoch 24/500\n",
      "----------------------------------------\n"
     ]
    },
    {
     "name": "stderr",
     "output_type": "stream",
     "text": [
      "100%|██████████| 10/10 [00:00<00:00, 52.98it/s]\n",
      "100%|██████████| 2/2 [00:00<00:00, 143.72it/s]\n"
     ]
    },
    {
     "name": "stdout",
     "output_type": "stream",
     "text": [
      "Epoch [24/500] - Train Loss: 0.004288, Val Loss: 0.294015\n",
      "========================================\n",
      "Epoch 25/500\n",
      "----------------------------------------\n"
     ]
    },
    {
     "name": "stderr",
     "output_type": "stream",
     "text": [
      "100%|██████████| 10/10 [00:00<00:00, 41.43it/s]\n",
      "100%|██████████| 2/2 [00:00<00:00, 133.07it/s]\n"
     ]
    },
    {
     "name": "stdout",
     "output_type": "stream",
     "text": [
      "Epoch [25/500] - Train Loss: 0.005903, Val Loss: 0.242741\n",
      "========================================\n",
      "Epoch 26/500\n",
      "----------------------------------------\n"
     ]
    },
    {
     "name": "stderr",
     "output_type": "stream",
     "text": [
      "100%|██████████| 10/10 [00:00<00:00, 49.30it/s]\n",
      "100%|██████████| 2/2 [00:00<00:00, 149.30it/s]\n"
     ]
    },
    {
     "name": "stdout",
     "output_type": "stream",
     "text": [
      "Epoch [26/500] - Train Loss: 0.009753, Val Loss: 0.375704\n",
      "========================================\n",
      "Epoch 27/500\n",
      "----------------------------------------\n"
     ]
    },
    {
     "name": "stderr",
     "output_type": "stream",
     "text": [
      "100%|██████████| 10/10 [00:00<00:00, 52.35it/s]\n",
      "100%|██████████| 2/2 [00:00<00:00, 135.42it/s]\n"
     ]
    },
    {
     "name": "stdout",
     "output_type": "stream",
     "text": [
      "Epoch [27/500] - Train Loss: 0.019940, Val Loss: 0.310210\n",
      "========================================\n",
      "Epoch 28/500\n",
      "----------------------------------------\n"
     ]
    },
    {
     "name": "stderr",
     "output_type": "stream",
     "text": [
      "100%|██████████| 10/10 [00:00<00:00, 52.57it/s]\n",
      "100%|██████████| 2/2 [00:00<00:00, 152.32it/s]\n"
     ]
    },
    {
     "name": "stdout",
     "output_type": "stream",
     "text": [
      "Epoch [28/500] - Train Loss: 0.028061, Val Loss: 0.644282\n",
      "========================================\n",
      "Epoch 29/500\n",
      "----------------------------------------\n"
     ]
    },
    {
     "name": "stderr",
     "output_type": "stream",
     "text": [
      "100%|██████████| 10/10 [00:00<00:00, 52.04it/s]\n",
      "100%|██████████| 2/2 [00:00<00:00, 138.36it/s]\n"
     ]
    },
    {
     "name": "stdout",
     "output_type": "stream",
     "text": [
      "Epoch [29/500] - Train Loss: 0.014843, Val Loss: 0.274011\n",
      "========================================\n",
      "Epoch 30/500\n",
      "----------------------------------------\n"
     ]
    },
    {
     "name": "stderr",
     "output_type": "stream",
     "text": [
      "100%|██████████| 10/10 [00:00<00:00, 41.24it/s]\n",
      "100%|██████████| 2/2 [00:00<00:00, 146.50it/s]\n"
     ]
    },
    {
     "name": "stdout",
     "output_type": "stream",
     "text": [
      "Epoch [30/500] - Train Loss: 0.008698, Val Loss: 0.384769\n",
      "========================================\n",
      "Epoch 31/500\n",
      "----------------------------------------\n"
     ]
    },
    {
     "name": "stderr",
     "output_type": "stream",
     "text": [
      "100%|██████████| 10/10 [00:00<00:00, 46.49it/s]\n",
      "100%|██████████| 2/2 [00:00<00:00, 155.35it/s]\n"
     ]
    },
    {
     "name": "stdout",
     "output_type": "stream",
     "text": [
      "Epoch [31/500] - Train Loss: 0.004998, Val Loss: 0.250308\n",
      "========================================\n",
      "Epoch 32/500\n",
      "----------------------------------------\n"
     ]
    },
    {
     "name": "stderr",
     "output_type": "stream",
     "text": [
      "100%|██████████| 10/10 [00:00<00:00, 54.95it/s]\n",
      "100%|██████████| 2/2 [00:00<00:00, 159.30it/s]\n"
     ]
    },
    {
     "name": "stdout",
     "output_type": "stream",
     "text": [
      "Epoch [32/500] - Train Loss: 0.003880, Val Loss: 0.290016\n",
      "========================================\n",
      "Epoch 33/500\n",
      "----------------------------------------\n"
     ]
    },
    {
     "name": "stderr",
     "output_type": "stream",
     "text": [
      "100%|██████████| 10/10 [00:00<00:00, 42.37it/s]\n",
      "100%|██████████| 2/2 [00:00<00:00, 55.42it/s]\n"
     ]
    },
    {
     "name": "stdout",
     "output_type": "stream",
     "text": [
      "Epoch [33/500] - Train Loss: 0.002993, Val Loss: 0.269461\n",
      "========================================\n",
      "Epoch 34/500\n",
      "----------------------------------------\n"
     ]
    },
    {
     "name": "stderr",
     "output_type": "stream",
     "text": [
      "100%|██████████| 10/10 [00:00<00:00, 39.37it/s]\n",
      "100%|██████████| 2/2 [00:00<00:00, 120.22it/s]\n"
     ]
    },
    {
     "name": "stdout",
     "output_type": "stream",
     "text": [
      "Epoch [34/500] - Train Loss: 0.003600, Val Loss: 0.261294\n",
      "========================================\n",
      "Epoch 35/500\n",
      "----------------------------------------\n"
     ]
    },
    {
     "name": "stderr",
     "output_type": "stream",
     "text": [
      "100%|██████████| 10/10 [00:00<00:00, 50.58it/s]\n",
      "100%|██████████| 2/2 [00:00<00:00, 150.53it/s]"
     ]
    },
    {
     "name": "stdout",
     "output_type": "stream",
     "text": [
      "Epoch [35/500] - Train Loss: 0.003268, Val Loss: 0.298390\n",
      "Early stopping triggered after epoch 35\n",
      "\n",
      "Best validation loss: 0.242741\n"
     ]
    },
    {
     "name": "stderr",
     "output_type": "stream",
     "text": [
      "\n"
     ]
    }
   ],
   "source": [
    "best_val_loss = float('inf')\n",
    "patience = 10\n",
    "patience_counter = 0\n",
    "\n",
    "train_losses = []\n",
    "val_losses = []\n",
    "\n",
    "print(f\"Training on device: {device}\")\n",
    "print(f\"Model parameters: {sum(p.numel() for p in model.parameters())}\")\n",
    "\n",
    "for epoch in range(num_epochs):\n",
    "\n",
    "    print(f\"{'='*40}\")\n",
    "    print(f\"Epoch {epoch+1}/{num_epochs}\")\n",
    "    print(f\"{'-'*40}\")\n",
    "\n",
    "    model.train()\n",
    "    train_loss = 0.0\n",
    "\n",
    "    for batch_x, batch_y in tqdm(train_loader):\n",
    "        batch_x, batch_y = batch_x.to(device), batch_y.to(device)\n",
    "\n",
    "        # Zero gradients\n",
    "        optimizer.zero_grad()\n",
    "\n",
    "        # Forward pass\n",
    "        outputs = model(batch_x)\n",
    "        loss = criterion(outputs, batch_y)\n",
    "\n",
    "        # Backward pass\n",
    "        loss.backward()\n",
    "        optimizer.step()\n",
    "\n",
    "        train_loss += loss.item()\n",
    "\n",
    "\n",
    "    model.eval()\n",
    "    val_loss = 0.0\n",
    "\n",
    "    with torch.no_grad():\n",
    "        for batch_x, batch_y in tqdm(val_loader):\n",
    "            batch_x, batch_y = batch_x.to(device), batch_y.to(device)\n",
    "\n",
    "            outputs = model(batch_x)\n",
    "            loss = criterion(outputs, batch_y)\n",
    "            val_loss += loss.item()\n",
    "\n",
    "    avg_train_loss = train_loss / len(train_loader)\n",
    "    avg_val_loss = val_loss / len(val_loader)\n",
    "\n",
    "    train_losses.append(avg_train_loss)\n",
    "    val_losses.append(avg_val_loss)\n",
    "\n",
    "    # scheduler.step()\n",
    "\n",
    "    # Early stopping\n",
    "    if avg_val_loss < best_val_loss:\n",
    "        best_val_loss = avg_val_loss\n",
    "        patience_counter = 0\n",
    "        # torch.save(model.state_dict(), '../models/cnn_bilstm15.pth')\n",
    "    else:\n",
    "        patience_counter += 1\n",
    "\n",
    "    # if epoch % 10 == 0 or epoch == num_epochs - 1:\n",
    "    print(f'Epoch [{epoch+1}/{num_epochs}] - Train Loss: {avg_train_loss:.6f}, Val Loss: {avg_val_loss:.6f}')\n",
    "\n",
    "    # Early stopping check\n",
    "    if patience_counter >= patience:\n",
    "        print(f'Early stopping triggered after epoch {epoch+1}')\n",
    "        break\n",
    "\n",
    "print(f'\\nBest validation loss: {best_val_loss:.6f}')"
   ]
  },
  {
   "cell_type": "code",
   "execution_count": 157,
   "id": "4155aced",
   "metadata": {},
   "outputs": [
    {
     "data": {
      "image/png": "[encoded data removed]",
      "text/plain": [
       "<Figure size 1000x500 with 1 Axes>"
      ]
     },
     "metadata": {},
     "output_type": "display_data"
    }
   ],
   "source": [
    "import matplotlib.pyplot as plt\n",
    "\n",
    "# Plot training and validation losses\n",
    "plt.figure(figsize=(10, 5))\n",
    "plt.plot(train_losses, label='Train Loss', color='blue')\n",
    "plt.plot(val_losses, label='Validation Loss', color='orange')\n",
    "plt.xlabel('Epochs')\n",
    "plt.ylabel('Loss')\n",
    "plt.title('Training and Validation Losses')\n",
    "plt.legend()\n",
    "plt.grid()\n",
    "plt.show()"
   ]
  },
  {
   "cell_type": "code",
   "execution_count": 158,
   "id": "91de50f7",
   "metadata": {},
   "outputs": [
    {
     "name": "stdout",
     "output_type": "stream",
     "text": [
      "Test Loss: 0.422387\n"
     ]
    }
   ],
   "source": [
    "# Test phase\n",
    "model.eval()\n",
    "test_loss = 0.0\n",
    "test_predictions = []\n",
    "test_targets = []\n",
    "\n",
    "with torch.no_grad():\n",
    "    for batch_x, batch_y in test_loader:\n",
    "        batch_x, batch_y = batch_x.to(device), batch_y.to(device)\n",
    "\n",
    "        outputs = model(batch_x)\n",
    "        loss = criterion(outputs, batch_y)\n",
    "        test_loss += loss.item()\n",
    "\n",
    "        test_predictions.extend(outputs.cpu().numpy())\n",
    "        test_targets.extend(batch_y.cpu().numpy())\n",
    "\n",
    "avg_test_loss = test_loss / len(test_loader)\n",
    "print(f'Test Loss: {avg_test_loss:.6f}')\n",
    "\n",
    "# Convert to numpy arrays for analysis\n",
    "test_predictions = np.array(test_predictions)\n",
    "test_targets = np.array(test_targets)"
   ]
  },
  {
   "cell_type": "code",
   "execution_count": 147,
   "id": "9bdc3eba",
   "metadata": {},
   "outputs": [
    {
     "data": {
      "image/png": "[encoded data removed]",
      "text/plain": [
       "<Figure size 1000x500 with 1 Axes>"
      ]
     },
     "metadata": {},
     "output_type": "display_data"
    }
   ],
   "source": [
    "# plot predictions vs targets\n",
    "plt.figure(figsize=(10, 5))\n",
    "plt.plot(test_targets, label='Actual', color='red')\n",
    "plt.plot(test_predictions, label='Predicted', color='blue', linestyle='--')\n",
    "plt.xlabel('Samples')\n",
    "plt.ylabel('Price')\n",
    "plt.title('LSTM Predictions vs Actual Prices')\n",
    "plt.legend()\n",
    "plt.grid()\n",
    "plt.show()"
   ]
  },
  {
   "cell_type": "code",
   "execution_count": null,
   "id": "23b8974c",
   "metadata": {},
   "outputs": [],
   "source": []
  },
  {
   "cell_type": "code",
   "execution_count": null,
   "id": "0a3f033e",
   "metadata": {},
   "outputs": [],
   "source": []
  },
  {
   "cell_type": "code",
   "execution_count": null,
   "id": "2eb51d6d",
   "metadata": {},
   "outputs": [],
   "source": []
  }
 ],
 "metadata": {
  "kernelspec": {
   "display_name": "Python 3",
   "language": "python",
   "name": "python3"
  },
  "language_info": {
   "codemirror_mode": {
    "name": "ipython",
    "version": 3
   },
   "file_extension": ".py",
   "mimetype": "text/x-python",
   "name": "python",
   "nbconvert_exporter": "python",
   "pygments_lexer": "ipython3",
   "version": "3.11.13"
  }
 },
 "nbformat": 4,
 "nbformat_minor": 5
}

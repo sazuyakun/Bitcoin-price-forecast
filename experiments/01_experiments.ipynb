{
 "cells": [
  {
   "cell_type": "markdown",
   "id": "f184e902",
   "metadata": {},
   "source": [
    "# Analyzing the data"
   ]
  },
  {
   "cell_type": "code",
   "execution_count": 80,
   "id": "6bfb694b",
   "metadata": {},
   "outputs": [],
   "source": [
    "import pandas as pd\n",
    "import matplotlib.pyplot as plt\n",
    "from ta.trend import MACD, SMAIndicator, EMAIndicator, PSARIndicator\n",
    "from ta.volume import OnBalanceVolumeIndicator"
   ]
  },
  {
   "cell_type": "code",
   "execution_count": 53,
   "id": "13ba1fca",
   "metadata": {},
   "outputs": [],
   "source": [
    "df = pd.read_csv(\"../data/Final_Btc_Data.csv\")"
   ]
  },
  {
   "cell_type": "code",
   "execution_count": 54,
   "id": "4f2c8e5c",
   "metadata": {},
   "outputs": [
    {
     "data": {
      "text/html": [
       "<div>\n",
       "<style scoped>\n",
       "    .dataframe tbody tr th:only-of-type {\n",
       "        vertical-align: middle;\n",
       "    }\n",
       "\n",
       "    .dataframe tbody tr th {\n",
       "        vertical-align: top;\n",
       "    }\n",
       "\n",
       "    .dataframe thead th {\n",
       "        text-align: right;\n",
       "    }\n",
       "</style>\n",
       "<table border=\"1\" class=\"dataframe\">\n",
       "  <thead>\n",
       "    <tr style=\"text-align: right;\">\n",
       "      <th></th>\n",
       "      <th>Date</th>\n",
       "      <th>Price</th>\n",
       "      <th>Open</th>\n",
       "      <th>High</th>\n",
       "      <th>Low</th>\n",
       "      <th>Vol.</th>\n",
       "      <th>Change %</th>\n",
       "      <th>EPU</th>\n",
       "      <th>GPRD</th>\n",
       "      <th>Gold</th>\n",
       "    </tr>\n",
       "  </thead>\n",
       "  <tbody>\n",
       "    <tr>\n",
       "      <th>0</th>\n",
       "      <td>2014-04-01</td>\n",
       "      <td>463.5</td>\n",
       "      <td>444.7</td>\n",
       "      <td>487.4</td>\n",
       "      <td>438.0</td>\n",
       "      <td>3970.0</td>\n",
       "      <td>0.0423</td>\n",
       "      <td>111.578388</td>\n",
       "      <td>120.928154</td>\n",
       "      <td>1279.599976</td>\n",
       "    </tr>\n",
       "    <tr>\n",
       "      <th>1</th>\n",
       "      <td>2014-04-02</td>\n",
       "      <td>424.4</td>\n",
       "      <td>463.5</td>\n",
       "      <td>480.3</td>\n",
       "      <td>409.3</td>\n",
       "      <td>4380.0</td>\n",
       "      <td>-0.0843</td>\n",
       "      <td>111.578388</td>\n",
       "      <td>94.748909</td>\n",
       "      <td>1290.500000</td>\n",
       "    </tr>\n",
       "    <tr>\n",
       "      <th>2</th>\n",
       "      <td>2014-04-03</td>\n",
       "      <td>436.3</td>\n",
       "      <td>424.4</td>\n",
       "      <td>448.7</td>\n",
       "      <td>386.7</td>\n",
       "      <td>4020.0</td>\n",
       "      <td>0.0281</td>\n",
       "      <td>111.578388</td>\n",
       "      <td>63.297474</td>\n",
       "      <td>1284.400024</td>\n",
       "    </tr>\n",
       "    <tr>\n",
       "      <th>3</th>\n",
       "      <td>2014-04-04</td>\n",
       "      <td>444.4</td>\n",
       "      <td>436.3</td>\n",
       "      <td>456.5</td>\n",
       "      <td>415.5</td>\n",
       "      <td>2570.0</td>\n",
       "      <td>0.0185</td>\n",
       "      <td>111.578388</td>\n",
       "      <td>59.551781</td>\n",
       "      <td>1303.199951</td>\n",
       "    </tr>\n",
       "    <tr>\n",
       "      <th>4</th>\n",
       "      <td>2014-04-05</td>\n",
       "      <td>456.6</td>\n",
       "      <td>444.4</td>\n",
       "      <td>461.2</td>\n",
       "      <td>439.4</td>\n",
       "      <td>1160.0</td>\n",
       "      <td>0.0276</td>\n",
       "      <td>111.578388</td>\n",
       "      <td>60.448311</td>\n",
       "      <td>1303.199951</td>\n",
       "    </tr>\n",
       "  </tbody>\n",
       "</table>\n",
       "</div>"
      ],
      "text/plain": [
       "         Date  Price   Open   High    Low    Vol.  Change %         EPU  \\\n",
       "0  2014-04-01  463.5  444.7  487.4  438.0  3970.0    0.0423  111.578388   \n",
       "1  2014-04-02  424.4  463.5  480.3  409.3  4380.0   -0.0843  111.578388   \n",
       "2  2014-04-03  436.3  424.4  448.7  386.7  4020.0    0.0281  111.578388   \n",
       "3  2014-04-04  444.4  436.3  456.5  415.5  2570.0    0.0185  111.578388   \n",
       "4  2014-04-05  456.6  444.4  461.2  439.4  1160.0    0.0276  111.578388   \n",
       "\n",
       "         GPRD         Gold  \n",
       "0  120.928154  1279.599976  \n",
       "1   94.748909  1290.500000  \n",
       "2   63.297474  1284.400024  \n",
       "3   59.551781  1303.199951  \n",
       "4   60.448311  1303.199951  "
      ]
     },
     "execution_count": 54,
     "metadata": {},
     "output_type": "execute_result"
    }
   ],
   "source": [
    "df.head()"
   ]
  },
  {
   "cell_type": "code",
   "execution_count": 55,
   "id": "89522d2e",
   "metadata": {},
   "outputs": [
    {
     "data": {
      "text/html": [
       "<div>\n",
       "<style scoped>\n",
       "    .dataframe tbody tr th:only-of-type {\n",
       "        vertical-align: middle;\n",
       "    }\n",
       "\n",
       "    .dataframe tbody tr th {\n",
       "        vertical-align: top;\n",
       "    }\n",
       "\n",
       "    .dataframe thead th {\n",
       "        text-align: right;\n",
       "    }\n",
       "</style>\n",
       "<table border=\"1\" class=\"dataframe\">\n",
       "  <thead>\n",
       "    <tr style=\"text-align: right;\">\n",
       "      <th></th>\n",
       "      <th>Price</th>\n",
       "      <th>Open</th>\n",
       "      <th>High</th>\n",
       "      <th>Low</th>\n",
       "      <th>Vol.</th>\n",
       "      <th>Change %</th>\n",
       "      <th>EPU</th>\n",
       "      <th>GPRD</th>\n",
       "      <th>Gold</th>\n",
       "    </tr>\n",
       "  </thead>\n",
       "  <tbody>\n",
       "    <tr>\n",
       "      <th>count</th>\n",
       "      <td>3654.000000</td>\n",
       "      <td>3654.000000</td>\n",
       "      <td>3654.000000</td>\n",
       "      <td>3654.000000</td>\n",
       "      <td>3654.000000</td>\n",
       "      <td>3654.000000</td>\n",
       "      <td>3654.000000</td>\n",
       "      <td>3654.000000</td>\n",
       "      <td>3654.000000</td>\n",
       "    </tr>\n",
       "    <tr>\n",
       "      <th>mean</th>\n",
       "      <td>14907.399261</td>\n",
       "      <td>14888.546853</td>\n",
       "      <td>15256.823481</td>\n",
       "      <td>14496.016311</td>\n",
       "      <td>173785.530925</td>\n",
       "      <td>0.002082</td>\n",
       "      <td>202.899414</td>\n",
       "      <td>103.866638</td>\n",
       "      <td>1510.117514</td>\n",
       "    </tr>\n",
       "    <tr>\n",
       "      <th>std</th>\n",
       "      <td>17145.417080</td>\n",
       "      <td>17123.192230</td>\n",
       "      <td>17552.140896</td>\n",
       "      <td>16664.786369</td>\n",
       "      <td>214562.099678</td>\n",
       "      <td>0.037182</td>\n",
       "      <td>68.143821</td>\n",
       "      <td>52.859054</td>\n",
       "      <td>306.314993</td>\n",
       "    </tr>\n",
       "    <tr>\n",
       "      <th>min</th>\n",
       "      <td>164.900000</td>\n",
       "      <td>164.900000</td>\n",
       "      <td>212.600000</td>\n",
       "      <td>157.300000</td>\n",
       "      <td>260.000000</td>\n",
       "      <td>-0.391800</td>\n",
       "      <td>92.111718</td>\n",
       "      <td>3.565735</td>\n",
       "      <td>1050.800049</td>\n",
       "    </tr>\n",
       "    <tr>\n",
       "      <th>25%</th>\n",
       "      <td>662.975000</td>\n",
       "      <td>661.900000</td>\n",
       "      <td>673.650000</td>\n",
       "      <td>649.300000</td>\n",
       "      <td>39832.500000</td>\n",
       "      <td>-0.012300</td>\n",
       "      <td>145.564614</td>\n",
       "      <td>68.813427</td>\n",
       "      <td>1248.199951</td>\n",
       "    </tr>\n",
       "    <tr>\n",
       "      <th>50%</th>\n",
       "      <td>8025.750000</td>\n",
       "      <td>8018.350000</td>\n",
       "      <td>8224.150000</td>\n",
       "      <td>7777.300000</td>\n",
       "      <td>82735.000000</td>\n",
       "      <td>0.001300</td>\n",
       "      <td>195.975764</td>\n",
       "      <td>95.463043</td>\n",
       "      <td>1337.849976</td>\n",
       "    </tr>\n",
       "    <tr>\n",
       "      <th>75%</th>\n",
       "      <td>25485.075000</td>\n",
       "      <td>25157.175000</td>\n",
       "      <td>25967.675000</td>\n",
       "      <td>24845.050000</td>\n",
       "      <td>210085.000000</td>\n",
       "      <td>0.017200</td>\n",
       "      <td>245.787095</td>\n",
       "      <td>128.394089</td>\n",
       "      <td>1810.174957</td>\n",
       "    </tr>\n",
       "    <tr>\n",
       "      <th>max</th>\n",
       "      <td>73066.300000</td>\n",
       "      <td>73066.700000</td>\n",
       "      <td>73740.900000</td>\n",
       "      <td>71338.400000</td>\n",
       "      <td>999530.000000</td>\n",
       "      <td>0.272000</td>\n",
       "      <td>420.355382</td>\n",
       "      <td>540.827393</td>\n",
       "      <td>2236.500000</td>\n",
       "    </tr>\n",
       "  </tbody>\n",
       "</table>\n",
       "</div>"
      ],
      "text/plain": [
       "              Price          Open          High           Low           Vol.  \\\n",
       "count   3654.000000   3654.000000   3654.000000   3654.000000    3654.000000   \n",
       "mean   14907.399261  14888.546853  15256.823481  14496.016311  173785.530925   \n",
       "std    17145.417080  17123.192230  17552.140896  16664.786369  214562.099678   \n",
       "min      164.900000    164.900000    212.600000    157.300000     260.000000   \n",
       "25%      662.975000    661.900000    673.650000    649.300000   39832.500000   \n",
       "50%     8025.750000   8018.350000   8224.150000   7777.300000   82735.000000   \n",
       "75%    25485.075000  25157.175000  25967.675000  24845.050000  210085.000000   \n",
       "max    73066.300000  73066.700000  73740.900000  71338.400000  999530.000000   \n",
       "\n",
       "          Change %          EPU         GPRD         Gold  \n",
       "count  3654.000000  3654.000000  3654.000000  3654.000000  \n",
       "mean      0.002082   202.899414   103.866638  1510.117514  \n",
       "std       0.037182    68.143821    52.859054   306.314993  \n",
       "min      -0.391800    92.111718     3.565735  1050.800049  \n",
       "25%      -0.012300   145.564614    68.813427  1248.199951  \n",
       "50%       0.001300   195.975764    95.463043  1337.849976  \n",
       "75%       0.017200   245.787095   128.394089  1810.174957  \n",
       "max       0.272000   420.355382   540.827393  2236.500000  "
      ]
     },
     "execution_count": 55,
     "metadata": {},
     "output_type": "execute_result"
    }
   ],
   "source": [
    "df.describe()"
   ]
  },
  {
   "cell_type": "markdown",
   "id": "cc2e59a7",
   "metadata": {},
   "source": [
    "## 50 Day SMA"
   ]
  },
  {
   "cell_type": "code",
   "execution_count": 71,
   "id": "c1352d83",
   "metadata": {},
   "outputs": [],
   "source": [
    "sma_indicator = SMAIndicator(\n",
    "    close=df['Price'],\n",
    "    window=50,\n",
    "    fillna=True\n",
    ")\n",
    "_50_day_sma = sma_indicator.sma_indicator()"
   ]
  },
  {
   "cell_type": "code",
   "execution_count": 72,
   "id": "52242b19",
   "metadata": {},
   "outputs": [
    {
     "data": {
      "image/png": "[encoded data removed]",
      "text/plain": [
       "<Figure size 640x480 with 2 Axes>"
      ]
     },
     "metadata": {},
     "output_type": "display_data"
    }
   ],
   "source": [
    "# 2 subplots\n",
    "plt.subplot(2, 1, 1)\n",
    "plt.plot(df['Price'])\n",
    "plt.title('Bitcoin Price')\n",
    "\n",
    "plt.subplot(2, 1, 2)\n",
    "plt.plot(_50_day_sma)\n",
    "plt.title('50 Day SMA')\n",
    "\n",
    "plt.tight_layout()"
   ]
  },
  {
   "cell_type": "markdown",
   "id": "bf8c28a0",
   "metadata": {},
   "source": [
    "## 50 day EMA"
   ]
  },
  {
   "cell_type": "code",
   "execution_count": 73,
   "id": "5cec5771",
   "metadata": {},
   "outputs": [],
   "source": [
    "ema_indicator = EMAIndicator(\n",
    "    close=df['Price'],\n",
    "    window=50,\n",
    "    fillna=True\n",
    ")\n",
    "_50_day_ema = ema_indicator.ema_indicator()"
   ]
  },
  {
   "cell_type": "code",
   "execution_count": 74,
   "id": "6f6ca6fd",
   "metadata": {},
   "outputs": [
    {
     "data": {
      "image/png": "[encoded data removed]",
      "text/plain": [
       "<Figure size 640x480 with 2 Axes>"
      ]
     },
     "metadata": {},
     "output_type": "display_data"
    }
   ],
   "source": [
    "# 2 subplots\n",
    "plt.subplot(2, 1, 1)\n",
    "plt.plot(df['Price'][int(8 * len(_50_day_ema) / 10):])\n",
    "plt.title('Bitcoin Price')\n",
    "\n",
    "plt.subplot(2, 1, 2)\n",
    "plt.plot(_50_day_ema[int(8 * len(_50_day_ema) / 10):])\n",
    "plt.title('50 Day EMA')\n",
    "\n",
    "plt.tight_layout()"
   ]
  },
  {
   "cell_type": "markdown",
   "id": "62c32de2",
   "metadata": {},
   "source": [
    "## "
   ]
  },
  {
   "cell_type": "markdown",
   "id": "917af334",
   "metadata": {},
   "source": [
    "## OBV (On-Balance Volume)"
   ]
  },
  {
   "cell_type": "code",
   "execution_count": 62,
   "id": "123d4dc9",
   "metadata": {},
   "outputs": [],
   "source": [
    "obv_indicator = OnBalanceVolumeIndicator(\n",
    "    close=df['Price'],\n",
    "    volume=df['Vol.'],\n",
    "    fillna=True\n",
    ")"
   ]
  },
  {
   "cell_type": "code",
   "execution_count": 66,
   "id": "c7cd5abb",
   "metadata": {},
   "outputs": [],
   "source": [
    "_obv = obv_indicator.on_balance_volume()"
   ]
  },
  {
   "cell_type": "markdown",
   "id": "4d7a33b6",
   "metadata": {},
   "source": [
    "## MACD (Moving Average Convergence Divergence) and Signal"
   ]
  },
  {
   "cell_type": "code",
   "execution_count": 76,
   "id": "aa26b920",
   "metadata": {},
   "outputs": [],
   "source": [
    "# MACD = EMA(12) - EMA(26)\n",
    "# Signal = EMA(MACD, 9)\n",
    "\n",
    "macd_indicator = MACD(\n",
    "    close=df['Price'],\n",
    "    window_slow=26,\n",
    "    window_fast=12,\n",
    "    window_sign=9,\n",
    "    fillna=True\n",
    ")"
   ]
  },
  {
   "cell_type": "code",
   "execution_count": 77,
   "id": "90c01335",
   "metadata": {},
   "outputs": [],
   "source": [
    "_macd = macd_indicator.macd()\n",
    "_macd_signal = macd_indicator.macd_signal()"
   ]
  },
  {
   "cell_type": "markdown",
   "id": "3fd0e7bd",
   "metadata": {},
   "source": [
    "## Parabolic SAR"
   ]
  },
  {
   "cell_type": "code",
   "execution_count": 81,
   "id": "984d2cb4",
   "metadata": {},
   "outputs": [],
   "source": [
    "psar_indicator = PSARIndicator(\n",
    "    high=df['High'],\n",
    "    low=df['Low'],\n",
    "    close=df['Price'],\n",
    "    fillna=True\n",
    ")"
   ]
  },
  {
   "cell_type": "code",
   "execution_count": 82,
   "id": "db1b2375",
   "metadata": {},
   "outputs": [],
   "source": [
    "_psar = psar_indicator.psar()"
   ]
  },
  {
   "cell_type": "markdown",
   "id": "2d0e6c64",
   "metadata": {},
   "source": [
    "## Analyzing all stuff"
   ]
  },
  {
   "cell_type": "code",
   "execution_count": 85,
   "id": "73242ef6",
   "metadata": {},
   "outputs": [],
   "source": [
    "new_cols = [_50_day_sma, _50_day_ema, _obv, _macd, _macd_signal, _psar]\n",
    "# in first capital letter and spaces\n",
    "col_names = [\"MA50\", \"EMA50\", \"OBV\", \"MACD\", \"MACD Signal\", \"PSAR\"]\n",
    "\n",
    "for col, name in zip(new_cols, col_names):\n",
    "    df[name] = col"
   ]
  },
  {
   "cell_type": "code",
   "execution_count": 86,
   "id": "8d757881",
   "metadata": {},
   "outputs": [
    {
     "data": {
      "text/html": [
       "<div>\n",
       "<style scoped>\n",
       "    .dataframe tbody tr th:only-of-type {\n",
       "        vertical-align: middle;\n",
       "    }\n",
       "\n",
       "    .dataframe tbody tr th {\n",
       "        vertical-align: top;\n",
       "    }\n",
       "\n",
       "    .dataframe thead th {\n",
       "        text-align: right;\n",
       "    }\n",
       "</style>\n",
       "<table border=\"1\" class=\"dataframe\">\n",
       "  <thead>\n",
       "    <tr style=\"text-align: right;\">\n",
       "      <th></th>\n",
       "      <th>Date</th>\n",
       "      <th>Price</th>\n",
       "      <th>Open</th>\n",
       "      <th>High</th>\n",
       "      <th>Low</th>\n",
       "      <th>Vol.</th>\n",
       "      <th>Change %</th>\n",
       "      <th>EPU</th>\n",
       "      <th>GPRD</th>\n",
       "      <th>Gold</th>\n",
       "      <th>MA50</th>\n",
       "      <th>EMA50</th>\n",
       "      <th>OBV</th>\n",
       "      <th>MACD</th>\n",
       "      <th>MACD Signal</th>\n",
       "      <th>PSAR</th>\n",
       "    </tr>\n",
       "  </thead>\n",
       "  <tbody>\n",
       "    <tr>\n",
       "      <th>0</th>\n",
       "      <td>2014-04-01</td>\n",
       "      <td>463.5</td>\n",
       "      <td>444.7</td>\n",
       "      <td>487.4</td>\n",
       "      <td>438.0</td>\n",
       "      <td>3970.0</td>\n",
       "      <td>0.0423</td>\n",
       "      <td>111.578388</td>\n",
       "      <td>120.928154</td>\n",
       "      <td>1279.599976</td>\n",
       "      <td>463.50</td>\n",
       "      <td>463.500000</td>\n",
       "      <td>3970.0</td>\n",
       "      <td>0.000000</td>\n",
       "      <td>0.000000</td>\n",
       "      <td>463.50000</td>\n",
       "    </tr>\n",
       "    <tr>\n",
       "      <th>1</th>\n",
       "      <td>2014-04-02</td>\n",
       "      <td>424.4</td>\n",
       "      <td>463.5</td>\n",
       "      <td>480.3</td>\n",
       "      <td>409.3</td>\n",
       "      <td>4380.0</td>\n",
       "      <td>-0.0843</td>\n",
       "      <td>111.578388</td>\n",
       "      <td>94.748909</td>\n",
       "      <td>1290.500000</td>\n",
       "      <td>443.95</td>\n",
       "      <td>461.966667</td>\n",
       "      <td>-410.0</td>\n",
       "      <td>-3.119088</td>\n",
       "      <td>-0.623818</td>\n",
       "      <td>424.40000</td>\n",
       "    </tr>\n",
       "    <tr>\n",
       "      <th>2</th>\n",
       "      <td>2014-04-03</td>\n",
       "      <td>436.3</td>\n",
       "      <td>424.4</td>\n",
       "      <td>448.7</td>\n",
       "      <td>386.7</td>\n",
       "      <td>4020.0</td>\n",
       "      <td>0.0281</td>\n",
       "      <td>111.578388</td>\n",
       "      <td>63.297474</td>\n",
       "      <td>1284.400024</td>\n",
       "      <td>441.40</td>\n",
       "      <td>460.960131</td>\n",
       "      <td>3610.0</td>\n",
       "      <td>-4.577986</td>\n",
       "      <td>-1.414651</td>\n",
       "      <td>487.40000</td>\n",
       "    </tr>\n",
       "    <tr>\n",
       "      <th>3</th>\n",
       "      <td>2014-04-04</td>\n",
       "      <td>444.4</td>\n",
       "      <td>436.3</td>\n",
       "      <td>456.5</td>\n",
       "      <td>415.5</td>\n",
       "      <td>2570.0</td>\n",
       "      <td>0.0185</td>\n",
       "      <td>111.578388</td>\n",
       "      <td>59.551781</td>\n",
       "      <td>1303.199951</td>\n",
       "      <td>442.15</td>\n",
       "      <td>460.310714</td>\n",
       "      <td>6180.0</td>\n",
       "      <td>-5.022672</td>\n",
       "      <td>-2.136255</td>\n",
       "      <td>485.38600</td>\n",
       "    </tr>\n",
       "    <tr>\n",
       "      <th>4</th>\n",
       "      <td>2014-04-05</td>\n",
       "      <td>456.6</td>\n",
       "      <td>444.4</td>\n",
       "      <td>461.2</td>\n",
       "      <td>439.4</td>\n",
       "      <td>1160.0</td>\n",
       "      <td>0.0276</td>\n",
       "      <td>111.578388</td>\n",
       "      <td>60.448311</td>\n",
       "      <td>1303.199951</td>\n",
       "      <td>445.04</td>\n",
       "      <td>460.165196</td>\n",
       "      <td>7340.0</td>\n",
       "      <td>-4.340615</td>\n",
       "      <td>-2.577127</td>\n",
       "      <td>483.41228</td>\n",
       "    </tr>\n",
       "  </tbody>\n",
       "</table>\n",
       "</div>"
      ],
      "text/plain": [
       "         Date  Price   Open   High    Low    Vol.  Change %         EPU  \\\n",
       "0  2014-04-01  463.5  444.7  487.4  438.0  3970.0    0.0423  111.578388   \n",
       "1  2014-04-02  424.4  463.5  480.3  409.3  4380.0   -0.0843  111.578388   \n",
       "2  2014-04-03  436.3  424.4  448.7  386.7  4020.0    0.0281  111.578388   \n",
       "3  2014-04-04  444.4  436.3  456.5  415.5  2570.0    0.0185  111.578388   \n",
       "4  2014-04-05  456.6  444.4  461.2  439.4  1160.0    0.0276  111.578388   \n",
       "\n",
       "         GPRD         Gold    MA50       EMA50     OBV      MACD  MACD Signal  \\\n",
       "0  120.928154  1279.599976  463.50  463.500000  3970.0  0.000000     0.000000   \n",
       "1   94.748909  1290.500000  443.95  461.966667  -410.0 -3.119088    -0.623818   \n",
       "2   63.297474  1284.400024  441.40  460.960131  3610.0 -4.577986    -1.414651   \n",
       "3   59.551781  1303.199951  442.15  460.310714  6180.0 -5.022672    -2.136255   \n",
       "4   60.448311  1303.199951  445.04  460.165196  7340.0 -4.340615    -2.577127   \n",
       "\n",
       "        PSAR  \n",
       "0  463.50000  \n",
       "1  424.40000  \n",
       "2  487.40000  \n",
       "3  485.38600  \n",
       "4  483.41228  "
      ]
     },
     "execution_count": 86,
     "metadata": {},
     "output_type": "execute_result"
    }
   ],
   "source": [
    "df.head()"
   ]
  },
  {
   "cell_type": "code",
   "execution_count": 92,
   "id": "ed1f2ef0",
   "metadata": {},
   "outputs": [],
   "source": [
    "df.to_csv(\"../data/Final_Btc_Data_with_Indicators.csv\", index=False)"
   ]
  },
  {
   "cell_type": "code",
   "execution_count": null,
   "id": "50109a24",
   "metadata": {},
   "outputs": [],
   "source": []
  }
 ],
 "metadata": {
  "kernelspec": {
   "display_name": "Python 3",
   "language": "python",
   "name": "python3"
  },
  "language_info": {
   "codemirror_mode": {
    "name": "ipython",
    "version": 3
   },
   "file_extension": ".py",
   "mimetype": "text/x-python",
   "name": "python",
   "nbconvert_exporter": "python",
   "pygments_lexer": "ipython3",
   "version": "3.11.13"
  }
 },
 "nbformat": 4,
 "nbformat_minor": 5
}

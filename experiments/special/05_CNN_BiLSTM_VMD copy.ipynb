{
 "cells": [
  {
   "cell_type": "markdown",
   "id": "74139d97",
   "metadata": {},
   "source": [
    "### Hyperparameters:\n",
    "| Hyperparameter       | Value   |\n",
    "|----------------------|---------|\n",
    "| num-filters          | 32      |\n",
    "| num-bilstm-layer     | 2       |\n",
    "| output-lstm-dim      | 64      |\n",
    "| decay-rate           | 0.8     |\n",
    "| learning-rate        | 0.01    |\n",
    "| miniBatchSize        | 256     |\n",
    "| filter-size          | 10 × 1  |\n",
    "| input-lstm-dim       | 100     |\n",
    "| L2Regularization     | 0.001   |\n",
    "| optimizer            | Adam    |\n",
    "| dropout              | 0.25    |\n",
    "| maxEpochs            | 500     |"
   ]
  },
  {
   "cell_type": "code",
   "execution_count": 1,
   "id": "c3535ef1",
   "metadata": {},
   "outputs": [],
   "source": [
    "import sys\n",
    "sys.path.append(\"../..\")"
   ]
  },
  {
   "cell_type": "code",
   "execution_count": 2,
   "id": "285f0ee6",
   "metadata": {},
   "outputs": [],
   "source": [
    "from tqdm import tqdm\n",
    "import pandas as pd\n",
    "import numpy as np\n",
    "\n",
    "import torch\n",
    "from torch.utils.data import TensorDataset, DataLoader\n",
    "import torch.nn as nn\n",
    "import torch.nn.functional as F\n",
    "\n",
    "from utils.helper import *"
   ]
  },
  {
   "cell_type": "code",
   "execution_count": 3,
   "id": "1b677a4c",
   "metadata": {},
   "outputs": [],
   "source": [
    "df = pd.read_csv(\"../../data/Final_Btc_Data_with_Indicators.csv\", parse_dates=['Date'])\n",
    "\n",
    "target_col = \"Price\"\n",
    "features = [col for col in df.columns if col != target_col and col != \"Date\"]\n",
    "\n",
    "df = scaled_data_vmd(df, _K=6)\n",
    "\n",
    "seq_len = 5\n",
    "horizon = 1\n",
    "X, y = create_sequences(df[features].values, df[target_col].values, seq_len, horizon)"
   ]
  },
  {
   "cell_type": "code",
   "execution_count": 4,
   "id": "cc03954e",
   "metadata": {},
   "outputs": [],
   "source": [
    "batch_size = 256\n",
    "\n",
    "train_loader, val_loader, test_loader = data_loaders(df, X, y, batch_size=batch_size)"
   ]
  },
  {
   "cell_type": "markdown",
   "id": "352b70e9",
   "metadata": {},
   "source": [
    "## CNN-BiLSTM"
   ]
  },
  {
   "cell_type": "code",
   "execution_count": 5,
   "id": "009490c1",
   "metadata": {},
   "outputs": [],
   "source": [
    "class CNNBiLSTM(nn.Module):\n",
    "    def __init__(self, input_dim, num_filters=32, num_bilstm_layers=2, lstm_hidden=64, filter_size=(10, 1), input_lstm_dim=100, dropout_rate=0.25):\n",
    "        super().__init__()\n",
    "        self.conv1 = nn.Conv1d(\n",
    "            in_channels=input_dim,\n",
    "            out_channels=num_filters,\n",
    "            kernel_size=filter_size[0],\n",
    "            stride=1,\n",
    "            padding=filter_size[0] // 2\n",
    "        )\n",
    "\n",
    "        self.proj = nn.Linear(num_filters, input_lstm_dim)\n",
    "\n",
    "        self.relu = nn.ReLU()\n",
    "\n",
    "        self.bilstm1 = nn.LSTM(\n",
    "            input_size=input_lstm_dim,\n",
    "            hidden_size=lstm_hidden,\n",
    "            batch_first=True,\n",
    "            bidirectional=True\n",
    "        )\n",
    "\n",
    "        self.drop1 = nn.Dropout(dropout_rate)\n",
    "\n",
    "        self.bilstm2 = nn.LSTM(\n",
    "            input_size = 2 * lstm_hidden,\n",
    "            hidden_size=lstm_hidden,\n",
    "            batch_first=True,\n",
    "            bidirectional=True\n",
    "        )\n",
    "\n",
    "        self.fc = nn.Linear(lstm_hidden * 2, 1)\n",
    "\n",
    "\n",
    "    def forward(self, x):\n",
    "        x = x.permute(0, 2, 1)\n",
    "        x = self.relu(self.conv1(x))\n",
    "\n",
    "        x = x.permute(0, 2, 1)\n",
    "        x = self.relu(self.proj(x))\n",
    "\n",
    "        # BiLSTM layers\n",
    "        out, _ = self.bilstm1(x)\n",
    "        out = self.drop1(out)\n",
    "        out, _ = self.bilstm2(out)\n",
    "\n",
    "        # take last time step\n",
    "        out = out[:, -1, :]\n",
    "        out = self.fc(out)\n",
    "        return out.squeeze(-1)"
   ]
  },
  {
   "cell_type": "code",
   "execution_count": 6,
   "id": "14ee12c5",
   "metadata": {},
   "outputs": [
    {
     "name": "stdout",
     "output_type": "stream",
     "text": [
      "Using device: mps\n"
     ]
    }
   ],
   "source": [
    "if torch.backends.mps.is_available():\n",
    "    device = torch.device(\"mps\")\n",
    "elif torch.cuda.is_available():\n",
    "    device = torch.device(\"cuda\")\n",
    "else:\n",
    "    device = torch.device(\"cpu\")\n",
    "\n",
    "print(f\"Using device: {device}\")"
   ]
  },
  {
   "cell_type": "code",
   "execution_count": 7,
   "id": "433246e6",
   "metadata": {},
   "outputs": [],
   "source": [
    "model = CNNBiLSTM(input_dim=len(features))"
   ]
  },
  {
   "cell_type": "code",
   "execution_count": 8,
   "id": "1a714ba4",
   "metadata": {},
   "outputs": [],
   "source": [
    "decay_rate = 0.8\n",
    "num_epochs = 500\n",
    "learning_rate = 0.001\n",
    "l2_penalty = 0.001"
   ]
  },
  {
   "cell_type": "code",
   "execution_count": 9,
   "id": "b433b24b",
   "metadata": {},
   "outputs": [],
   "source": [
    "model = model.to(device)\n",
    "\n",
    "criterion = nn.MSELoss()\n",
    "optimizer = torch.optim.Adam(\n",
    "    model.parameters(),\n",
    "    lr=learning_rate,\n",
    "    # weight_decay=l2_penalty\n",
    ")\n",
    "\n",
    "# scheduler = torch.optim.lr_scheduler.ExponentialLR(\n",
    "#     optimizer,\n",
    "#     gamma=decay_rate\n",
    "# )\n",
    "scheduler = torch.optim.lr_scheduler.StepLR(\n",
    "    optimizer,\n",
    "    step_size=5,\n",
    "    gamma=decay_rate\n",
    ")"
   ]
  },
  {
   "cell_type": "code",
   "execution_count": 10,
   "id": "9eaaa2f1",
   "metadata": {},
   "outputs": [
    {
     "name": "stdout",
     "output_type": "stream",
     "text": [
      "Training on device: mps\n",
      "Model parameters: 192261\n",
      "========================================\n",
      "Epoch 1/500\n",
      "----------------------------------------\n"
     ]
    },
    {
     "name": "stderr",
     "output_type": "stream",
     "text": [
      "100%|██████████| 10/10 [00:00<00:00, 15.17it/s]\n",
      "100%|██████████| 2/2 [00:00<00:00, 43.70it/s]\n"
     ]
    },
    {
     "name": "stdout",
     "output_type": "stream",
     "text": [
      "Epoch [1/500] - Train Loss: 1.181956, Val Loss: 21.347528\n",
      "========================================\n",
      "Epoch 2/500\n",
      "----------------------------------------\n"
     ]
    },
    {
     "name": "stderr",
     "output_type": "stream",
     "text": [
      "100%|██████████| 10/10 [00:00<00:00, 98.93it/s]\n",
      "100%|██████████| 2/2 [00:00<00:00, 268.75it/s]\n"
     ]
    },
    {
     "name": "stdout",
     "output_type": "stream",
     "text": [
      "Epoch [2/500] - Train Loss: 0.996563, Val Loss: 19.612165\n",
      "========================================\n",
      "Epoch 3/500\n",
      "----------------------------------------\n"
     ]
    },
    {
     "name": "stderr",
     "output_type": "stream",
     "text": [
      "100%|██████████| 10/10 [00:00<00:00, 110.12it/s]\n",
      "100%|██████████| 2/2 [00:00<00:00, 293.22it/s]\n"
     ]
    },
    {
     "name": "stdout",
     "output_type": "stream",
     "text": [
      "Epoch [3/500] - Train Loss: 0.814181, Val Loss: 16.822258\n",
      "========================================\n",
      "Epoch 4/500\n",
      "----------------------------------------\n"
     ]
    },
    {
     "name": "stderr",
     "output_type": "stream",
     "text": [
      "100%|██████████| 10/10 [00:00<00:00, 105.25it/s]\n",
      "100%|██████████| 2/2 [00:00<00:00, 294.38it/s]\n"
     ]
    },
    {
     "name": "stdout",
     "output_type": "stream",
     "text": [
      "Epoch [4/500] - Train Loss: 0.610117, Val Loss: 12.452167\n",
      "========================================\n",
      "Epoch 5/500\n",
      "----------------------------------------\n"
     ]
    },
    {
     "name": "stderr",
     "output_type": "stream",
     "text": [
      "100%|██████████| 10/10 [00:00<00:00, 114.13it/s]\n",
      "100%|██████████| 2/2 [00:00<00:00, 287.27it/s]\n"
     ]
    },
    {
     "name": "stdout",
     "output_type": "stream",
     "text": [
      "Epoch [5/500] - Train Loss: 0.367840, Val Loss: 6.598046\n",
      "========================================\n",
      "Epoch 6/500\n",
      "----------------------------------------\n"
     ]
    },
    {
     "name": "stderr",
     "output_type": "stream",
     "text": [
      "100%|██████████| 10/10 [00:00<00:00, 114.94it/s]\n",
      "100%|██████████| 2/2 [00:00<00:00, 286.05it/s]\n"
     ]
    },
    {
     "name": "stdout",
     "output_type": "stream",
     "text": [
      "Epoch [6/500] - Train Loss: 0.224600, Val Loss: 3.077869\n",
      "========================================\n",
      "Epoch 7/500\n",
      "----------------------------------------\n"
     ]
    },
    {
     "name": "stderr",
     "output_type": "stream",
     "text": [
      "100%|██████████| 10/10 [00:00<00:00, 112.56it/s]\n",
      "100%|██████████| 2/2 [00:00<00:00, 294.90it/s]\n"
     ]
    },
    {
     "name": "stdout",
     "output_type": "stream",
     "text": [
      "Epoch [7/500] - Train Loss: 0.091847, Val Loss: 1.729824\n",
      "========================================\n",
      "Epoch 8/500\n",
      "----------------------------------------\n"
     ]
    },
    {
     "name": "stderr",
     "output_type": "stream",
     "text": [
      "100%|██████████| 10/10 [00:00<00:00, 113.94it/s]\n",
      "100%|██████████| 2/2 [00:00<00:00, 289.73it/s]\n"
     ]
    },
    {
     "name": "stdout",
     "output_type": "stream",
     "text": [
      "Epoch [8/500] - Train Loss: 0.048060, Val Loss: 0.452749\n",
      "========================================\n",
      "Epoch 9/500\n",
      "----------------------------------------\n"
     ]
    },
    {
     "name": "stderr",
     "output_type": "stream",
     "text": [
      "100%|██████████| 10/10 [00:00<00:00, 106.13it/s]\n",
      "100%|██████████| 2/2 [00:00<00:00, 301.43it/s]\n"
     ]
    },
    {
     "name": "stdout",
     "output_type": "stream",
     "text": [
      "Epoch [9/500] - Train Loss: 0.033552, Val Loss: 0.342524\n",
      "========================================\n",
      "Epoch 10/500\n",
      "----------------------------------------\n"
     ]
    },
    {
     "name": "stderr",
     "output_type": "stream",
     "text": [
      "100%|██████████| 10/10 [00:00<00:00, 112.40it/s]\n",
      "100%|██████████| 2/2 [00:00<00:00, 293.26it/s]\n"
     ]
    },
    {
     "name": "stdout",
     "output_type": "stream",
     "text": [
      "Epoch [10/500] - Train Loss: 0.022203, Val Loss: 0.274353\n",
      "========================================\n",
      "Epoch 11/500\n",
      "----------------------------------------\n"
     ]
    },
    {
     "name": "stderr",
     "output_type": "stream",
     "text": [
      "100%|██████████| 10/10 [00:00<00:00, 114.33it/s]\n",
      "100%|██████████| 2/2 [00:00<00:00, 283.49it/s]\n"
     ]
    },
    {
     "name": "stdout",
     "output_type": "stream",
     "text": [
      "Epoch [11/500] - Train Loss: 0.016669, Val Loss: 0.252063\n",
      "========================================\n",
      "Epoch 12/500\n",
      "----------------------------------------\n"
     ]
    },
    {
     "name": "stderr",
     "output_type": "stream",
     "text": [
      "100%|██████████| 10/10 [00:00<00:00, 112.55it/s]\n",
      "100%|██████████| 2/2 [00:00<00:00, 294.93it/s]\n"
     ]
    },
    {
     "name": "stdout",
     "output_type": "stream",
     "text": [
      "Epoch [12/500] - Train Loss: 0.013891, Val Loss: 0.307783\n",
      "========================================\n",
      "Epoch 13/500\n",
      "----------------------------------------\n"
     ]
    },
    {
     "name": "stderr",
     "output_type": "stream",
     "text": [
      "100%|██████████| 10/10 [00:00<00:00, 112.61it/s]\n",
      "100%|██████████| 2/2 [00:00<00:00, 296.34it/s]\n"
     ]
    },
    {
     "name": "stdout",
     "output_type": "stream",
     "text": [
      "Epoch [13/500] - Train Loss: 0.016639, Val Loss: 0.328451\n",
      "========================================\n",
      "Epoch 14/500\n",
      "----------------------------------------\n"
     ]
    },
    {
     "name": "stderr",
     "output_type": "stream",
     "text": [
      "100%|██████████| 10/10 [00:00<00:00, 113.19it/s]\n",
      "100%|██████████| 2/2 [00:00<00:00, 294.54it/s]\n"
     ]
    },
    {
     "name": "stdout",
     "output_type": "stream",
     "text": [
      "Epoch [14/500] - Train Loss: 0.075743, Val Loss: 1.080402\n",
      "========================================\n",
      "Epoch 15/500\n",
      "----------------------------------------\n"
     ]
    },
    {
     "name": "stderr",
     "output_type": "stream",
     "text": [
      "100%|██████████| 10/10 [00:00<00:00, 110.92it/s]\n",
      "100%|██████████| 2/2 [00:00<00:00, 303.45it/s]\n"
     ]
    },
    {
     "name": "stdout",
     "output_type": "stream",
     "text": [
      "Epoch [15/500] - Train Loss: 0.215870, Val Loss: 1.554351\n",
      "========================================\n",
      "Epoch 16/500\n",
      "----------------------------------------\n"
     ]
    },
    {
     "name": "stderr",
     "output_type": "stream",
     "text": [
      "100%|██████████| 10/10 [00:00<00:00, 108.53it/s]\n",
      "100%|██████████| 2/2 [00:00<00:00, 289.60it/s]\n"
     ]
    },
    {
     "name": "stdout",
     "output_type": "stream",
     "text": [
      "Epoch [16/500] - Train Loss: 0.058339, Val Loss: 1.088934\n",
      "========================================\n",
      "Epoch 17/500\n",
      "----------------------------------------\n"
     ]
    },
    {
     "name": "stderr",
     "output_type": "stream",
     "text": [
      "100%|██████████| 10/10 [00:00<00:00, 109.81it/s]\n",
      "100%|██████████| 2/2 [00:00<00:00, 298.34it/s]\n"
     ]
    },
    {
     "name": "stdout",
     "output_type": "stream",
     "text": [
      "Epoch [17/500] - Train Loss: 0.022684, Val Loss: 0.412014\n",
      "========================================\n",
      "Epoch 18/500\n",
      "----------------------------------------\n"
     ]
    },
    {
     "name": "stderr",
     "output_type": "stream",
     "text": [
      "100%|██████████| 10/10 [00:00<00:00, 105.02it/s]\n",
      "100%|██████████| 2/2 [00:00<00:00, 263.49it/s]\n"
     ]
    },
    {
     "name": "stdout",
     "output_type": "stream",
     "text": [
      "Epoch [18/500] - Train Loss: 0.027455, Val Loss: 0.355919\n",
      "========================================\n",
      "Epoch 19/500\n",
      "----------------------------------------\n"
     ]
    },
    {
     "name": "stderr",
     "output_type": "stream",
     "text": [
      "100%|██████████| 10/10 [00:00<00:00, 103.02it/s]\n",
      "100%|██████████| 2/2 [00:00<00:00, 290.11it/s]\n"
     ]
    },
    {
     "name": "stdout",
     "output_type": "stream",
     "text": [
      "Epoch [19/500] - Train Loss: 0.018323, Val Loss: 0.527020\n",
      "========================================\n",
      "Epoch 20/500\n",
      "----------------------------------------\n"
     ]
    },
    {
     "name": "stderr",
     "output_type": "stream",
     "text": [
      "100%|██████████| 10/10 [00:00<00:00, 112.50it/s]\n",
      "100%|██████████| 2/2 [00:00<00:00, 283.72it/s]\n"
     ]
    },
    {
     "name": "stdout",
     "output_type": "stream",
     "text": [
      "Epoch [20/500] - Train Loss: 0.015982, Val Loss: 0.484093\n",
      "========================================\n",
      "Epoch 21/500\n",
      "----------------------------------------\n"
     ]
    },
    {
     "name": "stderr",
     "output_type": "stream",
     "text": [
      "100%|██████████| 10/10 [00:00<00:00, 111.41it/s]\n",
      "100%|██████████| 2/2 [00:00<00:00, 279.75it/s]\n"
     ]
    },
    {
     "name": "stdout",
     "output_type": "stream",
     "text": [
      "Epoch [21/500] - Train Loss: 0.014235, Val Loss: 0.434638\n",
      "========================================\n",
      "Epoch 22/500\n",
      "----------------------------------------\n"
     ]
    },
    {
     "name": "stderr",
     "output_type": "stream",
     "text": [
      "100%|██████████| 10/10 [00:00<00:00, 109.95it/s]\n",
      "100%|██████████| 2/2 [00:00<00:00, 275.67it/s]\n"
     ]
    },
    {
     "name": "stdout",
     "output_type": "stream",
     "text": [
      "Epoch [22/500] - Train Loss: 0.012763, Val Loss: 0.546126\n",
      "========================================\n",
      "Epoch 23/500\n",
      "----------------------------------------\n"
     ]
    },
    {
     "name": "stderr",
     "output_type": "stream",
     "text": [
      "100%|██████████| 10/10 [00:00<00:00, 110.13it/s]\n",
      "100%|██████████| 2/2 [00:00<00:00, 263.71it/s]\n"
     ]
    },
    {
     "name": "stdout",
     "output_type": "stream",
     "text": [
      "Epoch [23/500] - Train Loss: 0.011419, Val Loss: 0.490097\n",
      "========================================\n",
      "Epoch 24/500\n",
      "----------------------------------------\n"
     ]
    },
    {
     "name": "stderr",
     "output_type": "stream",
     "text": [
      "100%|██████████| 10/10 [00:00<00:00, 110.75it/s]\n",
      "100%|██████████| 2/2 [00:00<00:00, 275.44it/s]\n"
     ]
    },
    {
     "name": "stdout",
     "output_type": "stream",
     "text": [
      "Epoch [24/500] - Train Loss: 0.009873, Val Loss: 0.538574\n",
      "========================================\n",
      "Epoch 25/500\n",
      "----------------------------------------\n"
     ]
    },
    {
     "name": "stderr",
     "output_type": "stream",
     "text": [
      "100%|██████████| 10/10 [00:00<00:00, 104.67it/s]\n",
      "100%|██████████| 2/2 [00:00<00:00, 275.10it/s]\n"
     ]
    },
    {
     "name": "stdout",
     "output_type": "stream",
     "text": [
      "Epoch [25/500] - Train Loss: 0.009939, Val Loss: 0.517917\n",
      "========================================\n",
      "Epoch 26/500\n",
      "----------------------------------------\n"
     ]
    },
    {
     "name": "stderr",
     "output_type": "stream",
     "text": [
      "100%|██████████| 10/10 [00:00<00:00, 105.07it/s]\n",
      "100%|██████████| 2/2 [00:00<00:00, 292.01it/s]\n"
     ]
    },
    {
     "name": "stdout",
     "output_type": "stream",
     "text": [
      "Epoch [26/500] - Train Loss: 0.009616, Val Loss: 0.673811\n",
      "========================================\n",
      "Epoch 27/500\n",
      "----------------------------------------\n"
     ]
    },
    {
     "name": "stderr",
     "output_type": "stream",
     "text": [
      "100%|██████████| 10/10 [00:00<00:00, 111.51it/s]\n",
      "100%|██████████| 2/2 [00:00<00:00, 284.85it/s]\n"
     ]
    },
    {
     "name": "stdout",
     "output_type": "stream",
     "text": [
      "Epoch [27/500] - Train Loss: 0.008579, Val Loss: 0.512617\n",
      "========================================\n",
      "Epoch 28/500\n",
      "----------------------------------------\n"
     ]
    },
    {
     "name": "stderr",
     "output_type": "stream",
     "text": [
      "100%|██████████| 10/10 [00:00<00:00, 103.86it/s]\n",
      "100%|██████████| 2/2 [00:00<00:00, 289.02it/s]\n"
     ]
    },
    {
     "name": "stdout",
     "output_type": "stream",
     "text": [
      "Epoch [28/500] - Train Loss: 0.010073, Val Loss: 0.675674\n",
      "========================================\n",
      "Epoch 29/500\n",
      "----------------------------------------\n"
     ]
    },
    {
     "name": "stderr",
     "output_type": "stream",
     "text": [
      "100%|██████████| 10/10 [00:00<00:00, 111.85it/s]\n",
      "100%|██████████| 2/2 [00:00<00:00, 312.90it/s]\n"
     ]
    },
    {
     "name": "stdout",
     "output_type": "stream",
     "text": [
      "Epoch [29/500] - Train Loss: 0.012089, Val Loss: 0.458030\n",
      "========================================\n",
      "Epoch 30/500\n",
      "----------------------------------------\n"
     ]
    },
    {
     "name": "stderr",
     "output_type": "stream",
     "text": [
      "100%|██████████| 10/10 [00:00<00:00, 110.70it/s]\n",
      "100%|██████████| 2/2 [00:00<00:00, 284.46it/s]\n"
     ]
    },
    {
     "name": "stdout",
     "output_type": "stream",
     "text": [
      "Epoch [30/500] - Train Loss: 0.020444, Val Loss: 1.017479\n",
      "========================================\n",
      "Epoch 31/500\n",
      "----------------------------------------\n"
     ]
    },
    {
     "name": "stderr",
     "output_type": "stream",
     "text": [
      "100%|██████████| 10/10 [00:00<00:00, 108.39it/s]\n",
      "100%|██████████| 2/2 [00:00<00:00, 304.75it/s]\n"
     ]
    },
    {
     "name": "stdout",
     "output_type": "stream",
     "text": [
      "Epoch [31/500] - Train Loss: 0.041076, Val Loss: 0.244482\n",
      "========================================\n",
      "Epoch 32/500\n",
      "----------------------------------------\n"
     ]
    },
    {
     "name": "stderr",
     "output_type": "stream",
     "text": [
      "100%|██████████| 10/10 [00:00<00:00, 108.67it/s]\n",
      "100%|██████████| 2/2 [00:00<00:00, 300.44it/s]\n"
     ]
    },
    {
     "name": "stdout",
     "output_type": "stream",
     "text": [
      "Epoch [32/500] - Train Loss: 0.065013, Val Loss: 1.681615\n",
      "========================================\n",
      "Epoch 33/500\n",
      "----------------------------------------\n"
     ]
    },
    {
     "name": "stderr",
     "output_type": "stream",
     "text": [
      "100%|██████████| 10/10 [00:00<00:00, 109.84it/s]\n",
      "100%|██████████| 2/2 [00:00<00:00, 313.00it/s]\n"
     ]
    },
    {
     "name": "stdout",
     "output_type": "stream",
     "text": [
      "Epoch [33/500] - Train Loss: 0.059249, Val Loss: 0.269911\n",
      "========================================\n",
      "Epoch 34/500\n",
      "----------------------------------------\n"
     ]
    },
    {
     "name": "stderr",
     "output_type": "stream",
     "text": [
      "100%|██████████| 10/10 [00:00<00:00, 118.33it/s]\n",
      "100%|██████████| 2/2 [00:00<00:00, 294.34it/s]\n"
     ]
    },
    {
     "name": "stdout",
     "output_type": "stream",
     "text": [
      "Epoch [34/500] - Train Loss: 0.023741, Val Loss: 1.069320\n",
      "========================================\n",
      "Epoch 35/500\n",
      "----------------------------------------\n"
     ]
    },
    {
     "name": "stderr",
     "output_type": "stream",
     "text": [
      "100%|██████████| 10/10 [00:00<00:00, 114.30it/s]\n",
      "100%|██████████| 2/2 [00:00<00:00, 294.76it/s]\n"
     ]
    },
    {
     "name": "stdout",
     "output_type": "stream",
     "text": [
      "Epoch [35/500] - Train Loss: 0.010324, Val Loss: 0.466456\n",
      "========================================\n",
      "Epoch 36/500\n",
      "----------------------------------------\n"
     ]
    },
    {
     "name": "stderr",
     "output_type": "stream",
     "text": [
      "100%|██████████| 10/10 [00:00<00:00, 113.27it/s]\n",
      "100%|██████████| 2/2 [00:00<00:00, 287.40it/s]\n"
     ]
    },
    {
     "name": "stdout",
     "output_type": "stream",
     "text": [
      "Epoch [36/500] - Train Loss: 0.010952, Val Loss: 0.463741\n",
      "========================================\n",
      "Epoch 37/500\n",
      "----------------------------------------\n"
     ]
    },
    {
     "name": "stderr",
     "output_type": "stream",
     "text": [
      "100%|██████████| 10/10 [00:00<00:00, 111.87it/s]\n",
      "100%|██████████| 2/2 [00:00<00:00, 310.18it/s]\n"
     ]
    },
    {
     "name": "stdout",
     "output_type": "stream",
     "text": [
      "Epoch [37/500] - Train Loss: 0.010234, Val Loss: 0.655480\n",
      "========================================\n",
      "Epoch 38/500\n",
      "----------------------------------------\n"
     ]
    },
    {
     "name": "stderr",
     "output_type": "stream",
     "text": [
      "100%|██████████| 10/10 [00:00<00:00, 114.42it/s]\n",
      "100%|██████████| 2/2 [00:00<00:00, 291.20it/s]\n"
     ]
    },
    {
     "name": "stdout",
     "output_type": "stream",
     "text": [
      "Epoch [38/500] - Train Loss: 0.009135, Val Loss: 0.510940\n",
      "========================================\n",
      "Epoch 39/500\n",
      "----------------------------------------\n"
     ]
    },
    {
     "name": "stderr",
     "output_type": "stream",
     "text": [
      "100%|██████████| 10/10 [00:00<00:00, 111.86it/s]\n",
      "100%|██████████| 2/2 [00:00<00:00, 289.52it/s]\n"
     ]
    },
    {
     "name": "stdout",
     "output_type": "stream",
     "text": [
      "Epoch [39/500] - Train Loss: 0.008105, Val Loss: 0.558469\n",
      "========================================\n",
      "Epoch 40/500\n",
      "----------------------------------------\n"
     ]
    },
    {
     "name": "stderr",
     "output_type": "stream",
     "text": [
      "100%|██████████| 10/10 [00:00<00:00, 111.53it/s]\n",
      "100%|██████████| 2/2 [00:00<00:00, 280.55it/s]\n"
     ]
    },
    {
     "name": "stdout",
     "output_type": "stream",
     "text": [
      "Epoch [40/500] - Train Loss: 0.007424, Val Loss: 0.557157\n",
      "========================================\n",
      "Epoch 41/500\n",
      "----------------------------------------\n"
     ]
    },
    {
     "name": "stderr",
     "output_type": "stream",
     "text": [
      "100%|██████████| 10/10 [00:00<00:00, 110.06it/s]\n",
      "100%|██████████| 2/2 [00:00<00:00, 282.97it/s]\n"
     ]
    },
    {
     "name": "stdout",
     "output_type": "stream",
     "text": [
      "Epoch [41/500] - Train Loss: 0.007760, Val Loss: 0.562813\n",
      "========================================\n",
      "Epoch 42/500\n",
      "----------------------------------------\n"
     ]
    },
    {
     "name": "stderr",
     "output_type": "stream",
     "text": [
      "100%|██████████| 10/10 [00:00<00:00, 108.04it/s]\n",
      "100%|██████████| 2/2 [00:00<00:00, 282.04it/s]\n"
     ]
    },
    {
     "name": "stdout",
     "output_type": "stream",
     "text": [
      "Epoch [42/500] - Train Loss: 0.007018, Val Loss: 0.547595\n",
      "========================================\n",
      "Epoch 43/500\n",
      "----------------------------------------\n"
     ]
    },
    {
     "name": "stderr",
     "output_type": "stream",
     "text": [
      "100%|██████████| 10/10 [00:00<00:00, 109.19it/s]\n",
      "100%|██████████| 2/2 [00:00<00:00, 277.75it/s]\n"
     ]
    },
    {
     "name": "stdout",
     "output_type": "stream",
     "text": [
      "Epoch [43/500] - Train Loss: 0.006560, Val Loss: 0.593278\n",
      "========================================\n",
      "Epoch 44/500\n",
      "----------------------------------------\n"
     ]
    },
    {
     "name": "stderr",
     "output_type": "stream",
     "text": [
      "100%|██████████| 10/10 [00:00<00:00, 111.47it/s]\n",
      "100%|██████████| 2/2 [00:00<00:00, 269.69it/s]\n"
     ]
    },
    {
     "name": "stdout",
     "output_type": "stream",
     "text": [
      "Epoch [44/500] - Train Loss: 0.007793, Val Loss: 0.516785\n",
      "========================================\n",
      "Epoch 45/500\n",
      "----------------------------------------\n"
     ]
    },
    {
     "name": "stderr",
     "output_type": "stream",
     "text": [
      "100%|██████████| 10/10 [00:00<00:00, 110.80it/s]\n",
      "100%|██████████| 2/2 [00:00<00:00, 281.57it/s]\n"
     ]
    },
    {
     "name": "stdout",
     "output_type": "stream",
     "text": [
      "Epoch [45/500] - Train Loss: 0.007847, Val Loss: 0.640356\n",
      "========================================\n",
      "Epoch 46/500\n",
      "----------------------------------------\n"
     ]
    },
    {
     "name": "stderr",
     "output_type": "stream",
     "text": [
      "100%|██████████| 10/10 [00:00<00:00, 109.49it/s]\n",
      "100%|██████████| 2/2 [00:00<00:00, 274.16it/s]\n"
     ]
    },
    {
     "name": "stdout",
     "output_type": "stream",
     "text": [
      "Epoch [46/500] - Train Loss: 0.008958, Val Loss: 0.409457\n",
      "========================================\n",
      "Epoch 47/500\n",
      "----------------------------------------\n"
     ]
    },
    {
     "name": "stderr",
     "output_type": "stream",
     "text": [
      "100%|██████████| 10/10 [00:00<00:00, 110.15it/s]\n",
      "100%|██████████| 2/2 [00:00<00:00, 285.86it/s]\n"
     ]
    },
    {
     "name": "stdout",
     "output_type": "stream",
     "text": [
      "Epoch [47/500] - Train Loss: 0.012297, Val Loss: 0.809289\n",
      "========================================\n",
      "Epoch 48/500\n",
      "----------------------------------------\n"
     ]
    },
    {
     "name": "stderr",
     "output_type": "stream",
     "text": [
      "100%|██████████| 10/10 [00:00<00:00, 112.77it/s]\n",
      "100%|██████████| 2/2 [00:00<00:00, 279.65it/s]\n"
     ]
    },
    {
     "name": "stdout",
     "output_type": "stream",
     "text": [
      "Epoch [48/500] - Train Loss: 0.020401, Val Loss: 0.265032\n",
      "========================================\n",
      "Epoch 49/500\n",
      "----------------------------------------\n"
     ]
    },
    {
     "name": "stderr",
     "output_type": "stream",
     "text": [
      "100%|██████████| 10/10 [00:00<00:00, 113.22it/s]\n",
      "100%|██████████| 2/2 [00:00<00:00, 281.02it/s]\n"
     ]
    },
    {
     "name": "stdout",
     "output_type": "stream",
     "text": [
      "Epoch [49/500] - Train Loss: 0.034416, Val Loss: 1.270110\n",
      "========================================\n",
      "Epoch 50/500\n",
      "----------------------------------------\n"
     ]
    },
    {
     "name": "stderr",
     "output_type": "stream",
     "text": [
      "100%|██████████| 10/10 [00:00<00:00, 113.44it/s]\n",
      "100%|██████████| 2/2 [00:00<00:00, 320.05it/s]\n"
     ]
    },
    {
     "name": "stdout",
     "output_type": "stream",
     "text": [
      "Epoch [50/500] - Train Loss: 0.053429, Val Loss: 0.195028\n",
      "========================================\n",
      "Epoch 51/500\n",
      "----------------------------------------\n"
     ]
    },
    {
     "name": "stderr",
     "output_type": "stream",
     "text": [
      "100%|██████████| 10/10 [00:00<00:00, 112.64it/s]\n",
      "100%|██████████| 2/2 [00:00<00:00, 286.46it/s]\n"
     ]
    },
    {
     "name": "stdout",
     "output_type": "stream",
     "text": [
      "Epoch [51/500] - Train Loss: 0.045416, Val Loss: 1.547539\n",
      "========================================\n",
      "Epoch 52/500\n",
      "----------------------------------------\n"
     ]
    },
    {
     "name": "stderr",
     "output_type": "stream",
     "text": [
      "100%|██████████| 10/10 [00:00<00:00, 115.16it/s]\n",
      "100%|██████████| 2/2 [00:00<00:00, 285.73it/s]\n"
     ]
    },
    {
     "name": "stdout",
     "output_type": "stream",
     "text": [
      "Epoch [52/500] - Train Loss: 0.029247, Val Loss: 0.242240\n",
      "========================================\n",
      "Epoch 53/500\n",
      "----------------------------------------\n"
     ]
    },
    {
     "name": "stderr",
     "output_type": "stream",
     "text": [
      "100%|██████████| 10/10 [00:00<00:00, 112.21it/s]\n",
      "100%|██████████| 2/2 [00:00<00:00, 274.84it/s]\n"
     ]
    },
    {
     "name": "stdout",
     "output_type": "stream",
     "text": [
      "Epoch [53/500] - Train Loss: 0.012306, Val Loss: 0.848697\n",
      "========================================\n",
      "Epoch 54/500\n",
      "----------------------------------------\n"
     ]
    },
    {
     "name": "stderr",
     "output_type": "stream",
     "text": [
      "100%|██████████| 10/10 [00:00<00:00, 112.90it/s]\n",
      "100%|██████████| 2/2 [00:00<00:00, 275.81it/s]\n"
     ]
    },
    {
     "name": "stdout",
     "output_type": "stream",
     "text": [
      "Epoch [54/500] - Train Loss: 0.008669, Val Loss: 0.507584\n",
      "========================================\n",
      "Epoch 55/500\n",
      "----------------------------------------\n"
     ]
    },
    {
     "name": "stderr",
     "output_type": "stream",
     "text": [
      "100%|██████████| 10/10 [00:00<00:00, 104.10it/s]\n",
      "100%|██████████| 2/2 [00:00<00:00, 276.36it/s]\n"
     ]
    },
    {
     "name": "stdout",
     "output_type": "stream",
     "text": [
      "Epoch [55/500] - Train Loss: 0.007843, Val Loss: 0.522729\n",
      "========================================\n",
      "Epoch 56/500\n",
      "----------------------------------------\n"
     ]
    },
    {
     "name": "stderr",
     "output_type": "stream",
     "text": [
      "100%|██████████| 10/10 [00:00<00:00, 104.87it/s]\n",
      "100%|██████████| 2/2 [00:00<00:00, 275.93it/s]\n"
     ]
    },
    {
     "name": "stdout",
     "output_type": "stream",
     "text": [
      "Epoch [56/500] - Train Loss: 0.007045, Val Loss: 0.614665\n",
      "========================================\n",
      "Epoch 57/500\n",
      "----------------------------------------\n"
     ]
    },
    {
     "name": "stderr",
     "output_type": "stream",
     "text": [
      "100%|██████████| 10/10 [00:00<00:00, 103.37it/s]\n",
      "100%|██████████| 2/2 [00:00<00:00, 276.43it/s]\n"
     ]
    },
    {
     "name": "stdout",
     "output_type": "stream",
     "text": [
      "Epoch [57/500] - Train Loss: 0.005962, Val Loss: 0.540911\n",
      "========================================\n",
      "Epoch 58/500\n",
      "----------------------------------------\n"
     ]
    },
    {
     "name": "stderr",
     "output_type": "stream",
     "text": [
      "100%|██████████| 10/10 [00:00<00:00, 109.92it/s]\n",
      "100%|██████████| 2/2 [00:00<00:00, 269.97it/s]\n"
     ]
    },
    {
     "name": "stdout",
     "output_type": "stream",
     "text": [
      "Epoch [58/500] - Train Loss: 0.006299, Val Loss: 0.531743\n",
      "========================================\n",
      "Epoch 59/500\n",
      "----------------------------------------\n"
     ]
    },
    {
     "name": "stderr",
     "output_type": "stream",
     "text": [
      "100%|██████████| 10/10 [00:00<00:00, 111.52it/s]\n",
      "100%|██████████| 2/2 [00:00<00:00, 304.97it/s]\n"
     ]
    },
    {
     "name": "stdout",
     "output_type": "stream",
     "text": [
      "Epoch [59/500] - Train Loss: 0.006266, Val Loss: 0.583990\n",
      "========================================\n",
      "Epoch 60/500\n",
      "----------------------------------------\n"
     ]
    },
    {
     "name": "stderr",
     "output_type": "stream",
     "text": [
      "100%|██████████| 10/10 [00:00<00:00, 108.79it/s]\n",
      "100%|██████████| 2/2 [00:00<00:00, 298.76it/s]\n"
     ]
    },
    {
     "name": "stdout",
     "output_type": "stream",
     "text": [
      "Epoch [60/500] - Train Loss: 0.006085, Val Loss: 0.555814\n",
      "========================================\n",
      "Epoch 61/500\n",
      "----------------------------------------\n"
     ]
    },
    {
     "name": "stderr",
     "output_type": "stream",
     "text": [
      "100%|██████████| 10/10 [00:00<00:00, 109.70it/s]\n",
      "100%|██████████| 2/2 [00:00<00:00, 297.44it/s]\n"
     ]
    },
    {
     "name": "stdout",
     "output_type": "stream",
     "text": [
      "Epoch [61/500] - Train Loss: 0.005153, Val Loss: 0.564861\n",
      "========================================\n",
      "Epoch 62/500\n",
      "----------------------------------------\n"
     ]
    },
    {
     "name": "stderr",
     "output_type": "stream",
     "text": [
      "100%|██████████| 10/10 [00:00<00:00, 108.34it/s]\n",
      "100%|██████████| 2/2 [00:00<00:00, 277.43it/s]\n"
     ]
    },
    {
     "name": "stdout",
     "output_type": "stream",
     "text": [
      "Epoch [62/500] - Train Loss: 0.005747, Val Loss: 0.527736\n",
      "========================================\n",
      "Epoch 63/500\n",
      "----------------------------------------\n"
     ]
    },
    {
     "name": "stderr",
     "output_type": "stream",
     "text": [
      "100%|██████████| 10/10 [00:00<00:00, 108.97it/s]\n",
      "100%|██████████| 2/2 [00:00<00:00, 277.58it/s]\n"
     ]
    },
    {
     "name": "stdout",
     "output_type": "stream",
     "text": [
      "Epoch [63/500] - Train Loss: 0.005345, Val Loss: 0.553703\n",
      "========================================\n",
      "Epoch 64/500\n",
      "----------------------------------------\n"
     ]
    },
    {
     "name": "stderr",
     "output_type": "stream",
     "text": [
      "100%|██████████| 10/10 [00:00<00:00, 110.33it/s]\n",
      "100%|██████████| 2/2 [00:00<00:00, 278.66it/s]\n"
     ]
    },
    {
     "name": "stdout",
     "output_type": "stream",
     "text": [
      "Epoch [64/500] - Train Loss: 0.005852, Val Loss: 0.461516\n",
      "========================================\n",
      "Epoch 65/500\n",
      "----------------------------------------\n"
     ]
    },
    {
     "name": "stderr",
     "output_type": "stream",
     "text": [
      "100%|██████████| 10/10 [00:00<00:00, 110.34it/s]\n",
      "100%|██████████| 2/2 [00:00<00:00, 279.87it/s]\n"
     ]
    },
    {
     "name": "stdout",
     "output_type": "stream",
     "text": [
      "Epoch [65/500] - Train Loss: 0.005343, Val Loss: 0.550945\n",
      "========================================\n",
      "Epoch 66/500\n",
      "----------------------------------------\n"
     ]
    },
    {
     "name": "stderr",
     "output_type": "stream",
     "text": [
      "100%|██████████| 10/10 [00:00<00:00, 105.65it/s]\n",
      "100%|██████████| 2/2 [00:00<00:00, 263.78it/s]\n"
     ]
    },
    {
     "name": "stdout",
     "output_type": "stream",
     "text": [
      "Epoch [66/500] - Train Loss: 0.005263, Val Loss: 0.466959\n",
      "========================================\n",
      "Epoch 67/500\n",
      "----------------------------------------\n"
     ]
    },
    {
     "name": "stderr",
     "output_type": "stream",
     "text": [
      "100%|██████████| 10/10 [00:00<00:00, 107.92it/s]\n",
      "100%|██████████| 2/2 [00:00<00:00, 277.43it/s]\n"
     ]
    },
    {
     "name": "stdout",
     "output_type": "stream",
     "text": [
      "Epoch [67/500] - Train Loss: 0.005858, Val Loss: 0.588854\n",
      "========================================\n",
      "Epoch 68/500\n",
      "----------------------------------------\n"
     ]
    },
    {
     "name": "stderr",
     "output_type": "stream",
     "text": [
      "100%|██████████| 10/10 [00:00<00:00, 110.42it/s]\n",
      "100%|██████████| 2/2 [00:00<00:00, 271.95it/s]\n"
     ]
    },
    {
     "name": "stdout",
     "output_type": "stream",
     "text": [
      "Epoch [68/500] - Train Loss: 0.009276, Val Loss: 0.341476\n",
      "========================================\n",
      "Epoch 69/500\n",
      "----------------------------------------\n"
     ]
    },
    {
     "name": "stderr",
     "output_type": "stream",
     "text": [
      "100%|██████████| 10/10 [00:00<00:00, 107.54it/s]\n",
      "100%|██████████| 2/2 [00:00<00:00, 276.32it/s]\n"
     ]
    },
    {
     "name": "stdout",
     "output_type": "stream",
     "text": [
      "Epoch [69/500] - Train Loss: 0.020569, Val Loss: 0.974522\n",
      "========================================\n",
      "Epoch 70/500\n",
      "----------------------------------------\n"
     ]
    },
    {
     "name": "stderr",
     "output_type": "stream",
     "text": [
      "100%|██████████| 10/10 [00:00<00:00, 109.85it/s]\n",
      "100%|██████████| 2/2 [00:00<00:00, 300.43it/s]\n"
     ]
    },
    {
     "name": "stdout",
     "output_type": "stream",
     "text": [
      "Epoch [70/500] - Train Loss: 0.042869, Val Loss: 0.181237\n",
      "========================================\n",
      "Epoch 71/500\n",
      "----------------------------------------\n"
     ]
    },
    {
     "name": "stderr",
     "output_type": "stream",
     "text": [
      "100%|██████████| 10/10 [00:00<00:00, 112.77it/s]\n",
      "100%|██████████| 2/2 [00:00<00:00, 281.73it/s]\n"
     ]
    },
    {
     "name": "stdout",
     "output_type": "stream",
     "text": [
      "Epoch [71/500] - Train Loss: 0.064917, Val Loss: 1.630732\n",
      "========================================\n",
      "Epoch 72/500\n",
      "----------------------------------------\n"
     ]
    },
    {
     "name": "stderr",
     "output_type": "stream",
     "text": [
      "100%|██████████| 10/10 [00:00<00:00, 112.14it/s]\n",
      "100%|██████████| 2/2 [00:00<00:00, 288.15it/s]\n"
     ]
    },
    {
     "name": "stdout",
     "output_type": "stream",
     "text": [
      "Epoch [72/500] - Train Loss: 0.073900, Val Loss: 0.290774\n",
      "========================================\n",
      "Epoch 73/500\n",
      "----------------------------------------\n"
     ]
    },
    {
     "name": "stderr",
     "output_type": "stream",
     "text": [
      "100%|██████████| 10/10 [00:00<00:00, 113.77it/s]\n",
      "100%|██████████| 2/2 [00:00<00:00, 305.26it/s]\n"
     ]
    },
    {
     "name": "stdout",
     "output_type": "stream",
     "text": [
      "Epoch [73/500] - Train Loss: 0.029716, Val Loss: 1.337802\n",
      "========================================\n",
      "Epoch 74/500\n",
      "----------------------------------------\n"
     ]
    },
    {
     "name": "stderr",
     "output_type": "stream",
     "text": [
      "100%|██████████| 10/10 [00:00<00:00, 58.62it/s]\n",
      "100%|██████████| 2/2 [00:00<00:00, 272.78it/s]\n"
     ]
    },
    {
     "name": "stdout",
     "output_type": "stream",
     "text": [
      "Epoch [74/500] - Train Loss: 0.012209, Val Loss: 0.461216\n",
      "========================================\n",
      "Epoch 75/500\n",
      "----------------------------------------\n"
     ]
    },
    {
     "name": "stderr",
     "output_type": "stream",
     "text": [
      "100%|██████████| 10/10 [00:00<00:00, 103.13it/s]\n",
      "100%|██████████| 2/2 [00:00<00:00, 282.07it/s]\n"
     ]
    },
    {
     "name": "stdout",
     "output_type": "stream",
     "text": [
      "Epoch [75/500] - Train Loss: 0.008798, Val Loss: 0.608566\n",
      "========================================\n",
      "Epoch 76/500\n",
      "----------------------------------------\n"
     ]
    },
    {
     "name": "stderr",
     "output_type": "stream",
     "text": [
      "100%|██████████| 10/10 [00:00<00:00, 113.87it/s]\n",
      "100%|██████████| 2/2 [00:00<00:00, 306.97it/s]\n"
     ]
    },
    {
     "name": "stdout",
     "output_type": "stream",
     "text": [
      "Epoch [76/500] - Train Loss: 0.008026, Val Loss: 0.760805\n",
      "========================================\n",
      "Epoch 77/500\n",
      "----------------------------------------\n"
     ]
    },
    {
     "name": "stderr",
     "output_type": "stream",
     "text": [
      "100%|██████████| 10/10 [00:00<00:00, 115.02it/s]\n",
      "100%|██████████| 2/2 [00:00<00:00, 286.78it/s]\n"
     ]
    },
    {
     "name": "stdout",
     "output_type": "stream",
     "text": [
      "Epoch [77/500] - Train Loss: 0.007267, Val Loss: 0.578139\n",
      "========================================\n",
      "Epoch 78/500\n",
      "----------------------------------------\n"
     ]
    },
    {
     "name": "stderr",
     "output_type": "stream",
     "text": [
      "100%|██████████| 10/10 [00:00<00:00, 109.53it/s]\n",
      "100%|██████████| 2/2 [00:00<00:00, 283.45it/s]\n"
     ]
    },
    {
     "name": "stdout",
     "output_type": "stream",
     "text": [
      "Epoch [78/500] - Train Loss: 0.006122, Val Loss: 0.718702\n",
      "========================================\n",
      "Epoch 79/500\n",
      "----------------------------------------\n"
     ]
    },
    {
     "name": "stderr",
     "output_type": "stream",
     "text": [
      "100%|██████████| 10/10 [00:00<00:00, 110.11it/s]\n",
      "100%|██████████| 2/2 [00:00<00:00, 280.41it/s]\n"
     ]
    },
    {
     "name": "stdout",
     "output_type": "stream",
     "text": [
      "Epoch [79/500] - Train Loss: 0.005969, Val Loss: 0.688722\n",
      "========================================\n",
      "Epoch 80/500\n",
      "----------------------------------------\n"
     ]
    },
    {
     "name": "stderr",
     "output_type": "stream",
     "text": [
      "100%|██████████| 10/10 [00:00<00:00, 106.39it/s]\n",
      "100%|██████████| 2/2 [00:00<00:00, 286.95it/s]\n"
     ]
    },
    {
     "name": "stdout",
     "output_type": "stream",
     "text": [
      "Epoch [80/500] - Train Loss: 0.006566, Val Loss: 0.651303\n",
      "========================================\n",
      "Epoch 81/500\n",
      "----------------------------------------\n"
     ]
    },
    {
     "name": "stderr",
     "output_type": "stream",
     "text": [
      "100%|██████████| 10/10 [00:00<00:00, 113.65it/s]\n",
      "100%|██████████| 2/2 [00:00<00:00, 290.03it/s]\n"
     ]
    },
    {
     "name": "stdout",
     "output_type": "stream",
     "text": [
      "Epoch [81/500] - Train Loss: 0.005356, Val Loss: 0.699545\n",
      "========================================\n",
      "Epoch 82/500\n",
      "----------------------------------------\n"
     ]
    },
    {
     "name": "stderr",
     "output_type": "stream",
     "text": [
      "100%|██████████| 10/10 [00:00<00:00, 62.32it/s]\n",
      "100%|██████████| 2/2 [00:00<00:00, 198.79it/s]\n"
     ]
    },
    {
     "name": "stdout",
     "output_type": "stream",
     "text": [
      "Epoch [82/500] - Train Loss: 0.005548, Val Loss: 0.623896\n",
      "========================================\n",
      "Epoch 83/500\n",
      "----------------------------------------\n"
     ]
    },
    {
     "name": "stderr",
     "output_type": "stream",
     "text": [
      "100%|██████████| 10/10 [00:00<00:00, 102.71it/s]\n",
      "100%|██████████| 2/2 [00:00<00:00, 284.49it/s]\n"
     ]
    },
    {
     "name": "stdout",
     "output_type": "stream",
     "text": [
      "Epoch [83/500] - Train Loss: 0.005151, Val Loss: 0.657941\n",
      "========================================\n",
      "Epoch 84/500\n",
      "----------------------------------------\n"
     ]
    },
    {
     "name": "stderr",
     "output_type": "stream",
     "text": [
      "100%|██████████| 10/10 [00:00<00:00, 117.65it/s]\n",
      "100%|██████████| 2/2 [00:00<00:00, 305.48it/s]\n"
     ]
    },
    {
     "name": "stdout",
     "output_type": "stream",
     "text": [
      "Epoch [84/500] - Train Loss: 0.004989, Val Loss: 0.611690\n",
      "========================================\n",
      "Epoch 85/500\n",
      "----------------------------------------\n"
     ]
    },
    {
     "name": "stderr",
     "output_type": "stream",
     "text": [
      "100%|██████████| 10/10 [00:00<00:00, 115.39it/s]\n",
      "100%|██████████| 2/2 [00:00<00:00, 298.91it/s]\n"
     ]
    },
    {
     "name": "stdout",
     "output_type": "stream",
     "text": [
      "Epoch [85/500] - Train Loss: 0.004953, Val Loss: 0.641269\n",
      "========================================\n",
      "Epoch 86/500\n",
      "----------------------------------------\n"
     ]
    },
    {
     "name": "stderr",
     "output_type": "stream",
     "text": [
      "100%|██████████| 10/10 [00:00<00:00, 113.18it/s]\n",
      "100%|██████████| 2/2 [00:00<00:00, 288.84it/s]\n"
     ]
    },
    {
     "name": "stdout",
     "output_type": "stream",
     "text": [
      "Epoch [86/500] - Train Loss: 0.004521, Val Loss: 0.595693\n",
      "========================================\n",
      "Epoch 87/500\n",
      "----------------------------------------\n"
     ]
    },
    {
     "name": "stderr",
     "output_type": "stream",
     "text": [
      "100%|██████████| 10/10 [00:00<00:00, 112.80it/s]\n",
      "100%|██████████| 2/2 [00:00<00:00, 285.15it/s]\n"
     ]
    },
    {
     "name": "stdout",
     "output_type": "stream",
     "text": [
      "Epoch [87/500] - Train Loss: 0.004611, Val Loss: 0.615875\n",
      "========================================\n",
      "Epoch 88/500\n",
      "----------------------------------------\n"
     ]
    },
    {
     "name": "stderr",
     "output_type": "stream",
     "text": [
      "100%|██████████| 10/10 [00:00<00:00, 111.74it/s]\n",
      "100%|██████████| 2/2 [00:00<00:00, 281.42it/s]\n"
     ]
    },
    {
     "name": "stdout",
     "output_type": "stream",
     "text": [
      "Epoch [88/500] - Train Loss: 0.005116, Val Loss: 0.521660\n",
      "========================================\n",
      "Epoch 89/500\n",
      "----------------------------------------\n"
     ]
    },
    {
     "name": "stderr",
     "output_type": "stream",
     "text": [
      "100%|██████████| 10/10 [00:00<00:00, 102.57it/s]\n",
      "100%|██████████| 2/2 [00:00<00:00, 277.00it/s]\n"
     ]
    },
    {
     "name": "stdout",
     "output_type": "stream",
     "text": [
      "Epoch [89/500] - Train Loss: 0.005242, Val Loss: 0.631219\n",
      "========================================\n",
      "Epoch 90/500\n",
      "----------------------------------------\n"
     ]
    },
    {
     "name": "stderr",
     "output_type": "stream",
     "text": [
      "100%|██████████| 10/10 [00:00<00:00, 107.20it/s]\n",
      "100%|██████████| 2/2 [00:00<00:00, 277.08it/s]\n"
     ]
    },
    {
     "name": "stdout",
     "output_type": "stream",
     "text": [
      "Epoch [90/500] - Train Loss: 0.008909, Val Loss: 0.423454\n",
      "========================================\n",
      "Epoch 91/500\n",
      "----------------------------------------\n"
     ]
    },
    {
     "name": "stderr",
     "output_type": "stream",
     "text": [
      "100%|██████████| 10/10 [00:00<00:00, 49.12it/s]\n",
      "100%|██████████| 2/2 [00:00<00:00, 283.21it/s]\n"
     ]
    },
    {
     "name": "stdout",
     "output_type": "stream",
     "text": [
      "Epoch [91/500] - Train Loss: 0.022335, Val Loss: 1.024842\n",
      "========================================\n",
      "Epoch 92/500\n",
      "----------------------------------------\n"
     ]
    },
    {
     "name": "stderr",
     "output_type": "stream",
     "text": [
      "100%|██████████| 10/10 [00:00<00:00, 110.71it/s]\n",
      "100%|██████████| 2/2 [00:00<00:00, 284.01it/s]\n"
     ]
    },
    {
     "name": "stdout",
     "output_type": "stream",
     "text": [
      "Epoch [92/500] - Train Loss: 0.035646, Val Loss: 0.173069\n",
      "========================================\n",
      "Epoch 93/500\n",
      "----------------------------------------\n"
     ]
    },
    {
     "name": "stderr",
     "output_type": "stream",
     "text": [
      "100%|██████████| 10/10 [00:00<00:00, 116.64it/s]\n",
      "100%|██████████| 2/2 [00:00<00:00, 302.89it/s]\n"
     ]
    },
    {
     "name": "stdout",
     "output_type": "stream",
     "text": [
      "Epoch [93/500] - Train Loss: 0.039756, Val Loss: 1.380546\n",
      "========================================\n",
      "Epoch 94/500\n",
      "----------------------------------------\n"
     ]
    },
    {
     "name": "stderr",
     "output_type": "stream",
     "text": [
      "100%|██████████| 10/10 [00:00<00:00, 111.83it/s]\n",
      "100%|██████████| 2/2 [00:00<00:00, 285.23it/s]\n"
     ]
    },
    {
     "name": "stdout",
     "output_type": "stream",
     "text": [
      "Epoch [94/500] - Train Loss: 0.033956, Val Loss: 0.196404\n",
      "========================================\n",
      "Epoch 95/500\n",
      "----------------------------------------\n"
     ]
    },
    {
     "name": "stderr",
     "output_type": "stream",
     "text": [
      "100%|██████████| 10/10 [00:00<00:00, 112.18it/s]\n",
      "100%|██████████| 2/2 [00:00<00:00, 279.56it/s]\n"
     ]
    },
    {
     "name": "stdout",
     "output_type": "stream",
     "text": [
      "Epoch [95/500] - Train Loss: 0.017861, Val Loss: 1.028908\n",
      "========================================\n",
      "Epoch 96/500\n",
      "----------------------------------------\n"
     ]
    },
    {
     "name": "stderr",
     "output_type": "stream",
     "text": [
      "100%|██████████| 10/10 [00:00<00:00, 109.55it/s]\n",
      "100%|██████████| 2/2 [00:00<00:00, 282.52it/s]\n"
     ]
    },
    {
     "name": "stdout",
     "output_type": "stream",
     "text": [
      "Epoch [96/500] - Train Loss: 0.009779, Val Loss: 0.409593\n",
      "========================================\n",
      "Epoch 97/500\n",
      "----------------------------------------\n"
     ]
    },
    {
     "name": "stderr",
     "output_type": "stream",
     "text": [
      "100%|██████████| 10/10 [00:00<00:00, 113.25it/s]\n",
      "100%|██████████| 2/2 [00:00<00:00, 277.24it/s]\n"
     ]
    },
    {
     "name": "stdout",
     "output_type": "stream",
     "text": [
      "Epoch [97/500] - Train Loss: 0.006910, Val Loss: 0.596999\n",
      "========================================\n",
      "Epoch 98/500\n",
      "----------------------------------------\n"
     ]
    },
    {
     "name": "stderr",
     "output_type": "stream",
     "text": [
      "100%|██████████| 10/10 [00:00<00:00, 113.32it/s]\n",
      "100%|██████████| 2/2 [00:00<00:00, 277.69it/s]\n"
     ]
    },
    {
     "name": "stdout",
     "output_type": "stream",
     "text": [
      "Epoch [98/500] - Train Loss: 0.005906, Val Loss: 0.572657\n",
      "========================================\n",
      "Epoch 99/500\n",
      "----------------------------------------\n"
     ]
    },
    {
     "name": "stderr",
     "output_type": "stream",
     "text": [
      "100%|██████████| 10/10 [00:00<00:00, 107.18it/s]\n",
      "100%|██████████| 2/2 [00:00<00:00, 292.87it/s]\n"
     ]
    },
    {
     "name": "stdout",
     "output_type": "stream",
     "text": [
      "Epoch [99/500] - Train Loss: 0.005247, Val Loss: 0.534170\n",
      "========================================\n",
      "Epoch 100/500\n",
      "----------------------------------------\n"
     ]
    },
    {
     "name": "stderr",
     "output_type": "stream",
     "text": [
      "100%|██████████| 10/10 [00:00<00:00, 113.93it/s]\n",
      "100%|██████████| 2/2 [00:00<00:00, 276.86it/s]\n"
     ]
    },
    {
     "name": "stdout",
     "output_type": "stream",
     "text": [
      "Epoch [100/500] - Train Loss: 0.004839, Val Loss: 0.537426\n",
      "========================================\n",
      "Epoch 101/500\n",
      "----------------------------------------\n"
     ]
    },
    {
     "name": "stderr",
     "output_type": "stream",
     "text": [
      "100%|██████████| 10/10 [00:00<00:00, 115.59it/s]\n",
      "100%|██████████| 2/2 [00:00<00:00, 317.86it/s]\n"
     ]
    },
    {
     "name": "stdout",
     "output_type": "stream",
     "text": [
      "Epoch [101/500] - Train Loss: 0.004829, Val Loss: 0.573486\n",
      "========================================\n",
      "Epoch 102/500\n",
      "----------------------------------------\n"
     ]
    },
    {
     "name": "stderr",
     "output_type": "stream",
     "text": [
      "100%|██████████| 10/10 [00:00<00:00, 110.74it/s]\n",
      "100%|██████████| 2/2 [00:00<00:00, 315.86it/s]\n"
     ]
    },
    {
     "name": "stdout",
     "output_type": "stream",
     "text": [
      "Epoch [102/500] - Train Loss: 0.004604, Val Loss: 0.508817\n",
      "========================================\n",
      "Epoch 103/500\n",
      "----------------------------------------\n"
     ]
    },
    {
     "name": "stderr",
     "output_type": "stream",
     "text": [
      "100%|██████████| 10/10 [00:00<00:00, 113.86it/s]\n",
      "100%|██████████| 2/2 [00:00<00:00, 304.37it/s]\n"
     ]
    },
    {
     "name": "stdout",
     "output_type": "stream",
     "text": [
      "Epoch [103/500] - Train Loss: 0.004454, Val Loss: 0.506622\n",
      "========================================\n",
      "Epoch 104/500\n",
      "----------------------------------------\n"
     ]
    },
    {
     "name": "stderr",
     "output_type": "stream",
     "text": [
      "100%|██████████| 10/10 [00:00<00:00, 112.61it/s]\n",
      "100%|██████████| 2/2 [00:00<00:00, 280.02it/s]\n"
     ]
    },
    {
     "name": "stdout",
     "output_type": "stream",
     "text": [
      "Epoch [104/500] - Train Loss: 0.004456, Val Loss: 0.492789\n",
      "========================================\n",
      "Epoch 105/500\n",
      "----------------------------------------\n"
     ]
    },
    {
     "name": "stderr",
     "output_type": "stream",
     "text": [
      "100%|██████████| 10/10 [00:00<00:00, 112.20it/s]\n",
      "100%|██████████| 2/2 [00:00<00:00, 281.88it/s]\n"
     ]
    },
    {
     "name": "stdout",
     "output_type": "stream",
     "text": [
      "Epoch [105/500] - Train Loss: 0.004146, Val Loss: 0.394751\n",
      "========================================\n",
      "Epoch 106/500\n",
      "----------------------------------------\n"
     ]
    },
    {
     "name": "stderr",
     "output_type": "stream",
     "text": [
      "100%|██████████| 10/10 [00:00<00:00, 112.13it/s]\n",
      "100%|██████████| 2/2 [00:00<00:00, 299.18it/s]\n"
     ]
    },
    {
     "name": "stdout",
     "output_type": "stream",
     "text": [
      "Epoch [106/500] - Train Loss: 0.005728, Val Loss: 0.555382\n",
      "========================================\n",
      "Epoch 107/500\n",
      "----------------------------------------\n"
     ]
    },
    {
     "name": "stderr",
     "output_type": "stream",
     "text": [
      "100%|██████████| 10/10 [00:00<00:00, 112.77it/s]\n",
      "100%|██████████| 2/2 [00:00<00:00, 277.86it/s]\n"
     ]
    },
    {
     "name": "stdout",
     "output_type": "stream",
     "text": [
      "Epoch [107/500] - Train Loss: 0.008316, Val Loss: 0.298261\n",
      "========================================\n",
      "Epoch 108/500\n",
      "----------------------------------------\n"
     ]
    },
    {
     "name": "stderr",
     "output_type": "stream",
     "text": [
      "100%|██████████| 10/10 [00:00<00:00, 112.41it/s]\n",
      "100%|██████████| 2/2 [00:00<00:00, 303.40it/s]\n"
     ]
    },
    {
     "name": "stdout",
     "output_type": "stream",
     "text": [
      "Epoch [108/500] - Train Loss: 0.017658, Val Loss: 1.016499\n",
      "========================================\n",
      "Epoch 109/500\n",
      "----------------------------------------\n"
     ]
    },
    {
     "name": "stderr",
     "output_type": "stream",
     "text": [
      "100%|██████████| 10/10 [00:00<00:00, 110.76it/s]\n",
      "100%|██████████| 2/2 [00:00<00:00, 299.72it/s]\n"
     ]
    },
    {
     "name": "stdout",
     "output_type": "stream",
     "text": [
      "Epoch [109/500] - Train Loss: 0.023671, Val Loss: 0.225466\n",
      "========================================\n",
      "Epoch 110/500\n",
      "----------------------------------------\n"
     ]
    },
    {
     "name": "stderr",
     "output_type": "stream",
     "text": [
      "100%|██████████| 10/10 [00:00<00:00, 112.49it/s]\n",
      "100%|██████████| 2/2 [00:00<00:00, 277.24it/s]\n"
     ]
    },
    {
     "name": "stdout",
     "output_type": "stream",
     "text": [
      "Epoch [110/500] - Train Loss: 0.026150, Val Loss: 1.190496\n",
      "========================================\n",
      "Epoch 111/500\n",
      "----------------------------------------\n"
     ]
    },
    {
     "name": "stderr",
     "output_type": "stream",
     "text": [
      "100%|██████████| 10/10 [00:00<00:00, 109.86it/s]\n",
      "100%|██████████| 2/2 [00:00<00:00, 292.22it/s]\n"
     ]
    },
    {
     "name": "stdout",
     "output_type": "stream",
     "text": [
      "Epoch [111/500] - Train Loss: 0.022575, Val Loss: 0.228697\n",
      "========================================\n",
      "Epoch 112/500\n",
      "----------------------------------------\n"
     ]
    },
    {
     "name": "stderr",
     "output_type": "stream",
     "text": [
      "100%|██████████| 10/10 [00:00<00:00, 107.28it/s]\n",
      "100%|██████████| 2/2 [00:00<00:00, 291.37it/s]\n"
     ]
    },
    {
     "name": "stdout",
     "output_type": "stream",
     "text": [
      "Epoch [112/500] - Train Loss: 0.013546, Val Loss: 0.952642\n",
      "========================================\n",
      "Epoch 113/500\n",
      "----------------------------------------\n"
     ]
    },
    {
     "name": "stderr",
     "output_type": "stream",
     "text": [
      "100%|██████████| 10/10 [00:00<00:00, 108.52it/s]\n",
      "100%|██████████| 2/2 [00:00<00:00, 289.47it/s]\n"
     ]
    },
    {
     "name": "stdout",
     "output_type": "stream",
     "text": [
      "Epoch [113/500] - Train Loss: 0.010047, Val Loss: 0.396680\n",
      "========================================\n",
      "Epoch 114/500\n",
      "----------------------------------------\n"
     ]
    },
    {
     "name": "stderr",
     "output_type": "stream",
     "text": [
      "100%|██████████| 10/10 [00:00<00:00, 109.78it/s]\n",
      "100%|██████████| 2/2 [00:00<00:00, 282.81it/s]\n"
     ]
    },
    {
     "name": "stdout",
     "output_type": "stream",
     "text": [
      "Epoch [114/500] - Train Loss: 0.005954, Val Loss: 0.654383\n",
      "========================================\n",
      "Epoch 115/500\n",
      "----------------------------------------\n"
     ]
    },
    {
     "name": "stderr",
     "output_type": "stream",
     "text": [
      "100%|██████████| 10/10 [00:00<00:00, 108.39it/s]\n",
      "100%|██████████| 2/2 [00:00<00:00, 283.93it/s]\n"
     ]
    },
    {
     "name": "stdout",
     "output_type": "stream",
     "text": [
      "Epoch [115/500] - Train Loss: 0.004883, Val Loss: 0.527263\n",
      "========================================\n",
      "Epoch 116/500\n",
      "----------------------------------------\n"
     ]
    },
    {
     "name": "stderr",
     "output_type": "stream",
     "text": [
      "100%|██████████| 10/10 [00:00<00:00, 108.97it/s]\n",
      "100%|██████████| 2/2 [00:00<00:00, 290.40it/s]\n"
     ]
    },
    {
     "name": "stdout",
     "output_type": "stream",
     "text": [
      "Epoch [116/500] - Train Loss: 0.004351, Val Loss: 0.559390\n",
      "========================================\n",
      "Epoch 117/500\n",
      "----------------------------------------\n"
     ]
    },
    {
     "name": "stderr",
     "output_type": "stream",
     "text": [
      "100%|██████████| 10/10 [00:00<00:00, 110.19it/s]\n",
      "100%|██████████| 2/2 [00:00<00:00, 278.91it/s]\n"
     ]
    },
    {
     "name": "stdout",
     "output_type": "stream",
     "text": [
      "Epoch [117/500] - Train Loss: 0.004651, Val Loss: 0.545013\n",
      "========================================\n",
      "Epoch 118/500\n",
      "----------------------------------------\n"
     ]
    },
    {
     "name": "stderr",
     "output_type": "stream",
     "text": [
      "100%|██████████| 10/10 [00:00<00:00, 110.19it/s]\n",
      "100%|██████████| 2/2 [00:00<00:00, 285.72it/s]\n"
     ]
    },
    {
     "name": "stdout",
     "output_type": "stream",
     "text": [
      "Epoch [118/500] - Train Loss: 0.004356, Val Loss: 0.572096\n",
      "========================================\n",
      "Epoch 119/500\n",
      "----------------------------------------\n"
     ]
    },
    {
     "name": "stderr",
     "output_type": "stream",
     "text": [
      "100%|██████████| 10/10 [00:00<00:00, 107.64it/s]\n",
      "100%|██████████| 2/2 [00:00<00:00, 277.90it/s]\n"
     ]
    },
    {
     "name": "stdout",
     "output_type": "stream",
     "text": [
      "Epoch [119/500] - Train Loss: 0.004301, Val Loss: 0.551388\n",
      "========================================\n",
      "Epoch 120/500\n",
      "----------------------------------------\n"
     ]
    },
    {
     "name": "stderr",
     "output_type": "stream",
     "text": [
      "100%|██████████| 10/10 [00:00<00:00, 111.46it/s]\n",
      "100%|██████████| 2/2 [00:00<00:00, 278.40it/s]\n"
     ]
    },
    {
     "name": "stdout",
     "output_type": "stream",
     "text": [
      "Epoch [120/500] - Train Loss: 0.003643, Val Loss: 0.602122\n",
      "========================================\n",
      "Epoch 121/500\n",
      "----------------------------------------\n"
     ]
    },
    {
     "name": "stderr",
     "output_type": "stream",
     "text": [
      "100%|██████████| 10/10 [00:00<00:00, 109.87it/s]\n",
      "100%|██████████| 2/2 [00:00<00:00, 284.00it/s]\n"
     ]
    },
    {
     "name": "stdout",
     "output_type": "stream",
     "text": [
      "Epoch [121/500] - Train Loss: 0.004008, Val Loss: 0.547354\n",
      "========================================\n",
      "Epoch 122/500\n",
      "----------------------------------------\n"
     ]
    },
    {
     "name": "stderr",
     "output_type": "stream",
     "text": [
      "100%|██████████| 10/10 [00:00<00:00, 110.93it/s]\n",
      "100%|██████████| 2/2 [00:00<00:00, 272.68it/s]"
     ]
    },
    {
     "name": "stdout",
     "output_type": "stream",
     "text": [
      "Epoch [122/500] - Train Loss: 0.003996, Val Loss: 0.620122\n",
      "Early stopping triggered after epoch 122\n",
      "\n",
      "Best validation loss: 0.173069\n"
     ]
    },
    {
     "name": "stderr",
     "output_type": "stream",
     "text": [
      "\n"
     ]
    }
   ],
   "source": [
    "best_val_loss = float('inf')\n",
    "patience = 30\n",
    "patience_counter = 0\n",
    "\n",
    "train_losses = []\n",
    "val_losses = []\n",
    "\n",
    "print(f\"Training on device: {device}\")\n",
    "print(f\"Model parameters: {sum(p.numel() for p in model.parameters())}\")\n",
    "\n",
    "for epoch in range(num_epochs):\n",
    "\n",
    "    print(f\"{'='*40}\")\n",
    "    print(f\"Epoch {epoch+1}/{num_epochs}\")\n",
    "    print(f\"{'-'*40}\")\n",
    "\n",
    "    model.train()\n",
    "    train_loss = 0.0\n",
    "\n",
    "    for batch_x, batch_y in tqdm(train_loader):\n",
    "        batch_x, batch_y = batch_x.to(device), batch_y.to(device)\n",
    "\n",
    "        # Zero gradients\n",
    "        optimizer.zero_grad()\n",
    "\n",
    "        # Forward pass\n",
    "        outputs = model(batch_x)\n",
    "        loss = criterion(outputs, batch_y)\n",
    "\n",
    "        # Backward pass\n",
    "        loss.backward()\n",
    "        optimizer.step()\n",
    "\n",
    "        train_loss += loss.item()\n",
    "\n",
    "\n",
    "    model.eval()\n",
    "    val_loss = 0.0\n",
    "\n",
    "    with torch.no_grad():\n",
    "        for batch_x, batch_y in tqdm(val_loader):\n",
    "            batch_x, batch_y = batch_x.to(device), batch_y.to(device)\n",
    "\n",
    "            outputs = model(batch_x)\n",
    "            loss = criterion(outputs, batch_y)\n",
    "            val_loss += loss.item()\n",
    "\n",
    "    avg_train_loss = train_loss / len(train_loader)\n",
    "    avg_val_loss = val_loss / len(val_loader)\n",
    "\n",
    "    train_losses.append(avg_train_loss)\n",
    "    val_losses.append(avg_val_loss)\n",
    "\n",
    "    # scheduler.step()\n",
    "\n",
    "    # Early stopping\n",
    "    if avg_val_loss < best_val_loss:\n",
    "        best_val_loss = avg_val_loss\n",
    "        patience_counter = 0\n",
    "        # torch.save(model.state_dict(), '../models/cnn_bilstm15.pth')\n",
    "    else:\n",
    "        patience_counter += 1\n",
    "\n",
    "    # if epoch % 10 == 0 or epoch == num_epochs - 1:\n",
    "    print(f'Epoch [{epoch+1}/{num_epochs}] - Train Loss: {avg_train_loss:.6f}, Val Loss: {avg_val_loss:.6f}')\n",
    "\n",
    "    # Early stopping check\n",
    "    if patience_counter >= patience:\n",
    "        print(f'Early stopping triggered after epoch {epoch+1}')\n",
    "        break\n",
    "\n",
    "print(f'\\nBest validation loss: {best_val_loss:.6f}')"
   ]
  },
  {
   "cell_type": "code",
   "execution_count": 11,
   "id": "4155aced",
   "metadata": {},
   "outputs": [
    {
     "data": {
      "image/png": "[encoded data removed]",
      "text/plain": [
       "<Figure size 1000x500 with 1 Axes>"
      ]
     },
     "metadata": {},
     "output_type": "display_data"
    }
   ],
   "source": [
    "import matplotlib.pyplot as plt\n",
    "\n",
    "# Plot training and validation losses\n",
    "plt.figure(figsize=(10, 5))\n",
    "plt.plot(train_losses, label='Train Loss', color='blue')\n",
    "plt.plot(val_losses, label='Validation Loss', color='orange')\n",
    "plt.xlabel('Epochs')\n",
    "plt.ylabel('Loss')\n",
    "plt.title('Training and Validation Losses')\n",
    "plt.legend()\n",
    "plt.grid()\n",
    "plt.show()"
   ]
  },
  {
   "cell_type": "code",
   "execution_count": 12,
   "id": "91de50f7",
   "metadata": {},
   "outputs": [
    {
     "name": "stdout",
     "output_type": "stream",
     "text": [
      "Test Loss: 0.276682\n"
     ]
    }
   ],
   "source": [
    "# Test phase\n",
    "model.eval()\n",
    "test_loss = 0.0\n",
    "test_predictions = []\n",
    "test_targets = []\n",
    "\n",
    "with torch.no_grad():\n",
    "    for batch_x, batch_y in test_loader:\n",
    "        batch_x, batch_y = batch_x.to(device), batch_y.to(device)\n",
    "\n",
    "        outputs = model(batch_x)\n",
    "        loss = criterion(outputs, batch_y)\n",
    "        test_loss += loss.item()\n",
    "\n",
    "        test_predictions.extend(outputs.cpu().numpy())\n",
    "        test_targets.extend(batch_y.cpu().numpy())\n",
    "\n",
    "avg_test_loss = test_loss / len(test_loader)\n",
    "print(f'Test Loss: {avg_test_loss:.6f}')\n",
    "\n",
    "# Convert to numpy arrays for analysis\n",
    "test_predictions = np.array(test_predictions)\n",
    "test_targets = np.array(test_targets)"
   ]
  },
  {
   "cell_type": "code",
   "execution_count": 13,
   "id": "9bdc3eba",
   "metadata": {},
   "outputs": [
    {
     "data": {
      "image/png": "[encoded data removed]",
      "text/plain": [
       "<Figure size 1000x500 with 1 Axes>"
      ]
     },
     "metadata": {},
     "output_type": "display_data"
    }
   ],
   "source": [
    "# plot predictions vs targets\n",
    "plt.figure(figsize=(10, 5))\n",
    "plt.plot(test_targets, label='Actual', color='red')\n",
    "plt.plot(test_predictions, label='Predicted', color='blue', linestyle='--')\n",
    "plt.xlabel('Samples')\n",
    "plt.ylabel('Price')\n",
    "plt.title('LSTM Predictions vs Actual Prices')\n",
    "plt.legend()\n",
    "plt.grid()\n",
    "plt.show()"
   ]
  },
  {
   "cell_type": "code",
   "execution_count": null,
   "id": "23b8974c",
   "metadata": {},
   "outputs": [],
   "source": []
  },
  {
   "cell_type": "code",
   "execution_count": null,
   "id": "0a3f033e",
   "metadata": {},
   "outputs": [],
   "source": []
  },
  {
   "cell_type": "code",
   "execution_count": null,
   "id": "2eb51d6d",
   "metadata": {},
   "outputs": [],
   "source": []
  },
  {
   "cell_type": "code",
   "execution_count": null,
   "id": "7ed17f06",
   "metadata": {},
   "outputs": [],
   "source": []
  },
  {
   "cell_type": "code",
   "execution_count": 14,
   "id": "5726abb9",
   "metadata": {},
   "outputs": [],
   "source": [
    "class CNN_BiLSTM_Attention(nn.Module):\n",
    "    def __init__(self, input_dim, conv_filters=96, conv_kernel=3, lstm_hidden=12, num_bilstm_layers=2, attn_heads=4, attn_dim=64, dropout=0.25):\n",
    "        super().__init__()\n",
    "        self.conv1 = nn.Conv1d(input_dim, conv_filters, kernel_size=conv_kernel, padding=conv_kernel//2)\n",
    "        self.conv2 = nn.Conv1d(conv_filters, conv_filters, kernel_size=conv_kernel, padding=conv_kernel//2)\n",
    "        self.relu = nn.ReLU()\n",
    "        self.dropout = nn.Dropout(dropout)\n",
    "        self.bilstm = nn.LSTM(input_size=conv_filters, hidden_size=lstm_hidden, num_layers=num_bilstm_layers, batch_first=True, bidirectional=True)\n",
    "        # Use PyTorch MultiheadAttention: needs embedding dim. We'll map BiLSTM outputs to attn_dim\n",
    "        self.proj = nn.Linear(2*lstm_hidden, attn_dim)\n",
    "        self.attn = nn.MultiheadAttention(embed_dim=attn_dim, num_heads=attn_heads, batch_first=True)\n",
    "        self.out_fc = nn.Sequential(\n",
    "            nn.Linear(attn_dim, 64),\n",
    "            nn.ReLU(),\n",
    "            nn.Linear(64, 1)\n",
    "        )\n",
    "\n",
    "    def forward(self, x):\n",
    "        # x: B,T,F\n",
    "        x = x.permute(0,2,1)              # B,F,T\n",
    "        x = self.conv1(x)\n",
    "        x = self.relu(x)\n",
    "        x = self.conv2(x)\n",
    "        x = self.relu(x)\n",
    "        x = x.permute(0,2,1)              # B,T,conv_filters\n",
    "        x = self.dropout(x)\n",
    "        out, _ = self.bilstm(x)           # B,T,2*lstm_hidden\n",
    "        proj = self.proj(out)             # B,T,attn_dim\n",
    "        # MultiheadAttention expects (B, T, E) if batch_first=True\n",
    "        attn_out, _ = self.attn(proj, proj, proj)  # self-attention\n",
    "        # Pool (use last time step or mean)\n",
    "        pooled = attn_out.mean(dim=1)     # B, attn_dim\n",
    "        out = self.out_fc(pooled)         # B,1\n",
    "        return out.squeeze(-1)\n"
   ]
  },
  {
   "cell_type": "code",
   "execution_count": 15,
   "id": "c685e88e",
   "metadata": {},
   "outputs": [],
   "source": [
    "model2 = CNN_BiLSTM_Attention(input_dim=len(features))"
   ]
  },
  {
   "cell_type": "code",
   "execution_count": 16,
   "id": "3eda2baa",
   "metadata": {},
   "outputs": [],
   "source": [
    "model2 = model2.to(device)\n",
    "\n",
    "criterion = nn.MSELoss()\n",
    "optimizer = torch.optim.Adam(\n",
    "    model.parameters(),\n",
    "    lr=learning_rate,\n",
    "    # weight_decay=l2_penalty\n",
    ")\n",
    "\n",
    "# scheduler = torch.optim.lr_scheduler.ExponentialLR(\n",
    "#     optimizer,\n",
    "#     gamma=decay_rate\n",
    "# )\n",
    "scheduler = torch.optim.lr_scheduler.StepLR(\n",
    "    optimizer,\n",
    "    step_size=5,\n",
    "    gamma=decay_rate\n",
    ")"
   ]
  },
  {
   "cell_type": "code",
   "execution_count": 17,
   "id": "3d507e10",
   "metadata": {},
   "outputs": [
    {
     "name": "stdout",
     "output_type": "stream",
     "text": [
      "Training on device: mps\n",
      "Model parameters: 68545\n",
      "========================================\n",
      "Epoch 1/500\n",
      "----------------------------------------\n"
     ]
    },
    {
     "name": "stderr",
     "output_type": "stream",
     "text": [
      "100%|██████████| 10/10 [00:00<00:00, 12.43it/s]\n",
      "100%|██████████| 2/2 [00:00<00:00, 34.95it/s]\n"
     ]
    },
    {
     "name": "stdout",
     "output_type": "stream",
     "text": [
      "Epoch [1/500] - Train Loss: 1.072825, Val Loss: 19.453763\n",
      "========================================\n",
      "Epoch 2/500\n",
      "----------------------------------------\n"
     ]
    },
    {
     "name": "stderr",
     "output_type": "stream",
     "text": [
      "100%|██████████| 10/10 [00:00<00:00, 110.33it/s]\n",
      "100%|██████████| 2/2 [00:00<00:00, 272.22it/s]\n"
     ]
    },
    {
     "name": "stdout",
     "output_type": "stream",
     "text": [
      "Epoch [2/500] - Train Loss: 1.072825, Val Loss: 19.453763\n",
      "========================================\n",
      "Epoch 3/500\n",
      "----------------------------------------\n"
     ]
    },
    {
     "name": "stderr",
     "output_type": "stream",
     "text": [
      "100%|██████████| 10/10 [00:00<00:00, 95.34it/s]\n",
      "100%|██████████| 2/2 [00:00<00:00, 263.68it/s]\n"
     ]
    },
    {
     "name": "stdout",
     "output_type": "stream",
     "text": [
      "Epoch [3/500] - Train Loss: 1.072825, Val Loss: 19.453763\n",
      "========================================\n",
      "Epoch 4/500\n",
      "----------------------------------------\n"
     ]
    },
    {
     "name": "stderr",
     "output_type": "stream",
     "text": [
      "100%|██████████| 10/10 [00:00<00:00, 108.50it/s]\n",
      "100%|██████████| 2/2 [00:00<00:00, 266.03it/s]\n"
     ]
    },
    {
     "name": "stdout",
     "output_type": "stream",
     "text": [
      "Epoch [4/500] - Train Loss: 1.072825, Val Loss: 19.453763\n",
      "========================================\n",
      "Epoch 5/500\n",
      "----------------------------------------\n"
     ]
    },
    {
     "name": "stderr",
     "output_type": "stream",
     "text": [
      "100%|██████████| 10/10 [00:00<00:00, 108.54it/s]\n",
      "100%|██████████| 2/2 [00:00<00:00, 259.20it/s]\n"
     ]
    },
    {
     "name": "stdout",
     "output_type": "stream",
     "text": [
      "Epoch [5/500] - Train Loss: 1.072825, Val Loss: 19.453763\n",
      "========================================\n",
      "Epoch 6/500\n",
      "----------------------------------------\n"
     ]
    },
    {
     "name": "stderr",
     "output_type": "stream",
     "text": [
      "100%|██████████| 10/10 [00:00<00:00, 107.59it/s]\n",
      "100%|██████████| 2/2 [00:00<00:00, 276.40it/s]\n"
     ]
    },
    {
     "name": "stdout",
     "output_type": "stream",
     "text": [
      "Epoch [6/500] - Train Loss: 1.072825, Val Loss: 19.453763\n",
      "========================================\n",
      "Epoch 7/500\n",
      "----------------------------------------\n"
     ]
    },
    {
     "name": "stderr",
     "output_type": "stream",
     "text": [
      "100%|██████████| 10/10 [00:00<00:00, 113.22it/s]\n",
      "100%|██████████| 2/2 [00:00<00:00, 251.13it/s]\n"
     ]
    },
    {
     "name": "stdout",
     "output_type": "stream",
     "text": [
      "Epoch [7/500] - Train Loss: 1.072825, Val Loss: 19.453763\n",
      "========================================\n",
      "Epoch 8/500\n",
      "----------------------------------------\n"
     ]
    },
    {
     "name": "stderr",
     "output_type": "stream",
     "text": [
      "100%|██████████| 10/10 [00:00<00:00, 110.75it/s]\n",
      "100%|██████████| 2/2 [00:00<00:00, 250.98it/s]\n"
     ]
    },
    {
     "name": "stdout",
     "output_type": "stream",
     "text": [
      "Epoch [8/500] - Train Loss: 1.072825, Val Loss: 19.453763\n",
      "========================================\n",
      "Epoch 9/500\n",
      "----------------------------------------\n"
     ]
    },
    {
     "name": "stderr",
     "output_type": "stream",
     "text": [
      "100%|██████████| 10/10 [00:00<00:00, 111.04it/s]\n",
      "100%|██████████| 2/2 [00:00<00:00, 259.95it/s]\n"
     ]
    },
    {
     "name": "stdout",
     "output_type": "stream",
     "text": [
      "Epoch [9/500] - Train Loss: 1.072825, Val Loss: 19.453763\n",
      "========================================\n",
      "Epoch 10/500\n",
      "----------------------------------------\n"
     ]
    },
    {
     "name": "stderr",
     "output_type": "stream",
     "text": [
      "100%|██████████| 10/10 [00:00<00:00, 114.99it/s]\n",
      "100%|██████████| 2/2 [00:00<00:00, 257.67it/s]\n"
     ]
    },
    {
     "name": "stdout",
     "output_type": "stream",
     "text": [
      "Epoch [10/500] - Train Loss: 1.072825, Val Loss: 19.453763\n",
      "========================================\n",
      "Epoch 11/500\n",
      "----------------------------------------\n"
     ]
    },
    {
     "name": "stderr",
     "output_type": "stream",
     "text": [
      "100%|██████████| 10/10 [00:00<00:00, 108.68it/s]\n",
      "100%|██████████| 2/2 [00:00<00:00, 251.26it/s]\n"
     ]
    },
    {
     "name": "stdout",
     "output_type": "stream",
     "text": [
      "Epoch [11/500] - Train Loss: 1.072825, Val Loss: 19.453763\n",
      "========================================\n",
      "Epoch 12/500\n",
      "----------------------------------------\n"
     ]
    },
    {
     "name": "stderr",
     "output_type": "stream",
     "text": [
      "100%|██████████| 10/10 [00:00<00:00, 109.44it/s]\n",
      "100%|██████████| 2/2 [00:00<00:00, 258.56it/s]\n"
     ]
    },
    {
     "name": "stdout",
     "output_type": "stream",
     "text": [
      "Epoch [12/500] - Train Loss: 1.072825, Val Loss: 19.453763\n",
      "========================================\n",
      "Epoch 13/500\n",
      "----------------------------------------\n"
     ]
    },
    {
     "name": "stderr",
     "output_type": "stream",
     "text": [
      "100%|██████████| 10/10 [00:00<00:00, 110.59it/s]\n",
      "100%|██████████| 2/2 [00:00<00:00, 254.13it/s]\n"
     ]
    },
    {
     "name": "stdout",
     "output_type": "stream",
     "text": [
      "Epoch [13/500] - Train Loss: 1.072825, Val Loss: 19.453763\n",
      "========================================\n",
      "Epoch 14/500\n",
      "----------------------------------------\n"
     ]
    },
    {
     "name": "stderr",
     "output_type": "stream",
     "text": [
      "100%|██████████| 10/10 [00:00<00:00, 109.44it/s]\n",
      "100%|██████████| 2/2 [00:00<00:00, 260.79it/s]\n"
     ]
    },
    {
     "name": "stdout",
     "output_type": "stream",
     "text": [
      "Epoch [14/500] - Train Loss: 1.072825, Val Loss: 19.453763\n",
      "========================================\n",
      "Epoch 15/500\n",
      "----------------------------------------\n"
     ]
    },
    {
     "name": "stderr",
     "output_type": "stream",
     "text": [
      "100%|██████████| 10/10 [00:00<00:00, 112.07it/s]\n",
      "100%|██████████| 2/2 [00:00<00:00, 267.42it/s]\n"
     ]
    },
    {
     "name": "stdout",
     "output_type": "stream",
     "text": [
      "Epoch [15/500] - Train Loss: 1.072825, Val Loss: 19.453763\n",
      "========================================\n",
      "Epoch 16/500\n",
      "----------------------------------------\n"
     ]
    },
    {
     "name": "stderr",
     "output_type": "stream",
     "text": [
      "100%|██████████| 10/10 [00:00<00:00, 110.09it/s]\n",
      "100%|██████████| 2/2 [00:00<00:00, 248.82it/s]\n"
     ]
    },
    {
     "name": "stdout",
     "output_type": "stream",
     "text": [
      "Epoch [16/500] - Train Loss: 1.072825, Val Loss: 19.453763\n",
      "========================================\n",
      "Epoch 17/500\n",
      "----------------------------------------\n"
     ]
    },
    {
     "name": "stderr",
     "output_type": "stream",
     "text": [
      "100%|██████████| 10/10 [00:00<00:00, 107.32it/s]\n",
      "100%|██████████| 2/2 [00:00<00:00, 247.77it/s]\n"
     ]
    },
    {
     "name": "stdout",
     "output_type": "stream",
     "text": [
      "Epoch [17/500] - Train Loss: 1.072825, Val Loss: 19.453763\n",
      "========================================\n",
      "Epoch 18/500\n",
      "----------------------------------------\n"
     ]
    },
    {
     "name": "stderr",
     "output_type": "stream",
     "text": [
      "100%|██████████| 10/10 [00:00<00:00, 107.99it/s]\n",
      "100%|██████████| 2/2 [00:00<00:00, 267.38it/s]\n"
     ]
    },
    {
     "name": "stdout",
     "output_type": "stream",
     "text": [
      "Epoch [18/500] - Train Loss: 1.072825, Val Loss: 19.453763\n",
      "========================================\n",
      "Epoch 19/500\n",
      "----------------------------------------\n"
     ]
    },
    {
     "name": "stderr",
     "output_type": "stream",
     "text": [
      "100%|██████████| 10/10 [00:00<00:00, 108.93it/s]\n",
      "100%|██████████| 2/2 [00:00<00:00, 266.20it/s]\n"
     ]
    },
    {
     "name": "stdout",
     "output_type": "stream",
     "text": [
      "Epoch [19/500] - Train Loss: 1.072825, Val Loss: 19.453763\n",
      "========================================\n",
      "Epoch 20/500\n",
      "----------------------------------------\n"
     ]
    },
    {
     "name": "stderr",
     "output_type": "stream",
     "text": [
      "100%|██████████| 10/10 [00:00<00:00, 110.90it/s]\n",
      "100%|██████████| 2/2 [00:00<00:00, 263.75it/s]\n"
     ]
    },
    {
     "name": "stdout",
     "output_type": "stream",
     "text": [
      "Epoch [20/500] - Train Loss: 1.072825, Val Loss: 19.453763\n",
      "========================================\n",
      "Epoch 21/500\n",
      "----------------------------------------\n"
     ]
    },
    {
     "name": "stderr",
     "output_type": "stream",
     "text": [
      "100%|██████████| 10/10 [00:00<00:00, 109.38it/s]\n",
      "100%|██████████| 2/2 [00:00<00:00, 268.02it/s]\n"
     ]
    },
    {
     "name": "stdout",
     "output_type": "stream",
     "text": [
      "Epoch [21/500] - Train Loss: 1.072825, Val Loss: 19.453763\n",
      "========================================\n",
      "Epoch 22/500\n",
      "----------------------------------------\n"
     ]
    },
    {
     "name": "stderr",
     "output_type": "stream",
     "text": [
      "100%|██████████| 10/10 [00:00<00:00, 110.77it/s]\n",
      "100%|██████████| 2/2 [00:00<00:00, 266.31it/s]\n"
     ]
    },
    {
     "name": "stdout",
     "output_type": "stream",
     "text": [
      "Epoch [22/500] - Train Loss: 1.072825, Val Loss: 19.453763\n",
      "========================================\n",
      "Epoch 23/500\n",
      "----------------------------------------\n"
     ]
    },
    {
     "name": "stderr",
     "output_type": "stream",
     "text": [
      "100%|██████████| 10/10 [00:00<00:00, 109.71it/s]\n",
      "100%|██████████| 2/2 [00:00<00:00, 269.14it/s]\n"
     ]
    },
    {
     "name": "stdout",
     "output_type": "stream",
     "text": [
      "Epoch [23/500] - Train Loss: 1.072825, Val Loss: 19.453763\n",
      "========================================\n",
      "Epoch 24/500\n",
      "----------------------------------------\n"
     ]
    },
    {
     "name": "stderr",
     "output_type": "stream",
     "text": [
      "100%|██████████| 10/10 [00:00<00:00, 108.83it/s]\n",
      "100%|██████████| 2/2 [00:00<00:00, 253.33it/s]\n"
     ]
    },
    {
     "name": "stdout",
     "output_type": "stream",
     "text": [
      "Epoch [24/500] - Train Loss: 1.072825, Val Loss: 19.453763\n",
      "========================================\n",
      "Epoch 25/500\n",
      "----------------------------------------\n"
     ]
    },
    {
     "name": "stderr",
     "output_type": "stream",
     "text": [
      "100%|██████████| 10/10 [00:00<00:00, 109.96it/s]\n",
      "100%|██████████| 2/2 [00:00<00:00, 248.85it/s]\n"
     ]
    },
    {
     "name": "stdout",
     "output_type": "stream",
     "text": [
      "Epoch [25/500] - Train Loss: 1.072825, Val Loss: 19.453763\n",
      "========================================\n",
      "Epoch 26/500\n",
      "----------------------------------------\n"
     ]
    },
    {
     "name": "stderr",
     "output_type": "stream",
     "text": [
      "100%|██████████| 10/10 [00:00<00:00, 107.73it/s]\n",
      "100%|██████████| 2/2 [00:00<00:00, 255.82it/s]\n"
     ]
    },
    {
     "name": "stdout",
     "output_type": "stream",
     "text": [
      "Epoch [26/500] - Train Loss: 1.072825, Val Loss: 19.453763\n",
      "========================================\n",
      "Epoch 27/500\n",
      "----------------------------------------\n"
     ]
    },
    {
     "name": "stderr",
     "output_type": "stream",
     "text": [
      "100%|██████████| 10/10 [00:00<00:00, 111.47it/s]\n",
      "100%|██████████| 2/2 [00:00<00:00, 249.62it/s]\n"
     ]
    },
    {
     "name": "stdout",
     "output_type": "stream",
     "text": [
      "Epoch [27/500] - Train Loss: 1.072825, Val Loss: 19.453763\n",
      "========================================\n",
      "Epoch 28/500\n",
      "----------------------------------------\n"
     ]
    },
    {
     "name": "stderr",
     "output_type": "stream",
     "text": [
      "100%|██████████| 10/10 [00:00<00:00, 105.66it/s]\n",
      "100%|██████████| 2/2 [00:00<00:00, 248.05it/s]\n"
     ]
    },
    {
     "name": "stdout",
     "output_type": "stream",
     "text": [
      "Epoch [28/500] - Train Loss: 1.072825, Val Loss: 19.453763\n",
      "========================================\n",
      "Epoch 29/500\n",
      "----------------------------------------\n"
     ]
    },
    {
     "name": "stderr",
     "output_type": "stream",
     "text": [
      "100%|██████████| 10/10 [00:00<00:00, 110.18it/s]\n",
      "100%|██████████| 2/2 [00:00<00:00, 268.24it/s]\n"
     ]
    },
    {
     "name": "stdout",
     "output_type": "stream",
     "text": [
      "Epoch [29/500] - Train Loss: 1.072825, Val Loss: 19.453763\n",
      "========================================\n",
      "Epoch 30/500\n",
      "----------------------------------------\n"
     ]
    },
    {
     "name": "stderr",
     "output_type": "stream",
     "text": [
      "100%|██████████| 10/10 [00:00<00:00, 111.76it/s]\n",
      "100%|██████████| 2/2 [00:00<00:00, 255.56it/s]\n"
     ]
    },
    {
     "name": "stdout",
     "output_type": "stream",
     "text": [
      "Epoch [30/500] - Train Loss: 1.072825, Val Loss: 19.453763\n",
      "========================================\n",
      "Epoch 31/500\n",
      "----------------------------------------\n"
     ]
    },
    {
     "name": "stderr",
     "output_type": "stream",
     "text": [
      "100%|██████████| 10/10 [00:00<00:00, 47.17it/s]\n",
      "100%|██████████| 2/2 [00:00<00:00, 273.04it/s]"
     ]
    },
    {
     "name": "stdout",
     "output_type": "stream",
     "text": [
      "Epoch [31/500] - Train Loss: 1.072825, Val Loss: 19.453763\n",
      "Early stopping triggered after epoch 31\n",
      "\n",
      "Best validation loss: 19.453763\n"
     ]
    },
    {
     "name": "stderr",
     "output_type": "stream",
     "text": [
      "\n"
     ]
    }
   ],
   "source": [
    "best_val_loss = float('inf')\n",
    "patience = 30\n",
    "patience_counter = 0\n",
    "\n",
    "train_losses = []\n",
    "val_losses = []\n",
    "\n",
    "print(f\"Training on device: {device}\")\n",
    "print(f\"Model parameters: {sum(p.numel() for p in model2.parameters())}\")\n",
    "\n",
    "for epoch in range(num_epochs):\n",
    "\n",
    "    print(f\"{'='*40}\")\n",
    "    print(f\"Epoch {epoch+1}/{num_epochs}\")\n",
    "    print(f\"{'-'*40}\")\n",
    "\n",
    "    model2.train()\n",
    "    train_loss = 0.0\n",
    "\n",
    "    for batch_x, batch_y in tqdm(train_loader):\n",
    "        batch_x, batch_y = batch_x.to(device), batch_y.to(device)\n",
    "\n",
    "        # Zero gradients\n",
    "        optimizer.zero_grad()\n",
    "\n",
    "        # Forward pass\n",
    "        outputs = model2(batch_x)\n",
    "        loss = criterion(outputs, batch_y)\n",
    "\n",
    "        # Backward pass\n",
    "        loss.backward()\n",
    "        optimizer.step()\n",
    "\n",
    "        train_loss += loss.item()\n",
    "\n",
    "\n",
    "    model2.eval()\n",
    "    val_loss = 0.0\n",
    "\n",
    "    with torch.no_grad():\n",
    "        for batch_x, batch_y in tqdm(val_loader):\n",
    "            batch_x, batch_y = batch_x.to(device), batch_y.to(device)\n",
    "\n",
    "            outputs = model2(batch_x)\n",
    "            loss = criterion(outputs, batch_y)\n",
    "            val_loss += loss.item()\n",
    "\n",
    "    avg_train_loss = train_loss / len(train_loader)\n",
    "    avg_val_loss = val_loss / len(val_loader)\n",
    "\n",
    "    train_losses.append(avg_train_loss)\n",
    "    val_losses.append(avg_val_loss)\n",
    "\n",
    "    # scheduler.step()\n",
    "\n",
    "    # Early stopping\n",
    "    if avg_val_loss < best_val_loss:\n",
    "        best_val_loss = avg_val_loss\n",
    "        patience_counter = 0\n",
    "        # torch.save(model.state_dict(), '../models/cnn_bilstm15.pth')\n",
    "    else:\n",
    "        patience_counter += 1\n",
    "\n",
    "    # if epoch % 10 == 0 or epoch == num_epochs - 1:\n",
    "    print(f'Epoch [{epoch+1}/{num_epochs}] - Train Loss: {avg_train_loss:.6f}, Val Loss: {avg_val_loss:.6f}')\n",
    "\n",
    "    # Early stopping check\n",
    "    if patience_counter >= patience:\n",
    "        print(f'Early stopping triggered after epoch {epoch+1}')\n",
    "        break\n",
    "\n",
    "print(f'\\nBest validation loss: {best_val_loss:.6f}')"
   ]
  },
  {
   "cell_type": "code",
   "execution_count": null,
   "id": "9c8cbabf",
   "metadata": {},
   "outputs": [],
   "source": []
  }
 ],
 "metadata": {
  "kernelspec": {
   "display_name": "Python 3",
   "language": "python",
   "name": "python3"
  },
  "language_info": {
   "codemirror_mode": {
    "name": "ipython",
    "version": 3
   },
   "file_extension": ".py",
   "mimetype": "text/x-python",
   "name": "python",
   "nbconvert_exporter": "python",
   "pygments_lexer": "ipython3",
   "version": "3.11.13"
  }
 },
 "nbformat": 4,
 "nbformat_minor": 5
}
